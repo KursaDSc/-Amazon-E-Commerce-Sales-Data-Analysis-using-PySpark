{
  "nbformat": 4,
  "nbformat_minor": 0,
  "metadata": {
    "colab": {
      "provenance": [],
      "toc_visible": true,
      "authorship_tag": "ABX9TyMV/cS9SJW2m0vYc+q3rDue"
    },
    "kernelspec": {
      "name": "python3",
      "display_name": "Python 3"
    },
    "language_info": {
      "name": "python"
    }
  },
  "cells": [
    {
      "cell_type": "markdown",
      "source": [
        "# 🚀 Amazon Sales Data Analysis Project"
      ],
      "metadata": {
        "id": "1M9MPpF6Elzp"
      }
    },
    {
      "cell_type": "markdown",
      "source": [
        "## Introduction\n",
        "This study is designed to examine large-scale Amazon sales data, which forms the foundation of the rapidly growing e-commerce world. The project aims not only to present data analysis results but also to deeply explore the technological infrastructure of modern data science approaches. In this context, starting with the fundamental principles of Big Data (Volume, Velocity, Variety), the industry standard framework for distributed and high-performance data processing, Apache Spark (PySpark), will be utilized. Throughout the work, the differences between Spark's core building blocks, RDDs and DataFrames, will be investigated, and data loading processes will be addressed within the context of Distributed Storage solutions such as HDFS and S3. Finally, data will be processed using PySpark's powerful filtering, aggregation, and joining capabilities, the findings will be presented through visualization tasks, and the work will be concluded with a mini analysis report. Our goal is to leverage the power of PySpark to uncover critical business trends and operational insights within the Amazon sales data: [Amazon Sale Report.csv](https://3678736131-files.gitbook.io/~/files/v0/b/gitbook-x-prod.appspot.com/o/spaces%2FXhceq1glyy51JLqIb03M%2Fuploads%2FlAOjNY6ycOels0MWL1j9%2FAmazon%20Sale%20Report.csv?alt=media&token=0f0068b1-8454-4a6c-9feb-de172edf2682)"
      ],
      "metadata": {
        "id": "EVC52iQXIS10"
      }
    },
    {
      "cell_type": "markdown",
      "source": [
        "## Project Details\n",
        "\n",
        "* **Framework:** Apache PySpark\n",
        "* **Environment:** Google Colab / Jupyter Notebook\n",
        "* **Visualization:** Matplotlib & Seaborn\n",
        "* **Output:** Single .ipynb file + Short Summary Report"
      ],
      "metadata": {
        "id": "3ybbUfRnITxL"
      }
    },
    {
      "cell_type": "markdown",
      "source": [
        "## Setup and Environment Configuration"
      ],
      "metadata": {
        "id": "6EmZ-p5UHtQw"
      }
    },
    {
      "cell_type": "code",
      "source": [
        "## COMPLETE PYSPARK SETUP: VERIFIED METHOD FOR COLAB\n",
        "\n",
        "print(\"1. Installing OpenJDK...\")\n",
        "# 1. Install OpenJDK (Java is required for Spark)\n",
        "!apt-get install openjdk-8-jdk-headless -qq > /dev/null\n",
        "\n",
        "print(\"2. Downloading Apache Spark...\")\n",
        "# 2. Download Apache Spark 3.5.1 (Direct link using a common mirror)\n",
        "!wget -q https://archive.apache.org/dist/spark/spark-3.5.1/spark-3.5.1-bin-hadoop3.tgz -O spark.tgz\n",
        "\n",
        "# 3. Extract the Spark file\n",
        "print(\"3. Extracting Spark files...\")\n",
        "!tar xf spark.tgz\n",
        "\n",
        "# 4. Clean up the archive file\n",
        "!rm spark.tgz\n",
        "\n",
        "# 5. Install findspark library\n",
        "print(\"4. Installing findspark...\")\n",
        "!pip install -q findspark\n",
        "\n",
        "# 6. Set Environment Variables\n",
        "print(\"5. Setting environment variables...\")\n",
        "import os\n",
        "import findspark\n",
        "from pyspark.sql import SparkSession\n",
        "\n",
        "# Set SPARK_HOME to the extracted folder (Note: folder name is long, be careful)\n",
        "os.environ[\"SPARK_HOME\"] = \"/content/spark-3.5.1-bin-hadoop3\"\n",
        "\n",
        "# Set JAVA_HOME\n",
        "os.environ[\"JAVA_HOME\"] = \"/usr/lib/jvm/java-8-openjdk-amd64\"\n",
        "\n",
        "# Initialize findspark\n",
        "findspark.init()\n",
        "\n",
        "# 7. Create a Spark Session\n",
        "print(\"6. Initializing Spark Session...\")\n",
        "spark = SparkSession.builder\\\n",
        "        .master(\"local[*]\")\\\n",
        "        .appName(\"AmazonAnalysis\")\\\n",
        "        .getOrCreate()\n",
        "\n",
        "# VERIFICATION\n",
        "print(\"\\n--- Spark Setup Complete ---\")\n",
        "print(\"Spark Session successfully created:\")\n",
        "spark"
      ],
      "metadata": {
        "colab": {
          "base_uri": "https://localhost:8080/",
          "height": 375
        },
        "id": "0rzSxipOu22D",
        "outputId": "8057dfad-3166-4519-bfc5-55349c7666ac"
      },
      "execution_count": 1,
      "outputs": [
        {
          "output_type": "stream",
          "name": "stdout",
          "text": [
            "1. Installing OpenJDK...\n",
            "2. Downloading Apache Spark...\n",
            "3. Extracting Spark files...\n",
            "4. Installing findspark...\n",
            "5. Setting environment variables...\n",
            "6. Initializing Spark Session...\n",
            "\n",
            "--- Spark Setup Complete ---\n",
            "Spark Session successfully created:\n"
          ]
        },
        {
          "output_type": "execute_result",
          "data": {
            "text/plain": [
              "<pyspark.sql.session.SparkSession at 0x7b641ea2ec90>"
            ],
            "text/html": [
              "\n",
              "            <div>\n",
              "                <p><b>SparkSession - in-memory</b></p>\n",
              "                \n",
              "        <div>\n",
              "            <p><b>SparkContext</b></p>\n",
              "\n",
              "            <p><a href=\"http://4b7728a9dd7d:4040\">Spark UI</a></p>\n",
              "\n",
              "            <dl>\n",
              "              <dt>Version</dt>\n",
              "                <dd><code>v3.5.1</code></dd>\n",
              "              <dt>Master</dt>\n",
              "                <dd><code>local[*]</code></dd>\n",
              "              <dt>AppName</dt>\n",
              "                <dd><code>AmazonAnalysis</code></dd>\n",
              "            </dl>\n",
              "        </div>\n",
              "        \n",
              "            </div>\n",
              "        "
            ]
          },
          "metadata": {},
          "execution_count": 1
        }
      ]
    },
    {
      "cell_type": "markdown",
      "source": [
        "## 🏔️ Section 1 — What is Big Data? (Volume, Velocity, Variety)"
      ],
      "metadata": {
        "id": "cFU5cNIUALb7"
      }
    },
    {
      "cell_type": "code",
      "source": [
        "## DATA UPLOAD\n",
        "\n",
        "# Upload the Amazon sales data file from your local machine to the Colab environment.\n",
        "# A file selector will appear after executing this cell.\n",
        "from google.colab import files\n",
        "uploaded = files.upload()"
      ],
      "metadata": {
        "colab": {
          "base_uri": "https://localhost:8080/",
          "height": 71
        },
        "id": "tuF3RW43NHDv",
        "outputId": "bde3d83f-2269-495b-cf82-0649cde04050"
      },
      "execution_count": 2,
      "outputs": [
        {
          "output_type": "display_data",
          "data": {
            "text/plain": [
              "<IPython.core.display.HTML object>"
            ],
            "text/html": [
              "\n",
              "     <input type=\"file\" id=\"files-f5baeb2f-1cf1-4b42-9002-52c4f96a7912\" name=\"files[]\" multiple disabled\n",
              "        style=\"border:none\" />\n",
              "     <output id=\"result-f5baeb2f-1cf1-4b42-9002-52c4f96a7912\">\n",
              "      Upload widget is only available when the cell has been executed in the\n",
              "      current browser session. Please rerun this cell to enable.\n",
              "      </output>\n",
              "      <script>// Copyright 2017 Google LLC\n",
              "//\n",
              "// Licensed under the Apache License, Version 2.0 (the \"License\");\n",
              "// you may not use this file except in compliance with the License.\n",
              "// You may obtain a copy of the License at\n",
              "//\n",
              "//      http://www.apache.org/licenses/LICENSE-2.0\n",
              "//\n",
              "// Unless required by applicable law or agreed to in writing, software\n",
              "// distributed under the License is distributed on an \"AS IS\" BASIS,\n",
              "// WITHOUT WARRANTIES OR CONDITIONS OF ANY KIND, either express or implied.\n",
              "// See the License for the specific language governing permissions and\n",
              "// limitations under the License.\n",
              "\n",
              "/**\n",
              " * @fileoverview Helpers for google.colab Python module.\n",
              " */\n",
              "(function(scope) {\n",
              "function span(text, styleAttributes = {}) {\n",
              "  const element = document.createElement('span');\n",
              "  element.textContent = text;\n",
              "  for (const key of Object.keys(styleAttributes)) {\n",
              "    element.style[key] = styleAttributes[key];\n",
              "  }\n",
              "  return element;\n",
              "}\n",
              "\n",
              "// Max number of bytes which will be uploaded at a time.\n",
              "const MAX_PAYLOAD_SIZE = 100 * 1024;\n",
              "\n",
              "function _uploadFiles(inputId, outputId) {\n",
              "  const steps = uploadFilesStep(inputId, outputId);\n",
              "  const outputElement = document.getElementById(outputId);\n",
              "  // Cache steps on the outputElement to make it available for the next call\n",
              "  // to uploadFilesContinue from Python.\n",
              "  outputElement.steps = steps;\n",
              "\n",
              "  return _uploadFilesContinue(outputId);\n",
              "}\n",
              "\n",
              "// This is roughly an async generator (not supported in the browser yet),\n",
              "// where there are multiple asynchronous steps and the Python side is going\n",
              "// to poll for completion of each step.\n",
              "// This uses a Promise to block the python side on completion of each step,\n",
              "// then passes the result of the previous step as the input to the next step.\n",
              "function _uploadFilesContinue(outputId) {\n",
              "  const outputElement = document.getElementById(outputId);\n",
              "  const steps = outputElement.steps;\n",
              "\n",
              "  const next = steps.next(outputElement.lastPromiseValue);\n",
              "  return Promise.resolve(next.value.promise).then((value) => {\n",
              "    // Cache the last promise value to make it available to the next\n",
              "    // step of the generator.\n",
              "    outputElement.lastPromiseValue = value;\n",
              "    return next.value.response;\n",
              "  });\n",
              "}\n",
              "\n",
              "/**\n",
              " * Generator function which is called between each async step of the upload\n",
              " * process.\n",
              " * @param {string} inputId Element ID of the input file picker element.\n",
              " * @param {string} outputId Element ID of the output display.\n",
              " * @return {!Iterable<!Object>} Iterable of next steps.\n",
              " */\n",
              "function* uploadFilesStep(inputId, outputId) {\n",
              "  const inputElement = document.getElementById(inputId);\n",
              "  inputElement.disabled = false;\n",
              "\n",
              "  const outputElement = document.getElementById(outputId);\n",
              "  outputElement.innerHTML = '';\n",
              "\n",
              "  const pickedPromise = new Promise((resolve) => {\n",
              "    inputElement.addEventListener('change', (e) => {\n",
              "      resolve(e.target.files);\n",
              "    });\n",
              "  });\n",
              "\n",
              "  const cancel = document.createElement('button');\n",
              "  inputElement.parentElement.appendChild(cancel);\n",
              "  cancel.textContent = 'Cancel upload';\n",
              "  const cancelPromise = new Promise((resolve) => {\n",
              "    cancel.onclick = () => {\n",
              "      resolve(null);\n",
              "    };\n",
              "  });\n",
              "\n",
              "  // Wait for the user to pick the files.\n",
              "  const files = yield {\n",
              "    promise: Promise.race([pickedPromise, cancelPromise]),\n",
              "    response: {\n",
              "      action: 'starting',\n",
              "    }\n",
              "  };\n",
              "\n",
              "  cancel.remove();\n",
              "\n",
              "  // Disable the input element since further picks are not allowed.\n",
              "  inputElement.disabled = true;\n",
              "\n",
              "  if (!files) {\n",
              "    return {\n",
              "      response: {\n",
              "        action: 'complete',\n",
              "      }\n",
              "    };\n",
              "  }\n",
              "\n",
              "  for (const file of files) {\n",
              "    const li = document.createElement('li');\n",
              "    li.append(span(file.name, {fontWeight: 'bold'}));\n",
              "    li.append(span(\n",
              "        `(${file.type || 'n/a'}) - ${file.size} bytes, ` +\n",
              "        `last modified: ${\n",
              "            file.lastModifiedDate ? file.lastModifiedDate.toLocaleDateString() :\n",
              "                                    'n/a'} - `));\n",
              "    const percent = span('0% done');\n",
              "    li.appendChild(percent);\n",
              "\n",
              "    outputElement.appendChild(li);\n",
              "\n",
              "    const fileDataPromise = new Promise((resolve) => {\n",
              "      const reader = new FileReader();\n",
              "      reader.onload = (e) => {\n",
              "        resolve(e.target.result);\n",
              "      };\n",
              "      reader.readAsArrayBuffer(file);\n",
              "    });\n",
              "    // Wait for the data to be ready.\n",
              "    let fileData = yield {\n",
              "      promise: fileDataPromise,\n",
              "      response: {\n",
              "        action: 'continue',\n",
              "      }\n",
              "    };\n",
              "\n",
              "    // Use a chunked sending to avoid message size limits. See b/62115660.\n",
              "    let position = 0;\n",
              "    do {\n",
              "      const length = Math.min(fileData.byteLength - position, MAX_PAYLOAD_SIZE);\n",
              "      const chunk = new Uint8Array(fileData, position, length);\n",
              "      position += length;\n",
              "\n",
              "      const base64 = btoa(String.fromCharCode.apply(null, chunk));\n",
              "      yield {\n",
              "        response: {\n",
              "          action: 'append',\n",
              "          file: file.name,\n",
              "          data: base64,\n",
              "        },\n",
              "      };\n",
              "\n",
              "      let percentDone = fileData.byteLength === 0 ?\n",
              "          100 :\n",
              "          Math.round((position / fileData.byteLength) * 100);\n",
              "      percent.textContent = `${percentDone}% done`;\n",
              "\n",
              "    } while (position < fileData.byteLength);\n",
              "  }\n",
              "\n",
              "  // All done.\n",
              "  yield {\n",
              "    response: {\n",
              "      action: 'complete',\n",
              "    }\n",
              "  };\n",
              "}\n",
              "\n",
              "scope.google = scope.google || {};\n",
              "scope.google.colab = scope.google.colab || {};\n",
              "scope.google.colab._files = {\n",
              "  _uploadFiles,\n",
              "  _uploadFilesContinue,\n",
              "};\n",
              "})(self);\n",
              "</script> "
            ]
          },
          "metadata": {}
        },
        {
          "output_type": "stream",
          "name": "stdout",
          "text": [
            "Saving Amazon Sale Report.csv to Amazon Sale Report.csv\n"
          ]
        }
      ]
    },
    {
      "cell_type": "code",
      "execution_count": 3,
      "metadata": {
        "id": "-A8zWNZt_iJH"
      },
      "outputs": [],
      "source": [
        "FILE_PATH = \"Amazon Sale Report.csv\"\n",
        "\n",
        "try:\n",
        "    amazon_df = spark.read.csv(\n",
        "        FILE_PATH,\n",
        "        header=True,\n",
        "        inferSchema=True\n",
        "    )\n",
        "\n",
        "except Exception as e:\n",
        "    print(f\"An error occurred during file loading: {e}\")\n",
        "    print(\"Please ensure the FILE_PATH variable matches the uploaded file name exactly.\")"
      ]
    },
    {
      "cell_type": "code",
      "source": [
        "    # Check the data structure and schema\n",
        "    print(\"--- DataFrame Schema (Structure) ---\")\n",
        "    amazon_df.printSchema()\n",
        "\n",
        "    # Check the first few records\n",
        "    print(\"\\n--- First 5 Rows of Data ---\")\n",
        "    amazon_df.show(5)\n",
        "\n",
        "    # Check the total number of records\n",
        "    print(f\"\\nTotal Records: {amazon_df.count()}\")"
      ],
      "metadata": {
        "colab": {
          "base_uri": "https://localhost:8080/"
        },
        "id": "X4tKo2kLyQmF",
        "outputId": "3935f47e-9ab5-4ca5-c01c-8acccc680e71"
      },
      "execution_count": 4,
      "outputs": [
        {
          "output_type": "stream",
          "name": "stdout",
          "text": [
            "--- DataFrame Schema (Structure) ---\n",
            "root\n",
            " |-- index: integer (nullable = true)\n",
            " |-- Order ID: string (nullable = true)\n",
            " |-- Date: string (nullable = true)\n",
            " |-- Status: string (nullable = true)\n",
            " |-- Fulfilment: string (nullable = true)\n",
            " |-- Sales Channel : string (nullable = true)\n",
            " |-- ship-service-level: string (nullable = true)\n",
            " |-- Style: string (nullable = true)\n",
            " |-- SKU: string (nullable = true)\n",
            " |-- Category: string (nullable = true)\n",
            " |-- Size: string (nullable = true)\n",
            " |-- ASIN: string (nullable = true)\n",
            " |-- Courier Status: string (nullable = true)\n",
            " |-- Qty: integer (nullable = true)\n",
            " |-- currency: string (nullable = true)\n",
            " |-- Amount: double (nullable = true)\n",
            " |-- ship-city: string (nullable = true)\n",
            " |-- ship-state: string (nullable = true)\n",
            " |-- ship-postal-code: double (nullable = true)\n",
            " |-- ship-country: string (nullable = true)\n",
            " |-- promotion-ids: string (nullable = true)\n",
            " |-- B2B: boolean (nullable = true)\n",
            " |-- fulfilled-by: string (nullable = true)\n",
            " |-- Unnamed: 22: boolean (nullable = true)\n",
            "\n",
            "\n",
            "--- First 5 Rows of Data ---\n",
            "+-----+-------------------+--------+--------------------+----------+--------------+------------------+-------+---------------+-------------+----+----------+--------------+---+--------+------+-----------+-----------+----------------+------------+--------------------+-----+------------+-----------+\n",
            "|index|           Order ID|    Date|              Status|Fulfilment|Sales Channel |ship-service-level|  Style|            SKU|     Category|Size|      ASIN|Courier Status|Qty|currency|Amount|  ship-city| ship-state|ship-postal-code|ship-country|       promotion-ids|  B2B|fulfilled-by|Unnamed: 22|\n",
            "+-----+-------------------+--------+--------------------+----------+--------------+------------------+-------+---------------+-------------+----+----------+--------------+---+--------+------+-----------+-----------+----------------+------------+--------------------+-----+------------+-----------+\n",
            "|    0|405-8078784-5731545|04-30-22|           Cancelled|  Merchant|     Amazon.in|          Standard| SET389| SET389-KR-NP-S|          Set|   S|B09KXVBD7Z|          NULL|  0|     INR|647.62|     MUMBAI|MAHARASHTRA|        400081.0|          IN|                NULL|false|   Easy Ship|       NULL|\n",
            "|    1|171-9198151-1101146|04-30-22|Shipped - Deliver...|  Merchant|     Amazon.in|          Standard|JNE3781|JNE3781-KR-XXXL|        kurta| 3XL|B09K3WFS32|       Shipped|  1|     INR| 406.0|  BENGALURU|  KARNATAKA|        560085.0|          IN|Amazon PLCC Free-...|false|   Easy Ship|       NULL|\n",
            "|    2|404-0687676-7273146|04-30-22|             Shipped|    Amazon|     Amazon.in|         Expedited|JNE3371|  JNE3371-KR-XL|        kurta|  XL|B07WV4JV4D|       Shipped|  1|     INR| 329.0|NAVI MUMBAI|MAHARASHTRA|        410210.0|          IN|IN Core Free Ship...| true|        NULL|       NULL|\n",
            "|    3|403-9615377-8133951|04-30-22|           Cancelled|  Merchant|     Amazon.in|          Standard|  J0341|     J0341-DR-L|Western Dress|   L|B099NRCT7B|          NULL|  0|     INR|753.33| PUDUCHERRY| PUDUCHERRY|        605008.0|          IN|                NULL|false|   Easy Ship|       NULL|\n",
            "|    4|407-1069790-7240320|04-30-22|             Shipped|    Amazon|     Amazon.in|         Expedited|JNE3671|JNE3671-TU-XXXL|          Top| 3XL|B098714BZP|       Shipped|  1|     INR| 574.0|    CHENNAI| TAMIL NADU|        600073.0|          IN|                NULL|false|        NULL|       NULL|\n",
            "+-----+-------------------+--------+--------------------+----------+--------------+------------------+-------+---------------+-------------+----+----------+--------------+---+--------+------+-----------+-----------+----------------+------------+--------------------+-----+------------+-----------+\n",
            "only showing top 5 rows\n",
            "\n",
            "\n",
            "Total Records: 128975\n"
          ]
        }
      ]
    },
    {
      "cell_type": "code",
      "source": [
        "## 1. ANALYSIS OF DIMENSIONS (RELATION TO VOLUME)\n",
        "# Calculate the total number of rows (Volume proxy) and columns.\n",
        "row_count = amazon_df.count()\n",
        "col_count = len(amazon_df.columns)\n",
        "\n",
        "# Display the results.\n",
        "print(f\"DataFrame Dimensions (Rows, Columns): ({row_count}, {col_count})\")\n",
        "\n",
        "# --- COMMENTARY ON VOLUME ---\n",
        "# The large number of rows ({row_count}) directly correlates to the **Volume** characteristic of Big Data.\n",
        "# A high record count demonstrates the sheer scale of transactions accumulated over the observation period,\n",
        "# necessitating the use of a distributed computing framework like PySpark for efficient handling."
      ],
      "metadata": {
        "colab": {
          "base_uri": "https://localhost:8080/"
        },
        "id": "6Bh_YRRDz9VX",
        "outputId": "5c239187-74f8-471f-c64d-d07dd39135f7"
      },
      "execution_count": 5,
      "outputs": [
        {
          "output_type": "stream",
          "name": "stdout",
          "text": [
            "DataFrame Dimensions (Rows, Columns): (128975, 24)\n"
          ]
        }
      ]
    },
    {
      "cell_type": "code",
      "source": [
        "from collections import Counter\n",
        "\n",
        "## VARIETY ANALYSIS: LIST ALL TYPES AND SUMMARIZE FREQUENCIES\n",
        "\n",
        "# Get the schema as a list of field objects (StructField objects)\n",
        "data_schema = amazon_df.schema\n",
        "data_type_list = [str(field.dataType) for field in data_schema]\n",
        "\n",
        "# 1. LIST ALL COLUMNS AND THEIR TYPES (Aligned Output)\n",
        "print(\"--- 1. Detailed Column-to-Type Mapping (Variety) ---\")\n",
        "\n",
        "# Find the length of the longest column name for dynamic alignment\n",
        "max_name_length = max(len(field.name) for field in data_schema)\n",
        "\n",
        "# Iterate and print each column with aligned formatting\n",
        "for field in data_schema:\n",
        "    # {field.name:<{max_name_length}} ensures left alignment based on the longest name\n",
        "    print(f\"Column: {field.name:<{max_name_length}} | Data Type: {field.dataType}\")\n",
        "\n",
        "\n",
        "# 2. DATA TYPE FREQUENCY SUMMARY (Table Output)\n",
        "print(\"\\n--- 2. Data Type Frequency Summary (Variety Count) ---\")\n",
        "\n",
        "# Use Counter to count the occurrences of each unique data type\n",
        "type_counts = Counter(data_type_list)\n",
        "\n",
        "# Determine max lengths for alignment in the summary table\n",
        "max_type_len = max(len(type_name) for type_name in type_counts.keys())\n",
        "header_format = f\"| {'Data Type':<{max_type_len}} | {'Count':<5} |\"\n",
        "separator = \"-\" * (max_type_len + 12)\n",
        "\n",
        "# Print Summary Table\n",
        "print(separator)\n",
        "print(header_format)\n",
        "print(separator)\n",
        "\n",
        "# Print Data\n",
        "for data_type, count in type_counts.items():\n",
        "    print(f\"| {data_type:<{max_type_len}} | {count:<5} |\")\n",
        "print(separator)"
      ],
      "metadata": {
        "colab": {
          "base_uri": "https://localhost:8080/"
        },
        "id": "-aSLlq3_0D1g",
        "outputId": "e0581875-09ff-42a9-d6da-78f65938f5de"
      },
      "execution_count": 6,
      "outputs": [
        {
          "output_type": "stream",
          "name": "stdout",
          "text": [
            "--- 1. Detailed Column-to-Type Mapping (Variety) ---\n",
            "Column: index              | Data Type: IntegerType()\n",
            "Column: Order ID           | Data Type: StringType()\n",
            "Column: Date               | Data Type: StringType()\n",
            "Column: Status             | Data Type: StringType()\n",
            "Column: Fulfilment         | Data Type: StringType()\n",
            "Column: Sales Channel      | Data Type: StringType()\n",
            "Column: ship-service-level | Data Type: StringType()\n",
            "Column: Style              | Data Type: StringType()\n",
            "Column: SKU                | Data Type: StringType()\n",
            "Column: Category           | Data Type: StringType()\n",
            "Column: Size               | Data Type: StringType()\n",
            "Column: ASIN               | Data Type: StringType()\n",
            "Column: Courier Status     | Data Type: StringType()\n",
            "Column: Qty                | Data Type: IntegerType()\n",
            "Column: currency           | Data Type: StringType()\n",
            "Column: Amount             | Data Type: DoubleType()\n",
            "Column: ship-city          | Data Type: StringType()\n",
            "Column: ship-state         | Data Type: StringType()\n",
            "Column: ship-postal-code   | Data Type: DoubleType()\n",
            "Column: ship-country       | Data Type: StringType()\n",
            "Column: promotion-ids      | Data Type: StringType()\n",
            "Column: B2B                | Data Type: BooleanType()\n",
            "Column: fulfilled-by       | Data Type: StringType()\n",
            "Column: Unnamed: 22        | Data Type: BooleanType()\n",
            "\n",
            "--- 2. Data Type Frequency Summary (Variety Count) ---\n",
            "-------------------------\n",
            "| Data Type     | Count |\n",
            "-------------------------\n",
            "| IntegerType() | 2     |\n",
            "| StringType()  | 18    |\n",
            "| DoubleType()  | 2     |\n",
            "| BooleanType() | 2     |\n",
            "-------------------------\n"
          ]
        }
      ]
    },
    {
      "cell_type": "code",
      "source": [
        "from pyspark.sql.functions import min as spark_min, max as spark_max, datediff, to_date, lit, round as spark_round\n",
        "\n",
        "## 3. ANALYZE DATE RANGE AND TRANSACTION RATE (RELATION TO VELOCITY)\n",
        "\n",
        "# --- Prerequisites: Assuming 'amazon_df' is loaded and 'Date' column is present ---\n",
        "row_count = amazon_df.count()\n",
        "\n",
        "# Convert the 'Date' column to a proper Date type (MM-dd-yy format assumed from previous context)\n",
        "df_with_date = amazon_df.withColumn(\"Order_Date\", to_date(amazon_df[\"Date\"], \"MM-dd-yy\"))\n",
        "\n",
        "# Find the earliest and latest order dates\n",
        "date_analysis = df_with_date.agg(\n",
        "    spark_min(\"Order_Date\").alias(\"Min_Date\"),\n",
        "    spark_max(\"Order_Date\").alias(\"Max_Date\")\n",
        ").collect()[0]\n",
        "\n",
        "min_date = date_analysis['Min_Date']\n",
        "max_date = date_analysis['Max_Date']\n",
        "\n",
        "# Calculate the number of days between the first and last transaction\n",
        "days_span = df_with_date.withColumn(\n",
        "    \"Date_Span\",\n",
        "    datediff(lit(max_date), lit(min_date))\n",
        ").select(spark_max(\"Date_Span\")).collect()[0][0]\n",
        "\n",
        "# --- NEW CALCULATION: AVERAGE TRANSACTION RATE ---\n",
        "\n",
        "# Calculate the average number of transactions per day\n",
        "if days_span > 0:\n",
        "    avg_tx_per_day = round(row_count / days_span)\n",
        "else:\n",
        "    avg_tx_per_day = row_count # Handle case where all transactions are on the same day\n",
        "\n",
        "print(f\"Earliest Order Date: {min_date}\")\n",
        "print(f\"Latest Order Date: {max_date}\")\n",
        "print(f\"Total Span of Data (Days): {days_span}\")\n",
        "print(f\"Total Transactions: {row_count:,}\")\n",
        "\n",
        "# Print the new metric, rounded to 2 decimal places\n",
        "print(f\"Average Transactions per Day: {avg_tx_per_day:,.0f}\")"
      ],
      "metadata": {
        "colab": {
          "base_uri": "https://localhost:8080/"
        },
        "id": "BW016OGZ1G7K",
        "outputId": "45465440-9742-415f-8630-1d23e810cc21"
      },
      "execution_count": 7,
      "outputs": [
        {
          "output_type": "stream",
          "name": "stdout",
          "text": [
            "Earliest Order Date: 2022-03-31\n",
            "Latest Order Date: 2022-06-29\n",
            "Total Span of Data (Days): 90\n",
            "Total Transactions: 128,975\n",
            "Average Transactions per Day: 1,433\n"
          ]
        }
      ]
    },
    {
      "cell_type": "markdown",
      "source": [
        "### The 3 V's Justify PySpark\n",
        "\n",
        "The analysis of the Amazon sales data confirms its classification as **Big Data** due to the presence of the defining **3 V's**, which collectively necessitate the use of a distributed framework like Apache Spark.\n",
        "\n",
        "* **Volume:** The sheer scale of **128,975** transactions accumulated within a short observation period highlights the significant data **Volume**. This mass of records cannot be efficiently processed or analyzed using single-machine traditional tools.\n",
        "\n",
        "* **Velocity:** The data generation rate, evidenced by the high **Velocity** of approximately **1,433 transactions per day** over a **90-day** span, shows a continuous, fast-flowing data stream. Analyzing trends from such rapidly generated data demands the high-throughput capabilities that PySpark provides.\n",
        "\n",
        "* **Variety:** The dataset demonstrates **Variety** through its blend of data types, including **Strings** (for categorical features like 'Category' and 'City') and **Numeric** types (for 'Qty' and 'Amount'). While currently structured, this inherent diversity, along with the potential future inclusion of unstructured data, reinforces the need for PySpark’s flexible DataFrame API.\n",
        "\n",
        "In conclusion, the challenge presented by the data's **Volume, Velocity, and Variety** confirms that **PySpark is the appropriate technology** to manage, transform, and extract meaningful business insights from this large-scale e-commerce data."
      ],
      "metadata": {
        "id": "z8IzyKCg15g4"
      }
    },
    {
      "cell_type": "markdown",
      "source": [
        "## 🐘 Section 2 — Hadoop & MapReduce"
      ],
      "metadata": {
        "id": "6Xk4e8OmA1Ji"
      }
    },
    {
      "cell_type": "markdown",
      "source": [
        "> **HDFS (Hadoop Distributed File System):** This is the foundation for Big Data storage. HDFS breaks large files (like our sales data) into small blocks, stores them across many machines, and creates multiple copies (replication) to ensure the data is always safe and accessible, regardless of hardware failures.\n",
        "\n",
        "> **MapReduce:** This is a programming model for distributed computation on data stored in HDFS. It simplifies complex tasks by dividing them into two main, parallel stages: **Map** (data transformation and grouping) and **Reduce** (data aggregation and calculation)."
      ],
      "metadata": {
        "id": "EUsZUn3FEQib"
      }
    },
    {
      "cell_type": "code",
      "source": [
        "from pyspark.sql.functions import col, sum, round\n",
        "\n",
        "## SIMULATION OF MAPREDUCE: CALCULATING TOTAL SALES BY CATEGORY\n",
        "\n",
        "# Assume the DataFrame is amazon_df and columns 'Category' and 'Amount' exist.\n",
        "\n",
        "# --- 1. MAP OPERATION (Transformation/Grouping) ---\n",
        "# The Map step is simulated by selecting the relevant columns and defining the grouping key.\n",
        "# We are preparing the data to be grouped by 'Category'.\n",
        "\n",
        "# Check if the required columns exist before proceeding\n",
        "required_cols = ['Category', 'Amount']\n",
        "if not all(c in amazon_df.columns for c in required_cols):\n",
        "    print(\"Error: DataFrame must contain 'Category' and 'Amount' columns for this analysis.\")\n",
        "else:\n",
        "    # Select and group the data\n",
        "    category_group = amazon_df.groupBy(col(\"Category\"))\n",
        "\n",
        "    # --- 2. REDUCE OPERATION (Aggregation) ---\n",
        "    # The Reduce step is simulated by applying an aggregation function (sum) on the 'Amount' column\n",
        "    # within each group defined in the Map phase.\n",
        "    total_sales_by_category = category_group.agg(\n",
        "        sum(col(\"Amount\")).alias(\"Total_Sales_Amount\")\n",
        "    ).orderBy(col(\"Total_Sales_Amount\").desc()) # Ordering is a final transformation\n",
        "\n",
        "    # --- Show Results (Final Action) ---\n",
        "    print(\"--- Total Sales Amount by Category (MapReduce Simulation) ---\")\n",
        "    total_sales_by_category.show(truncate=False)"
      ],
      "metadata": {
        "id": "5qLLuW8OA9jE",
        "colab": {
          "base_uri": "https://localhost:8080/"
        },
        "outputId": "d9be68fc-2644-41d1-eeb5-7edbe4362404"
      },
      "execution_count": 8,
      "outputs": [
        {
          "output_type": "stream",
          "name": "stdout",
          "text": [
            "--- Total Sales Amount by Category (MapReduce Simulation) ---\n",
            "+-------------+--------------------+\n",
            "|Category     |Total_Sales_Amount  |\n",
            "+-------------+--------------------+\n",
            "|Set          |3.920412402999991E7 |\n",
            "|kurta        |2.1299546699999988E7|\n",
            "|Western Dress|1.121607269000002E7 |\n",
            "|Top          |5347792.3           |\n",
            "|Ethnic Dress |791217.6599999999   |\n",
            "|Blouse       |458408.18           |\n",
            "|Bottom       |150667.97999999998  |\n",
            "|Saree        |123933.76           |\n",
            "|Dupatta      |915.0               |\n",
            "+-------------+--------------------+\n",
            "\n"
          ]
        }
      ]
    },
    {
      "cell_type": "markdown",
      "source": [
        "### Interpretation: Data Transformation\n",
        "\n",
        "The PySpark aggregation used to find total sales per category effectively simulates the core MapReduce logic:\n",
        "\n",
        "* **Map Operation (Grouping):** This step was achieved by **`.groupBy(col(\"Category\"))`**. Conceptually, it mapped every sales transaction and prepared it for grouping, where the `Category` acted as the unique **Key**.\n",
        "\n",
        "* **Reduce Operation (Aggregation):** This step was achieved by **`.agg(sum(col(\"Amount\")))`**. The Reduce phase took all `Amount` values associated with a single `Category` (Key) and aggregated them using the **`sum`** function, resulting in the final total sales figure for that category.\n",
        "\n",
        "This process demonstrates how complex calculations are broken down into parallel tasks, leveraging Spark's distributed processing power."
      ],
      "metadata": {
        "id": "O7StGcGpDas_"
      }
    },
    {
      "cell_type": "markdown",
      "source": [
        "##⚡ Section 3 — Apache Spark (PySpark): RDD vs DataFrame"
      ],
      "metadata": {
        "id": "0UBRepknBDwU"
      }
    },
    {
      "cell_type": "code",
      "source": [
        "from pyspark.sql.functions import sum as spark_sum, col\n",
        "from datetime import datetime\n",
        "\n",
        "print(\"--- RDD vs DataFrame Performance Comparison ---\")\n",
        "\n",
        "# ----------------------------------------------------\n",
        "# 1. DATAFRAME APPROACH (Optimized)\n",
        "# ----------------------------------------------------\n",
        "\n",
        "df_start = datetime.now()\n",
        "df_sales_category = amazon_df.groupBy(\"Category\").agg(\n",
        "    spark_sum(col(\"Amount\")).alias(\"Total_Sales_Amount\")\n",
        ").orderBy(col(\"Total_Sales_Amount\").desc())\n",
        "\n",
        "df_sales_category.show(5, truncate=False)\n",
        "df_end = datetime.now()\n",
        "df_time = (df_end - df_start).total_seconds()\n",
        "print(f\"DataFrame Execution Time: {df_time:.4f} seconds\")\n",
        "\n",
        "\n",
        "# ----------------------------------------------------\n",
        "# 2. RDD APPROACH (Manual MapReduce)\n",
        "# ----------------------------------------------------\n",
        "\n",
        "rdd_start = datetime.now()\n",
        "\n",
        "# Map: Select Category and Amount columns, filter nulls, and create (Category, Amount) tuples\n",
        "rdd_data = amazon_df.select(\"Category\", \"Amount\").rdd.filter(lambda x: x['Amount'] is not None)\n",
        "\n",
        "# Map: Create (Category, Amount) pairs\n",
        "rdd_mapped = rdd_data.map(lambda row: (row['Category'], row['Amount']))\n",
        "\n",
        "# Reduce: Sum values for the same key\n",
        "rdd_reduced = rdd_mapped.reduceByKey(lambda a, b: a + b)\n",
        "\n",
        "# Final step: Convert to DataFrame for display and sorting\n",
        "rdd_sales_category = rdd_reduced.toDF([\"Category\", \"Total_Sales_Amount\"]).orderBy(col(\"Total_Sales_Amount\").desc())\n",
        "\n",
        "rdd_sales_category.show(5, truncate=False)\n",
        "rdd_end = datetime.now()\n",
        "rdd_time = (rdd_end - rdd_start).total_seconds()\n",
        "print(f\"RDD Execution Time: {rdd_time:.4f} seconds\")\n",
        "\n",
        "\n",
        "# ----------------------------------------------------\n",
        "# 3. MEMORY OPTIMIZATION (CACHING)\n",
        "# ----------------------------------------------------\n",
        "\n",
        "# Caching the original DataFrame\n",
        "amazon_df.cache()\n",
        "\n",
        "# Trigger an action to force the data to be loaded into memory\n",
        "print(\"\\n--- Caching Data (Triggering Action) ---\")\n",
        "initial_count = amazon_df.count()\n",
        "print(f\"Dataframe loaded into memory. Total rows: {initial_count:,}\")\n",
        "\n",
        "# Run a simple operation again to measure speed improvement after caching\n",
        "cache_start = datetime.now()\n",
        "amazon_df.groupBy(\"Category\").count().show(5, truncate=False)\n",
        "cache_end = datetime.now()\n",
        "cache_time = (cache_end - cache_start).total_seconds()\n",
        "print(f\"Execution Time AFTER Caching: {cache_time:.4f} seconds\")"
      ],
      "metadata": {
        "id": "G9UmadKNBEb2",
        "colab": {
          "base_uri": "https://localhost:8080/"
        },
        "outputId": "751ba1fa-a982-41e9-f8e3-b7e2145aafb8"
      },
      "execution_count": 9,
      "outputs": [
        {
          "output_type": "stream",
          "name": "stdout",
          "text": [
            "--- RDD vs DataFrame Performance Comparison ---\n",
            "+-------------+--------------------+\n",
            "|Category     |Total_Sales_Amount  |\n",
            "+-------------+--------------------+\n",
            "|Set          |3.920412402999991E7 |\n",
            "|kurta        |2.1299546699999988E7|\n",
            "|Western Dress|1.121607269000002E7 |\n",
            "|Top          |5347792.3           |\n",
            "|Ethnic Dress |791217.6599999999   |\n",
            "+-------------+--------------------+\n",
            "only showing top 5 rows\n",
            "\n",
            "DataFrame Execution Time: 1.1793 seconds\n",
            "+-------------+--------------------+\n",
            "|Category     |Total_Sales_Amount  |\n",
            "+-------------+--------------------+\n",
            "|Set          |3.920412402999991E7 |\n",
            "|kurta        |2.1299546699999988E7|\n",
            "|Western Dress|1.121607269000002E7 |\n",
            "|Top          |5347792.3           |\n",
            "|Ethnic Dress |791217.6599999999   |\n",
            "+-------------+--------------------+\n",
            "only showing top 5 rows\n",
            "\n",
            "RDD Execution Time: 5.5645 seconds\n",
            "\n",
            "--- Caching Data (Triggering Action) ---\n",
            "Dataframe loaded into memory. Total rows: 128,975\n",
            "+------------+-----+\n",
            "|Category    |count|\n",
            "+------------+-----+\n",
            "|Ethnic Dress|1159 |\n",
            "|Top         |10622|\n",
            "|Set         |50284|\n",
            "|Saree       |164  |\n",
            "|Bottom      |440  |\n",
            "+------------+-----+\n",
            "only showing top 5 rows\n",
            "\n",
            "Execution Time AFTER Caching: 0.7044 seconds\n"
          ]
        }
      ]
    },
    {
      "cell_type": "markdown",
      "source": [
        "### RDD vs. DataFrame Performance Analysis\n",
        "\n",
        "The execution times and code structure conclusively demonstrate the superiority of the DataFrame API for structured data processing in PySpark:\n",
        "\n",
        "| Approach | Execution Time (seconds) | Performance Factor |\n",
        "| :--- | :--- | :--- |\n",
        "| **DataFrame (Initial Run)** | **1.1793** | **1x (Base performance)** |\n",
        "| **RDD (Manual MapReduce)** | **5.5645** | **~4.72x Slower** than DataFrame |\n",
        "| **DataFrame (After Caching)** | **0.7044** | **~1.67x Faster** than Initial DataFrame |\n",
        "<br>\n",
        "\n",
        "#### Performance and Optimization:\n",
        "\n",
        "1. ***DataFrame Superiority:*** The DataFrame approach executed the same aggregation task (Total Sales by Category) in $1.1793$ seconds, while the RDD approach required $5.5645$ seconds. This substantial difference (RDD being approximately $4.72$ times slower) highlights the efficiency of the Catalyst Optimizer and Tungsten Execution Engine, which utilize the schema to generate optimized, highly efficient execution plans.\n",
        "\n",
        "2. ***Caching Effectiveness:*** Applying the .cache() operation drastically reduced the subsequent execution time from $1.1793$ seconds to $0.7044$ seconds. This confirms that for repetitive operations, loading the 128,975 records into the cluster's RAM eliminates expensive I/O operations, yielding a significant speed boost (approximately 67% faster than the uncached run).\n",
        "<br>\n",
        "\n",
        "### Code Readability:\n",
        "\n",
        "The DataFrame code used concise, declarative, SQL-like commands (.groupBy().agg(sum())), making the logic highly readable and easier to maintain. In contrast, the RDD approach required verbose, low-level Python coding for manual map and reduceByKey operations, significantly reducing code clarity and increasing development time.\n",
        "<br>\n",
        "\n",
        "###Conclusion:\n",
        "The results validate the industry standard: the DataFrame API provides optimal performance and superior readability for structured Big Data analysis due to internal optimization engines and high-level abstraction.\n"
      ],
      "metadata": {
        "id": "ntxt4KPwFvci"
      }
    },
    {
      "cell_type": "markdown",
      "source": [
        "## 🧪 Section 4 — Spark SQL & Streaming"
      ],
      "metadata": {
        "id": "GMBTS0JrBEr9"
      }
    },
    {
      "cell_type": "markdown",
      "source": [
        "###💡 Spark SQL Tasks:"
      ],
      "metadata": {
        "id": "uoaUmiprLM_N"
      }
    },
    {
      "cell_type": "code",
      "source": [
        "from pyspark.sql.functions import round\n",
        "\n",
        "# 1. Convert DataFrame to a temporary SQL view\n",
        "VIEW_NAME = \"sales_data\"\n",
        "amazon_df.createOrReplaceTempView(VIEW_NAME)\n",
        "\n",
        "print(f\"DataFrame successfully converted to a temporary SQL view: {VIEW_NAME}\")"
      ],
      "metadata": {
        "id": "RH33FAXCBFSJ",
        "colab": {
          "base_uri": "https://localhost:8080/"
        },
        "outputId": "f07dad22-b916-4657-a8ae-244517371690"
      },
      "execution_count": 10,
      "outputs": [
        {
          "output_type": "stream",
          "name": "stdout",
          "text": [
            "DataFrame successfully converted to a temporary SQL view: sales_data\n"
          ]
        }
      ]
    },
    {
      "cell_type": "code",
      "source": [
        "# SQL Query (Total sales amount for each category)\n",
        "category_sales_sql = spark.sql(f\"\"\"\n",
        "    SELECT\n",
        "        Category,\n",
        "        ROUND(SUM(Amount), 2) AS Total_Sales_Amount\n",
        "    FROM\n",
        "        {VIEW_NAME}\n",
        "    GROUP BY\n",
        "        Category\n",
        "    ORDER BY\n",
        "        Total_Sales_Amount DESC\n",
        "\"\"\")\n",
        "\n",
        "# Show Output Table\n",
        "print(\"\\n--- 1. Total Sales Amount by Category (SQL) ---\")\n",
        "category_sales_sql.show(10, truncate=False)"
      ],
      "metadata": {
        "colab": {
          "base_uri": "https://localhost:8080/"
        },
        "id": "0I287XMXJMXe",
        "outputId": "b15d6170-bbcc-4fbb-9da9-7fbc0792469a"
      },
      "execution_count": 11,
      "outputs": [
        {
          "output_type": "stream",
          "name": "stdout",
          "text": [
            "\n",
            "--- 1. Total Sales Amount by Category (SQL) ---\n",
            "+-------------+------------------+\n",
            "|Category     |Total_Sales_Amount|\n",
            "+-------------+------------------+\n",
            "|Set          |3.920412403E7     |\n",
            "|kurta        |2.12995467E7      |\n",
            "|Western Dress|1.121607269E7     |\n",
            "|Top          |5347792.3         |\n",
            "|Ethnic Dress |791217.66         |\n",
            "|Blouse       |458408.18         |\n",
            "|Bottom       |150667.98         |\n",
            "|Saree        |123933.76         |\n",
            "|Dupatta      |915.0             |\n",
            "+-------------+------------------+\n",
            "\n"
          ]
        }
      ]
    },
    {
      "cell_type": "code",
      "source": [
        "# SQL Query (The state with the highest sales)\n",
        "highest_sales_state_sql = spark.sql(f\"\"\"\n",
        "    SELECT\n",
        "        `ship-state` AS Shipping_State,\n",
        "        ROUND(SUM(Amount), 2) AS Total_Sales\n",
        "    FROM\n",
        "        {VIEW_NAME}\n",
        "    GROUP BY\n",
        "        `ship-state`\n",
        "    ORDER BY\n",
        "        Total_Sales DESC\n",
        "    LIMIT 1\n",
        "\"\"\")\n",
        "\n",
        "# Show Output Table\n",
        "print(\"\\n--- 2. The state with the highest sales (SQL) ---\")\n",
        "highest_sales_state_sql.show(5, truncate=False)"
      ],
      "metadata": {
        "colab": {
          "base_uri": "https://localhost:8080/"
        },
        "id": "vUw5K6yTJf2N",
        "outputId": "186882bd-5f94-4a1d-95f0-0395e01f7dda"
      },
      "execution_count": 39,
      "outputs": [
        {
          "output_type": "stream",
          "name": "stdout",
          "text": [
            "\n",
            "--- 2. The state with the highest sales (SQL) ---\n",
            "+--------------+-------------+\n",
            "|Shipping_State|Total_Sales  |\n",
            "+--------------+-------------+\n",
            "|MAHARASHTRA   |1.333553414E7|\n",
            "+--------------+-------------+\n",
            "\n"
          ]
        }
      ]
    },
    {
      "cell_type": "code",
      "source": [
        "# SQL Query\n",
        "cancellation_ratio_sql = spark.sql(f\"\"\"\n",
        "    SELECT\n",
        "        COUNT(CASE WHEN Status = 'Cancelled' THEN 1 END) AS Cancelled_Count,\n",
        "        COUNT(*) AS Total_Orders,\n",
        "        ROUND(\n",
        "            (COUNT(CASE WHEN Status = 'Cancelled' THEN 1 END) * 100.0) / COUNT(*),\n",
        "            2\n",
        "        ) AS Cancellation_Ratio_Percent\n",
        "    FROM\n",
        "        {VIEW_NAME}\n",
        "\"\"\")\n",
        "\n",
        "# Show Output Table\n",
        "print(\"\\n--- 3. Cancellation Ratio (SQL) ---\")\n",
        "cancellation_ratio_sql.show(truncate=False)"
      ],
      "metadata": {
        "colab": {
          "base_uri": "https://localhost:8080/"
        },
        "id": "uHAWG_kiJfh5",
        "outputId": "4d2c63ea-3dd7-4a26-c0c7-2bb0b445de70"
      },
      "execution_count": 13,
      "outputs": [
        {
          "output_type": "stream",
          "name": "stdout",
          "text": [
            "\n",
            "--- 3. Cancellation Ratio (SQL) ---\n",
            "+---------------+------------+--------------------------+\n",
            "|Cancelled_Count|Total_Orders|Cancellation_Ratio_Percent|\n",
            "+---------------+------------+--------------------------+\n",
            "|18332          |128975      |14.21                     |\n",
            "+---------------+------------+--------------------------+\n",
            "\n"
          ]
        }
      ]
    },
    {
      "cell_type": "markdown",
      "source": [
        "### Summary of Spark SQL Insights\n",
        "\n",
        "The use of **Spark SQL** provided a rapid, declarative interface for large-scale data analysis, successfully transforming the distributed dataset into critical business intelligence.\n",
        "\n",
        "1.  ### 💰 Sales and Profitability (Category Analysis)\n",
        "    * **Analysis:** The `Total Sales Amount by Category` analysis clearly identifies **'Set'** as the overwhelmingly dominant revenue generator ($39.2$ million), followed by **'kurta'** ($21.2$ million). Lower-ranking categories contribute minimally.\n",
        "    * **Insight:** These top profitable categories must be strongly prioritized for **inventory stocking and targeted marketing** to maximize business profitability and maintain focus on core products.\n",
        "\n",
        "2.  ### 🌎 Geographical Focus (State Analysis)\n",
        "    * **Analysis:** The analysis of sales by state pinpoints **MAHARASHTRA** as the single highest revenue contributor, generating over **$13.3$ million** in total sales.\n",
        "    * **Insight:** This state is the primary market driver. This data is crucial for **optimizing logistics**, prioritizing distribution capacity, and effectively allocating regional marketing resources toward this key region.\n",
        "\n",
        "3.  ### 🚨 Operational Efficiency (Cancellation Ratio)\n",
        "    * **Analysis:** The calculated **Cancellation Ratio is $14.21\\%$** (18,332 cancelled orders out of 128,975 total orders).\n",
        "    * **Insight:** **This ratio is significantly high.** Far from indicating efficiency, this metric points to a **critical and unsustainable loss of revenue** due to major operational flaws in inventory management (e.g., out-of-stock items), shipping, or quality control. Continuous monitoring and immediate corrective action are mandatory.\n",
        "\n",
        "**Conclusion:** Spark SQL efficiently transforms massive data into actionable insights for strategic decision-making. However, the insights derived must immediately trigger operational reviews, particularly regarding the high cancellation rate."
      ],
      "metadata": {
        "id": "M0-GaU93Kiru"
      }
    },
    {
      "cell_type": "markdown",
      "source": [
        "###⚡ Streaming Tasks:"
      ],
      "metadata": {
        "id": "qWg36LMRLVYJ"
      }
    },
    {
      "cell_type": "code",
      "source": [
        "## STEP 1: CREATE DIRECTORIES FOR STREAMING SIMULATION\n",
        "\n",
        "import os\n",
        "\n",
        "# Define directory paths\n",
        "INPUT_PATH = \"/content/streaming_input/\"\n",
        "CHECKPOINT_PATH = \"/content/streaming_checkpoint/\"\n",
        "OUTPUT_PATH = \"/content/streaming_output/\"\n",
        "\n",
        "# Create directories if they don't exist\n",
        "os.makedirs(INPUT_PATH, exist_ok=True)\n",
        "os.makedirs(CHECKPOINT_PATH, exist_ok=True)\n",
        "os.makedirs(OUTPUT_PATH, exist_ok=True)\n",
        "\n",
        "print(f\"Input directory created at: {INPUT_PATH}\")"
      ],
      "metadata": {
        "colab": {
          "base_uri": "https://localhost:8080/"
        },
        "id": "N1hjptHuMRI1",
        "outputId": "c1adeba7-eab2-4b27-bf5e-f8c464c0114b"
      },
      "execution_count": 14,
      "outputs": [
        {
          "output_type": "stream",
          "name": "stdout",
          "text": [
            "Input directory created at: /content/streaming_input/\n"
          ]
        }
      ]
    },
    {
      "cell_type": "code",
      "source": [
        "# List the contents of the main content directory\n",
        "print(\"--- Content Directory Contents ---\")\n",
        "!ls /content\n",
        "\n",
        "# List the contents of the Streaming Input directory\n",
        "print(\"\\n--- Streaming Input Folder Contents ---\")\n",
        "!ls -R /content/streaming_input"
      ],
      "metadata": {
        "colab": {
          "base_uri": "https://localhost:8080/"
        },
        "id": "uqgqZLUtNtb8",
        "outputId": "3ec8bda8-1ac3-4124-ee11-a49b8fe970ea"
      },
      "execution_count": 15,
      "outputs": [
        {
          "output_type": "stream",
          "name": "stdout",
          "text": [
            "--- Content Directory Contents ---\n",
            "'Amazon Sale Report.csv'   spark-3.5.1-bin-hadoop3   streaming_input\n",
            " sample_data\t\t   streaming_checkpoint      streaming_output\n",
            "\n",
            "--- Streaming Input Folder Contents ---\n",
            "/content/streaming_input:\n"
          ]
        }
      ]
    },
    {
      "cell_type": "code",
      "source": [
        "## STEP 2: CREATE INITIAL DATA FILE FOR STREAMING SOURCE\n",
        "\n",
        "# Save a small subset of the original DataFrame as the initial streaming file\n",
        "initial_data = amazon_df.limit(100)\n",
        "initial_data.write.csv(INPUT_PATH + \"initial_batch.csv\", header=True, mode=\"overwrite\")\n",
        "\n",
        "print(\"Initial streaming data batch created.\")"
      ],
      "metadata": {
        "colab": {
          "base_uri": "https://localhost:8080/"
        },
        "id": "45_dt4jxOusV",
        "outputId": "6ee5aa69-634e-4b27-f556-14e1e626eab3"
      },
      "execution_count": 16,
      "outputs": [
        {
          "output_type": "stream",
          "name": "stdout",
          "text": [
            "Initial streaming data batch created.\n"
          ]
        }
      ]
    },
    {
      "cell_type": "code",
      "source": [
        "from pyspark.sql.functions import sum as spark_sum, col, round\n",
        "\n",
        "## STEP 3: START SPARK STRUCTURED STREAMING QUERY\n",
        "\n",
        "# Define the schema of the streaming data (must match the source data structure)\n",
        "# We use the schema from the existing DataFrame for reliability.\n",
        "input_schema = amazon_df.schema\n",
        "\n",
        "# 1. READ STREAM: Define the streaming source (the folder)\n",
        "sales_stream_df = spark.readStream \\\n",
        "    .schema(input_schema) \\\n",
        "    .csv(INPUT_PATH)\n",
        "\n",
        "# 2. TRANSFORMATION (MapReduce Logic): Calculate total sales by category\n",
        "# This will be recalculated every time a new file arrives.\n",
        "category_sales_stream = sales_stream_df \\\n",
        "    .withColumn(\"Amount\", col(\"Amount\").cast(\"double\")) \\\n",
        "    .groupBy(\"Category\") \\\n",
        "    .agg(\n",
        "        round(spark_sum(col(\"Amount\")), 2).alias(\"Total_Sales_Amount\")\n",
        "    ) \\\n",
        "    .orderBy(col(\"Total_Sales_Amount\").desc())\n",
        "\n",
        "\n",
        "# 3. WRITE STREAM: Define the output sink\n",
        "# The 'complete' output mode ensures the entire aggregated result is written on every trigger.\n",
        "# Note: For Colab, we write to the console (memory) or an external path (file/database).\n",
        "# Here, we will write to the console for real-time viewing.\n",
        "\n",
        "query = category_sales_stream.writeStream \\\n",
        "    .outputMode(\"complete\") \\\n",
        "    .format(\"console\") \\\n",
        "    .option(\"checkpointLocation\", CHECKPOINT_PATH) \\\n",
        "    .option(\"truncate\", \"false\") \\\n",
        "    .start()\n",
        "\n",
        "print(\"\\n--- Spark Streaming Query Started (Monitoring Input Folder) ---\")\n",
        "print(\"New results will appear in the console when a new file is added to the folder.\")\n",
        "\n",
        "# The query runs asynchronously. Wait a few seconds for the initial batch to process.\n",
        "import time\n",
        "time.sleep(10) # Wait 10 seconds for initial processing"
      ],
      "metadata": {
        "colab": {
          "base_uri": "https://localhost:8080/"
        },
        "id": "S8Yzh1QLOz-O",
        "outputId": "9b6f7875-af0d-4359-f429-b57c80a801bb"
      },
      "execution_count": 17,
      "outputs": [
        {
          "output_type": "stream",
          "name": "stdout",
          "text": [
            "\n",
            "--- Spark Streaming Query Started (Monitoring Input Folder) ---\n",
            "New results will appear in the console when a new file is added to the folder.\n"
          ]
        }
      ]
    },
    {
      "cell_type": "code",
      "source": [
        "## STEP 4: ADD A NEW FILE TO SIMULATE REAL-TIME DATA (TRIGGERING RECALCULATION)\n",
        "\n",
        "print(\"\\n--- Simulating New Data Arrival (Triggering Stream) ---\")\n",
        "\n",
        "# Create a small, new batch of data\n",
        "new_batch_df = amazon_df.limit(50).withColumn(\"New_Order\", col(\"Amount\") * 1.5)\n",
        "\n",
        "# Save this new data to a new file in the input folder\n",
        "new_batch_df.write.csv(INPUT_PATH + \"second_batch.csv\", header=True, mode=\"overwrite\")\n",
        "\n",
        "print(\"Second data batch added to the input folder.\")\n",
        "\n",
        "# Wait for the stream to process the new file (Wait 10-15 seconds)\n",
        "time.sleep(15)\n",
        "\n",
        "# Stop the streaming query after simulation\n",
        "query.stop()\n",
        "print(\"\\n--- Streaming Query Stopped ---\")"
      ],
      "metadata": {
        "colab": {
          "base_uri": "https://localhost:8080/"
        },
        "id": "6E1oYIsTO6S2",
        "outputId": "089fe605-013f-4c60-df8a-12edcdbb82ec"
      },
      "execution_count": 18,
      "outputs": [
        {
          "output_type": "stream",
          "name": "stdout",
          "text": [
            "\n",
            "--- Simulating New Data Arrival (Triggering Stream) ---\n",
            "Second data batch added to the input folder.\n",
            "\n",
            "--- Streaming Query Stopped ---\n"
          ]
        }
      ]
    },
    {
      "cell_type": "markdown",
      "source": [
        "### Concept Interpretation: Real-Time Data and Velocity\n",
        "\n",
        "The Streaming task clearly demonstrates the concept of **Real-Time Data** in the context of high **Velocity**:\n",
        "\n",
        "1.  **Real-Time Data Simulation:** The process simulated a system where continuous data (new sales transactions) arrived as new files. Spark Streaming's ability to constantly monitor the input folder and immediately process the **second batch** without restarting the entire system proves its real-time capability.\n",
        "\n",
        "2.  **Velocity Application:** This is a direct, practical example of the **Velocity** characteristic of Big Data. In an actual e-commerce environment, every customer purchase is a new data point that must be analyzed immediately. Spark Streaming allows the business to calculate metrics like *Total Sales by Category* on the fly, providing near-instantaneous business intelligence crucial for timely operational adjustments (e.g., inventory alerts, fraud detection).\n",
        "\n",
        "**Conclusion:** Unlike batch processing (Sections 2 & 3) where analysis runs on static data, **Spark Streaming enables continuous analytics** on data in motion, making it an essential tool for handling high-velocity data streams."
      ],
      "metadata": {
        "id": "VxBEGFwZO8eA"
      }
    },
    {
      "cell_type": "markdown",
      "source": [
        "## 💾 Section 5 — Distributed Storage (HDFS & S3)"
      ],
      "metadata": {
        "id": "TlJH1e2KBGXL"
      }
    },
    {
      "cell_type": "code",
      "source": [
        "## STEP 1: SAVE DATA IN PARQUET FORMAT\n",
        "\n",
        "# Define a path in the local Colab filesystem to simulate distributed storage\n",
        "PARQUET_PATH = \"/content/amazon_sales_parquet/\"\n",
        "\n",
        "# Save the DataFrame in Parquet format\n",
        "amazon_df.write.mode(\"overwrite\").parquet(PARQUET_PATH)\n",
        "\n",
        "print(f\"Data successfully saved to Parquet format at: {PARQUET_PATH}\")"
      ],
      "metadata": {
        "id": "48FczbydBHrD",
        "colab": {
          "base_uri": "https://localhost:8080/"
        },
        "outputId": "03911a7a-ee67-4d86-a93e-8d51bf052ea4"
      },
      "execution_count": 19,
      "outputs": [
        {
          "output_type": "stream",
          "name": "stdout",
          "text": [
            "Data successfully saved to Parquet format at: /content/amazon_sales_parquet/\n"
          ]
        }
      ]
    },
    {
      "cell_type": "code",
      "source": [
        "## STEP 2: READ PARQUET DATA AND VERIFY ROW COUNT\n",
        "\n",
        "# Read the Parquet file back into a new DataFrame\n",
        "parquet_df = spark.read.parquet(PARQUET_PATH)\n",
        "\n",
        "# Check the row count to verify data integrity\n",
        "parquet_row_count = parquet_df.count()\n",
        "\n",
        "# Check the schema to see if data types were preserved\n",
        "print(\"\\n--- Parquet DataFrame Schema ---\")\n",
        "parquet_df.printSchema()\n",
        "\n",
        "print(f\"\\nOriginal Row Count: {amazon_df.count():,}\")\n",
        "print(f\"Parquet Read Row Count: {parquet_row_count:,}\")\n",
        "\n",
        "if amazon_df.count() == parquet_row_count:\n",
        "    print(\"Verification Successful: All rows were preserved during Parquet save/read.\")"
      ],
      "metadata": {
        "colab": {
          "base_uri": "https://localhost:8080/"
        },
        "id": "p-JqkHg2PuQ3",
        "outputId": "9e0be5f4-9c63-4e57-feb1-ad39b1706256"
      },
      "execution_count": 20,
      "outputs": [
        {
          "output_type": "stream",
          "name": "stdout",
          "text": [
            "\n",
            "--- Parquet DataFrame Schema ---\n",
            "root\n",
            " |-- index: integer (nullable = true)\n",
            " |-- Order ID: string (nullable = true)\n",
            " |-- Date: string (nullable = true)\n",
            " |-- Status: string (nullable = true)\n",
            " |-- Fulfilment: string (nullable = true)\n",
            " |-- Sales Channel : string (nullable = true)\n",
            " |-- ship-service-level: string (nullable = true)\n",
            " |-- Style: string (nullable = true)\n",
            " |-- SKU: string (nullable = true)\n",
            " |-- Category: string (nullable = true)\n",
            " |-- Size: string (nullable = true)\n",
            " |-- ASIN: string (nullable = true)\n",
            " |-- Courier Status: string (nullable = true)\n",
            " |-- Qty: integer (nullable = true)\n",
            " |-- currency: string (nullable = true)\n",
            " |-- Amount: double (nullable = true)\n",
            " |-- ship-city: string (nullable = true)\n",
            " |-- ship-state: string (nullable = true)\n",
            " |-- ship-postal-code: double (nullable = true)\n",
            " |-- ship-country: string (nullable = true)\n",
            " |-- promotion-ids: string (nullable = true)\n",
            " |-- B2B: boolean (nullable = true)\n",
            " |-- fulfilled-by: string (nullable = true)\n",
            " |-- Unnamed: 22: boolean (nullable = true)\n",
            "\n",
            "\n",
            "Original Row Count: 128,975\n",
            "Parquet Read Row Count: 128,975\n",
            "Verification Successful: All rows were preserved during Parquet save/read.\n"
          ]
        }
      ]
    },
    {
      "cell_type": "markdown",
      "source": [
        "### Advantages of the Parquet Format\n",
        "\n",
        "The Parquet format is the industry standard for analytical workloads in Spark due to its technical superiority:\n",
        "\n",
        "1.  **Columnar Storage:** Instead of storing data row-by-row, Parquet stores data column-by-column. This means when a query only needs a few columns (e.g., `Category` and `Amount`), Spark only reads those specific columns, leading to significant **I/O reduction** and **faster query execution**.\n",
        "2.  **Efficient Compression:** Storing data by column allows for better compression algorithms, as data within a single column is generally of the same type and has similar patterns. This results in smaller file sizes, saving storage costs.\n",
        "3.  **Schema Evolution:** Parquet supports adding new columns or changing existing ones without affecting the ability to read old data, crucial for long-term data warehousing.\n",
        "4.  **Optimized Encoding:** It is highly integrated with Spark (and its underlying technologies like the Catalyst Optimizer) and supports data partitioning and efficient encoding techniques."
      ],
      "metadata": {
        "id": "KJ4o0IcUQPLr"
      }
    },
    {
      "cell_type": "code",
      "source": [
        "## OPTIONAL STEP: JSON COMPARISON AND S3 SIMULATION\n",
        "\n",
        "# 1. Simulate saving in the less efficient JSON format\n",
        "JSON_PATH = \"/content/amazon_sales_json/\"\n",
        "amazon_df.write.mode(\"overwrite\").json(JSON_PATH)\n",
        "\n",
        "print(f\"\\nData saved in JSON format at: {JSON_PATH}\")\n",
        "\n",
        "# 2. Simulate writing to S3 (Cannot connect to AWS, so we simulate the path)\n",
        "# The file system driver (s3a) is necessary in a real Spark environment.\n",
        "print(\"\\n--- S3 Simulation ---\")\n",
        "print(\"In a real environment, the command would look like this (but cannot be executed in Colab):\")\n",
        "\n",
        "# This is a hypothetical command for demonstration:\n",
        "S3_SIMULATION_CODE = f\"\"\"\n",
        "amazon_df.write.mode(\"overwrite\").parquet(\"s3a://fake-bucket/amazon_sales/\")\n",
        "\"\"\"\n",
        "print(S3_SIMULATION_CODE)"
      ],
      "metadata": {
        "colab": {
          "base_uri": "https://localhost:8080/"
        },
        "id": "DLKVPushQU4g",
        "outputId": "ca17fbca-d19d-4e08-9c7b-93a2296c2e33"
      },
      "execution_count": 21,
      "outputs": [
        {
          "output_type": "stream",
          "name": "stdout",
          "text": [
            "\n",
            "Data saved in JSON format at: /content/amazon_sales_json/\n",
            "\n",
            "--- S3 Simulation ---\n",
            "In a real environment, the command would look like this (but cannot be executed in Colab):\n",
            "\n",
            "amazon_df.write.mode(\"overwrite\").parquet(\"s3a://fake-bucket/amazon_sales/\")\n",
            "\n"
          ]
        }
      ]
    },
    {
      "cell_type": "markdown",
      "source": [
        "### JSON vs. Parquet Observation\n",
        "\n",
        "JSON is a human-readable, row-based format commonly used for data exchange, but it is **inefficient for analytics**.\n",
        "\n",
        "* **Parquet:** Optimized for reading partial data (columnar) and highly compressed. **Best for analysis.**\n",
        "* **JSON:** Reads the entire row even if only one column is needed, leading to slower query times and higher storage requirements. **Best for data transfer and human readability.**"
      ],
      "metadata": {
        "id": "K40Q4jfsQyPh"
      }
    },
    {
      "cell_type": "markdown",
      "source": [
        "### Why Distributed Storage Systems Are Critical\n",
        "\n",
        "Distributed storage systems like **HDFS (Hadoop Distributed File System)** and **S3 (Amazon Simple Storage Service)** are fundamental to Big Data infrastructure and the success of a PySpark project:\n",
        "\n",
        "1.  **Scalability and Elasticity:** They are designed to scale horizontally to handle petabytes of data, far beyond the capacity of a single server. S3 is virtually limitless (elastic).\n",
        "2.  **Fault Tolerance:** They ensure data is safe by storing multiple redundant copies across different nodes (HDFS) or availability zones (S3). If one server fails, the data remains accessible.\n",
        "3.  **Data Locality (HDFS):** HDFS stores data close to the processing units, allowing Spark workers to process data on the same machine where it resides. This minimizes network traffic and is crucial for high-speed computation. (S3 provides high speed via proximity, but not true data locality).\n",
        "4.  **Decoupling Storage and Compute:** These systems allow storage to scale independently of compute resources (Spark cluster), providing flexibility and cost efficiency."
      ],
      "metadata": {
        "id": "1Qe0akJORGFI"
      }
    },
    {
      "cell_type": "markdown",
      "source": [
        "## 🔎 Section 6 — Data Processing with PySpark (Filter, Aggregation, Joins)\n",
        "This section demonstrates the use of core PySpark DataFrame APIs to perform essential data manipulation tasks."
      ],
      "metadata": {
        "id": "wAuclFnUBHR1"
      }
    },
    {
      "cell_type": "markdown",
      "source": [
        "### 🧹 Filtering: Showing Orders with Price Higher Than 1000\n",
        "We use the filter method to apply a condition based on the Amount column."
      ],
      "metadata": {
        "id": "uunInNLhtv5w"
      }
    },
    {
      "cell_type": "code",
      "source": [
        "from pyspark.sql.functions import col\n",
        "\n",
        "# Filtering orders where Amount is greater than 1000\n",
        "high_value_orders = amazon_df.filter(col(\"Amount\") > 1000)\n",
        "\n",
        "print(\"--- 1. Orders with Price Higher than 1000 ---\")\n",
        "high_value_orders.select(\"Order ID\", \"Amount\", \"Category\").show(5, truncate=False)\n",
        "print(f\"Total High-Value Orders: {high_value_orders.count():,}\")"
      ],
      "metadata": {
        "colab": {
          "base_uri": "https://localhost:8080/"
        },
        "id": "zvg2qC3EtrLV",
        "outputId": "8c51cb93-80cf-4e2f-eecd-0418a7c1bc7c"
      },
      "execution_count": 34,
      "outputs": [
        {
          "output_type": "stream",
          "name": "stdout",
          "text": [
            "--- 1. Orders with Price Higher than 1000 ---\n",
            "+-------------------+------+--------+\n",
            "|Order ID           |Amount|Category|\n",
            "+-------------------+------+--------+\n",
            "|404-9632124-1107550|1233.0|Set     |\n",
            "|408-3478480-0881162|1126.0|Set     |\n",
            "|408-3917043-5314763|1146.0|Set     |\n",
            "|408-7138000-9728362|1033.0|Set     |\n",
            "|405-6480932-8759528|1146.0|Set     |\n",
            "+-------------------+------+--------+\n",
            "only showing top 5 rows\n",
            "\n",
            "Total High-Value Orders: 13,332\n"
          ]
        }
      ]
    },
    {
      "cell_type": "markdown",
      "source": [],
      "metadata": {
        "id": "kv4IcwUq2DCD"
      }
    },
    {
      "cell_type": "markdown",
      "source": [
        "### 📊 Grouping: Calculating Total Sales by State\n",
        "This aggregation task groups the data by the shipping state (ship-state) and sums the Amount."
      ],
      "metadata": {
        "id": "n6aaNY6Yt5tT"
      }
    },
    {
      "cell_type": "code",
      "source": [
        "from pyspark.sql.functions import sum, round\n",
        "\n",
        "# Calculating total sales grouped by the shipping state\n",
        "sales_by_state = amazon_df.groupBy(\"ship-state\").agg(\n",
        "    round(sum(\"Amount\"), 2).alias(\"Total_Sales_by_State\")\n",
        ").orderBy(col(\"Total_Sales_by_State\").desc())\n",
        "\n",
        "print(\"\\n--- 2. Total Sales by State (Top 5) ---\")\n",
        "sales_by_state.show(5, truncate=False)"
      ],
      "metadata": {
        "colab": {
          "base_uri": "https://localhost:8080/"
        },
        "id": "OuhNKhYnR863",
        "outputId": "cd4a3372-8e7e-441f-f3c8-0b2ccd9270d8"
      },
      "execution_count": 23,
      "outputs": [
        {
          "output_type": "stream",
          "name": "stdout",
          "text": [
            "\n",
            "--- 2. Total Sales by State (Top 5) ---\n",
            "+-------------+--------------------+\n",
            "|ship-state   |Total_Sales_by_State|\n",
            "+-------------+--------------------+\n",
            "|MAHARASHTRA  |1.333553414E7       |\n",
            "|KARNATAKA    |1.048111437E7       |\n",
            "|TELANGANA    |6916615.65          |\n",
            "|UTTAR PRADESH|6816642.08          |\n",
            "|TAMIL NADU   |6515650.11          |\n",
            "+-------------+--------------------+\n",
            "only showing top 5 rows\n",
            "\n"
          ]
        }
      ]
    },
    {
      "cell_type": "markdown",
      "source": [
        "### 🤝 Joining: Creating a Secondary DataFrame and Joining\n",
        "We simulate a real-world scenario by creating a small auxiliary DataFrame *and* joining it with the main sales data using the Category column as the key."
      ],
      "metadata": {
        "id": "d2CL06ect_XB"
      }
    },
    {
      "cell_type": "code",
      "source": [
        "from pyspark.sql import Row\n",
        "\n",
        "# 3a. Create a secondary DataFrame (Category Info)\n",
        "category_data = [\n",
        "    Row(Category=\"Set\", Description=\"Kurta and Pants/Skirts sets\"),\n",
        "    Row(Category=\"kurta\", Description=\"Single piece traditional tunic\"),\n",
        "    Row(Category=\"Western Dress\", Description=\"Modern casual or formal dresses\"),\n",
        "    Row(Category=\"Top\", Description=\"Upper wear for Western outfits\")\n",
        "]\n",
        "category_df = spark.createDataFrame(category_data)\n",
        "category_df.show(truncate=False)\n",
        "\n",
        "# 3b. Joining the main DataFrame with the new category_df\n",
        "# We use a 'left' join to keep all original sales records.\n",
        "joined_df = amazon_df.join(\n",
        "    category_df,\n",
        "    on=\"Category\",\n",
        "    how=\"left\"\n",
        ").select(\"Order ID\", \"Category\", \"Description\", \"Amount\")\n",
        "\n",
        "print(\"\\n--- 3. Joining with Category Description ---\")\n",
        "joined_df.filter(col(\"Description\").isNotNull()).show(5, truncate=False)"
      ],
      "metadata": {
        "colab": {
          "base_uri": "https://localhost:8080/"
        },
        "id": "hsbks4jkt_0V",
        "outputId": "7f0ab823-fa70-484e-f508-0c6f059849dd"
      },
      "execution_count": 24,
      "outputs": [
        {
          "output_type": "stream",
          "name": "stdout",
          "text": [
            "+-------------+-------------------------------+\n",
            "|Category     |Description                    |\n",
            "+-------------+-------------------------------+\n",
            "|Set          |Kurta and Pants/Skirts sets    |\n",
            "|kurta        |Single piece traditional tunic |\n",
            "|Western Dress|Modern casual or formal dresses|\n",
            "|Top          |Upper wear for Western outfits |\n",
            "+-------------+-------------------------------+\n",
            "\n",
            "\n",
            "--- 3. Joining with Category Description ---\n",
            "+-------------------+--------+---------------------------+------+\n",
            "|Order ID           |Category|Description                |Amount|\n",
            "+-------------------+--------+---------------------------+------+\n",
            "|405-8078784-5731545|Set     |Kurta and Pants/Skirts sets|647.62|\n",
            "|404-1490984-4578765|Set     |Kurta and Pants/Skirts sets|824.0 |\n",
            "|408-5748499-6859555|Set     |Kurta and Pants/Skirts sets|653.0 |\n",
            "|407-5443024-5233168|Set     |Kurta and Pants/Skirts sets|NULL  |\n",
            "|408-7955685-3083534|Set     |Kurta and Pants/Skirts sets|657.0 |\n",
            "+-------------------+--------+---------------------------+------+\n",
            "only showing top 5 rows\n",
            "\n"
          ]
        }
      ]
    },
    {
      "cell_type": "markdown",
      "source": [
        "### 🧮 Pivot Table: Total Sales with States as Rows and Categories as Columns\n",
        "Pivoting transforms the data from long format to wide format, summarizing sales across different dimensions."
      ],
      "metadata": {
        "id": "Fg8z7o6luuGU"
      }
    },
    {
      "cell_type": "code",
      "source": [
        "# Create a pivot table summarizing Total Sales Amount\n",
        "# Rows: ship-state | Columns: Category | Aggregation: Sum of Amount\n",
        "\n",
        "pivot_sales = amazon_df.groupBy(\"ship-state\").pivot(\"Category\").sum(\"Amount\")\n",
        "\n",
        "print(\"\\n--- 4. Sales Pivot Table (States as Rows, Categories as Columns) ---\")\n",
        "# Fill null values (where a state has no sales for a category) with 0 for cleaner viewing\n",
        "pivot_sales.na.fill(0).show(5, truncate=False)"
      ],
      "metadata": {
        "colab": {
          "base_uri": "https://localhost:8080/"
        },
        "id": "ImUcOUJsus9n",
        "outputId": "546b1bd0-8fce-40ae-9241-ea92f8464cc2"
      },
      "execution_count": 25,
      "outputs": [
        {
          "output_type": "stream",
          "name": "stdout",
          "text": [
            "\n",
            "--- 4. Sales Pivot Table (States as Rows, Categories as Columns) ---\n",
            "+---------------+------+------+-------+------------+-----+------------------+--------+------------------+------------------+\n",
            "|ship-state     |Blouse|Bottom|Dupatta|Ethnic Dress|Saree|Set               |Top     |Western Dress     |kurta             |\n",
            "+---------------+------+------+-------+------------+-----+------------------+--------+------------------+------------------+\n",
            "|DADRA AND NAGAR|0.0   |0.0   |0.0    |0.0         |0.0  |28439.920000000006|1550.0  |4031.0            |8118.0            |\n",
            "|SIKKIM         |0.0   |0.0   |0.0    |999.0       |0.0  |97657.95          |10442.33|14635.240000000002|14391.14          |\n",
            "|Nagaland       |0.0   |0.0   |0.0    |0.0         |0.0  |664.0             |0.0     |0.0               |0.0               |\n",
            "|delhi          |0.0   |0.0   |0.0    |388.0       |0.0  |10398.619999999999|0.0     |2552.0            |3215.0            |\n",
            "|MEGHALAYA      |463.0 |329.0 |0.0    |798.0       |0.0  |62039.66          |8745.0  |19868.0           |26707.239999999998|\n",
            "+---------------+------+------+-------+------------+-----+------------------+--------+------------------+------------------+\n",
            "only showing top 5 rows\n",
            "\n"
          ]
        }
      ]
    },
    {
      "cell_type": "markdown",
      "source": [
        "### -> Commentary:\n",
        "\n",
        "Why PySpark is More Efficient than Classic Python (Pandas)\n",
        "\n",
        "For these data processing tasks (Filtering, Grouping, Joining, Pivoting), **PySpark** holds a distinct advantage over single-machine Python libraries like Pandas, primarily due to its distributed architecture and optimization:\n",
        "\n",
        "1.  **Scalability (Distributed Processing):** PySpark distributes the workload (data and computation) across a cluster of multiple machines. When processing massive datasets (terabytes or petabytes), PySpark executes the filter, group, or join operation **simultaneously** across all worker nodes. Pandas is limited by the memory and CPU of a single machine.\n",
        "2.  **Optimization (Catalyst Engine):** PySpark leverages the **Catalyst Optimizer** to analyze the entire execution plan and optimize the sequence of transformations before running the code. This smart planning minimizes data shuffling (a costly operation) and ensures the most efficient data handling, an advantage Pandas lacks.\n",
        "3.  **Fault Tolerance (RDDs):** PySpark's underlying **RDDs (Resilient Distributed Datasets)** provide inherent fault tolerance. If a worker node fails during a complex operation like a join, Spark can automatically recompute the lost data partitions, guaranteeing the task completes successfully without intervention.\n",
        "\n",
        "**Conclusion:** While Pandas is suitable for small, exploratory datasets, **PySpark is the necessary tool for achieving the required speed, scalability, and reliability** when working with Big Data volumes characteristic of real-world e-commerce transactions."
      ],
      "metadata": {
        "id": "5u4WER_Yusrk"
      }
    },
    {
      "cell_type": "markdown",
      "source": [
        "## 📤 Section 7 — Distributed Storage (Parquet & S3)\n",
        "This section focuses on using the highly efficient Parquet format and understanding the necessary configuration for connecting PySpark to cloud storage systems like Amazon S3."
      ],
      "metadata": {
        "id": "WBxMxkCmBIPK"
      }
    },
    {
      "cell_type": "markdown",
      "source": [
        "### 📝 Save Data in Parquet Format and Verify\n",
        "We save the entire amazon_df into a local directory in the columnar Parquet format and then read it back to verify data integrity."
      ],
      "metadata": {
        "id": "JUCzXq99w1tZ"
      }
    },
    {
      "cell_type": "code",
      "source": [
        "## 1. SAVE DATA IN PARQUET FORMAT AND VERIFY\n",
        "\n",
        "# Define a path in the local Colab filesystem to simulate distributed storage\n",
        "PARQUET_PATH = \"/content/amazon_sales_parquet_final/\"\n",
        "\n",
        "# Save the DataFrame in Parquet format\n",
        "amazon_df.write.mode(\"overwrite\").parquet(PARQUET_PATH)\n",
        "\n",
        "print(f\"Data successfully saved to Parquet format at: {PARQUET_PATH}\")\n",
        "\n",
        "# Read the Parquet file back into a new DataFrame\n",
        "parquet_df = spark.read.parquet(PARQUET_PATH)\n",
        "\n",
        "# Check the row count to verify data integrity\n",
        "parquet_row_count = parquet_df.count()\n",
        "original_row_count = amazon_df.count()\n",
        "\n",
        "print(f\"\\nOriginal Row Count: {original_row_count:,}\")\n",
        "print(f\"Parquet Read Row Count: {parquet_row_count:,}\")\n",
        "\n",
        "if original_row_count == parquet_row_count:\n",
        "    print(\"Verification Successful: All rows were preserved.\")"
      ],
      "metadata": {
        "id": "kMRezMhIBIwj",
        "colab": {
          "base_uri": "https://localhost:8080/"
        },
        "outputId": "01368b2d-1b57-4624-9b18-8d2d187b11da"
      },
      "execution_count": 26,
      "outputs": [
        {
          "output_type": "stream",
          "name": "stdout",
          "text": [
            "Data successfully saved to Parquet format at: /content/amazon_sales_parquet_final/\n",
            "\n",
            "Original Row Count: 128,975\n",
            "Parquet Read Row Count: 128,975\n",
            "Verification Successful: All rows were preserved.\n"
          ]
        }
      ]
    },
    {
      "cell_type": "markdown",
      "source": [
        "### ⚙️ S3 Connection Configuration Check\n",
        "Connecting Spark to S3 requires configuring the S3 FileSystem (S3A) driver and providing credentials. Since we cannot connect to a real S3 bucket in Colab, we show the required configuration keys."
      ],
      "metadata": {
        "id": "zpt8Rn63w-Ht"
      }
    },
    {
      "cell_type": "code",
      "source": [
        "## 2. CHECK S3 CONNECTION CONFIGURATION (Hadoop/Spark Settings)\n",
        "\n",
        "print(\"\\n--- Required S3 Connection Configuration ---\")\n",
        "print(\"To connect Spark to a specific S3 bucket, these properties must be set:\")\n",
        "\n",
        "# This is the configuration required on the SparkContext (or during session creation)\n",
        "S3_CONFIG_EXPLANATION = \"\"\"\n",
        "# 1. S3 Filesystem Driver: Ensures Spark uses the S3A client.\n",
        "spark.hadoop.fs.s3a.impl = org.apache.hadoop.fs.s3a.S3AFileSystem\n",
        "\n",
        "# 2. Access Credentials (Must be kept secure!):\n",
        "spark.hadoop.fs.s3a.access.key = <YOUR_AWS_ACCESS_KEY>\n",
        "spark.hadoop.fs.s3a.secret.key = <YOUR_AWS_SECRET_KEY>\n",
        "\n",
        "# 3. Connection Endpoint (if using a custom service like MinIO or a specific region):\n",
        "# spark.hadoop.fs.s3a.endpoint = s3.us-east-1.amazonaws.com\n",
        "# (or http://minio-host:9000 for local simulation)\n",
        "\"\"\"\n",
        "print(S3_CONFIG_EXPLANATION)\n",
        "\n",
        "# Hypothetical S3 Write Command\n",
        "S3_WRITE_SIMULATION = 'amazon_df.write.mode(\"overwrite\").parquet(\"s3a://your-target-bucket/amazon_sales_data/\")'\n",
        "print(f\"\\nExample S3 Write Command:\\n{S3_WRITE_SIMULATION}\")"
      ],
      "metadata": {
        "colab": {
          "base_uri": "https://localhost:8080/"
        },
        "id": "psYtwzLHxIdj",
        "outputId": "e98a6be8-5011-4bd0-f27e-ef3b00b15719"
      },
      "execution_count": 27,
      "outputs": [
        {
          "output_type": "stream",
          "name": "stdout",
          "text": [
            "\n",
            "--- Required S3 Connection Configuration ---\n",
            "To connect Spark to a specific S3 bucket, these properties must be set:\n",
            "\n",
            "# 1. S3 Filesystem Driver: Ensures Spark uses the S3A client.\n",
            "spark.hadoop.fs.s3a.impl = org.apache.hadoop.fs.s3a.S3AFileSystem\n",
            "\n",
            "# 2. Access Credentials (Must be kept secure!):\n",
            "spark.hadoop.fs.s3a.access.key = <YOUR_AWS_ACCESS_KEY>\n",
            "spark.hadoop.fs.s3a.secret.key = <YOUR_AWS_SECRET_KEY>\n",
            "\n",
            "# 3. Connection Endpoint (if using a custom service like MinIO or a specific region):\n",
            "# spark.hadoop.fs.s3a.endpoint = s3.us-east-1.amazonaws.com\n",
            "# (or http://minio-host:9000 for local simulation)\n",
            "\n",
            "\n",
            "Example S3 Write Command:\n",
            "amazon_df.write.mode(\"overwrite\").parquet(\"s3a://your-target-bucket/amazon_sales_data/\")\n"
          ]
        }
      ]
    },
    {
      "cell_type": "markdown",
      "source": [
        "### ☁️ Simulating Local S3 (MinIO / LocalStack)\n",
        "While the full simulation requires setting up a separate Docker container (MinIO/LocalStack), the code below shows how you would configure Spark to point to this local endpoint instead of the public AWS endpoint."
      ],
      "metadata": {
        "id": "NP6CQ5xUxOQs"
      }
    },
    {
      "cell_type": "code",
      "source": [
        "## 3. (Optional) MINIO/LOCALSTACK SIMULATION CONFIG\n",
        "\n",
        "MINIO_SIMULATION = \"\"\"\n",
        "# If using MinIO/LocalStack, you must configure the endpoint and disable HTTPS:\n",
        "# Setting the endpoint URL for the local service\n",
        "spark.hadoop.fs.s3a.endpoint = http://localhost:9000\n",
        "# Disabling secure connection for the local test environment\n",
        "spark.hadoop.fs.s3a.path.style.access = true\n",
        "spark.hadoop.fs.s3a.connection.ssl.enabled = false\n",
        "\n",
        "# The write path would then use the MinIO service:\n",
        "# amazon_df.write.mode(\"overwrite\").parquet(\"s3a://minio-bucket/data/\")\n",
        "\"\"\"\n",
        "print(\"\\n--- MinIO/LocalStack Local S3 Simulation Settings ---\")\n",
        "print(MINIO_SIMULATION)"
      ],
      "metadata": {
        "colab": {
          "base_uri": "https://localhost:8080/"
        },
        "id": "8OKHal64xTtT",
        "outputId": "c05b34c2-5148-4ee7-bb49-e02402e168e7"
      },
      "execution_count": 28,
      "outputs": [
        {
          "output_type": "stream",
          "name": "stdout",
          "text": [
            "\n",
            "--- MinIO/LocalStack Local S3 Simulation Settings ---\n",
            "\n",
            "# If using MinIO/LocalStack, you must configure the endpoint and disable HTTPS:\n",
            "# Setting the endpoint URL for the local service\n",
            "spark.hadoop.fs.s3a.endpoint = http://localhost:9000 \n",
            "# Disabling secure connection for the local test environment\n",
            "spark.hadoop.fs.s3a.path.style.access = true\n",
            "spark.hadoop.fs.s3a.connection.ssl.enabled = false \n",
            "\n",
            "# The write path would then use the MinIO service:\n",
            "# amazon_df.write.mode(\"overwrite\").parquet(\"s3a://minio-bucket/data/\")\n",
            "\n"
          ]
        }
      ]
    },
    {
      "cell_type": "markdown",
      "source": [
        "### Basic Logic of S3 Connections\n",
        "\n",
        "Connecting Spark to S3 (Amazon Simple Storage Service) leverages the **S3A Hadoop FileSystem driver** . S3 serves as the highly scalable, durable, and cost-effective distributed storage layer (similar to HDFS, but cloud-native) for Big Data processing.\n",
        "\n",
        "* **Access Key & Secret Key:** These credentials authenticate the Spark cluster to AWS, granting permission to read and write data to specific buckets. They function as a **username and password** for the S3 service.\n",
        "* **Bucket:** This is the highest-level container (similar to a root folder) where data is stored. S3 buckets must have globally unique names.\n",
        "* **Path (Prefix):** This defines the folder structure *within* the bucket where the data files are located or will be written (e.g., `s3a://<BUCKET_NAME>/<PATH>/<FILE_NAME>`).\n",
        "* **Endpoint:** This specifies the AWS region (or the URL, if using a local simulator like MinIO) that Spark should communicate with to access the data.\n",
        "\n",
        "**Importance:** By configuring S3, the PySpark application becomes fully **cloud-ready**, enabling it to process data without being limited by the local storage of the cluster nodes."
      ],
      "metadata": {
        "id": "3Vj_tbVoxZ-Q"
      }
    },
    {
      "cell_type": "markdown",
      "source": [
        "## 📈 Section 8 — Visualization Tasks"
      ],
      "metadata": {
        "id": "GraQM5SqBrTH"
      }
    },
    {
      "cell_type": "code",
      "source": [
        "import matplotlib.pyplot as plt\n",
        "import seaborn as sns\n",
        "from pyspark.sql.functions import col, sum, avg, to_date, date_format, round\n",
        "\n",
        "# Set default style for matplotlib/seaborn charts\n",
        "sns.set_style(\"whitegrid\")\n",
        "plt.rcParams['figure.figsize'] = (12, 6) # Default figure size\n",
        "plt.rcParams['figure.dpi'] = 100 # Default dpi for better resolution"
      ],
      "metadata": {
        "id": "G3aXNzk3BuJO"
      },
      "execution_count": 29,
      "outputs": []
    },
    {
      "cell_type": "markdown",
      "source": [
        "### 📈 Daily Total Sales Trends (Line Chart)\n",
        "This chart reveals seasonal or cyclical patterns by showing sales trends over time."
      ],
      "metadata": {
        "id": "ODu4ODUIyO4Y"
      }
    },
    {
      "cell_type": "code",
      "source": [
        "## 1. DAILY TOTAL SALES TRENDS (LINE CHART)\n",
        "\n",
        "# Prepare data: Convert 'Date' to proper date format and aggregate daily sales\n",
        "daily_sales_df = amazon_df \\\n",
        "    .withColumn(\"Order_Date\", to_date(col(\"Date\"), \"MM-dd-yy\")) \\\n",
        "    .groupBy(\"Order_Date\") \\\n",
        "    .agg(round(sum(\"Amount\"), 2).alias(\"Daily_Total_Sales\")) \\\n",
        "    .orderBy(\"Order_Date\")\n",
        "\n",
        "# Convert to Pandas for visualization\n",
        "daily_sales_pd = daily_sales_df.toPandas()\n",
        "\n",
        "# Create Line Chart\n",
        "plt.figure(figsize=(15, 7))\n",
        "sns.lineplot(x='Order_Date', y='Daily_Total_Sales', data=daily_sales_pd)\n",
        "plt.title('Daily Total Sales Trends')\n",
        "plt.xlabel('Date')\n",
        "plt.ylabel('Total Sales Amount')\n",
        "plt.xticks(rotation=45)\n",
        "plt.tight_layout()\n",
        "plt.show()"
      ],
      "metadata": {
        "colab": {
          "base_uri": "https://localhost:8080/",
          "height": 484
        },
        "id": "_txVLYk1ySqV",
        "outputId": "e9d2f902-5f41-409c-d75b-38edc5278377"
      },
      "execution_count": 35,
      "outputs": [
        {
          "output_type": "display_data",
          "data": {
            "text/plain": [
              "<Figure size 1500x700 with 1 Axes>"
            ],
            "image/png": "[encoded data removed]"
          },
          "metadata": {}
        }
      ]
    },
    {
      "cell_type": "markdown",
      "source": [
        "### 📊 Top 10 Categories (Bar Chart)\n",
        "This chart visually highlights which categories generate the highest sales, allowing focus areas for business strategies to be determined.\n"
      ],
      "metadata": {
        "id": "KDYOn05jyVSS"
      }
    },
    {
      "cell_type": "code",
      "source": [
        "## 2. TOP 10 CATEGORIES (BAR CHART)\n",
        "\n",
        "# Prepare data: Aggregate total sales by category\n",
        "top_categories_df = amazon_df \\\n",
        "    .groupBy(\"Category\") \\\n",
        "    .agg(round(sum(\"Amount\"), 2).alias(\"Total_Sales_Amount\")) \\\n",
        "    .orderBy(col(\"Total_Sales_Amount\").desc()) \\\n",
        "    .limit(10)\n",
        "\n",
        "# Convert to Pandas for visualization\n",
        "top_categories_pd = top_categories_df.toPandas()\n",
        "\n",
        "# Create Bar Chart\n",
        "plt.figure(figsize=(12, 7))\n",
        "sns.barplot(x='Category', y='Total_Sales_Amount', data=top_categories_pd, palette='viridis', hue='Category', legend=False)\n",
        "plt.title('Top 10 Categories by Total Sales Amount')\n",
        "plt.xlabel('Category')\n",
        "plt.ylabel('Total Sales Amount')\n",
        "plt.xticks(rotation=45, ha='right')\n",
        "plt.tight_layout()\n",
        "plt.show()"
      ],
      "metadata": {
        "colab": {
          "base_uri": "https://localhost:8080/",
          "height": 600
        },
        "id": "SyR_cKJJyXZG",
        "outputId": "896b2bb5-1a6e-4253-98cb-ef2d9f47d51d"
      },
      "execution_count": 40,
      "outputs": [
        {
          "output_type": "display_data",
          "data": {
            "text/plain": [
              "<Figure size 1200x700 with 1 Axes>"
            ],
            "image/png": "[encoded data removed]"
          },
          "metadata": {}
        }
      ]
    },
    {
      "cell_type": "markdown",
      "source": [
        "### 🏙️ Average Sales by Cities (Bar Chart)\n",
        "This chart helps in understanding regional performance by showing differences in average sales among cities."
      ],
      "metadata": {
        "id": "u4mmE74ayaYn"
      }
    },
    {
      "cell_type": "code",
      "source": [
        "## 3. AVERAGE SALES BY CITIES (BAR CHART)\n",
        "\n",
        "import warnings\n",
        "warnings.simplefilter(action='ignore', category=FutureWarning)\n",
        "\n",
        "# Prepare data: Aggregate average sales by ship-city\n",
        "avg_sales_by_city_df = amazon_df \\\n",
        "    .groupBy(\"ship-city\") \\\n",
        "    .agg(round(avg(\"Amount\"), 2).alias(\"Average_Sales_Per_Order\")) \\\n",
        "    .orderBy(col(\"Average_Sales_Per_Order\").desc()) \\\n",
        "    .limit(10)\n",
        "\n",
        "# Convert to Pandas for visualization\n",
        "avg_sales_by_city_pd = avg_sales_by_city_df.toPandas()\n",
        "\n",
        "# Create Bar Chart\n",
        "plt.figure(figsize=(12, 7))\n",
        "\n",
        "sns.barplot(\n",
        "    x='ship-city',\n",
        "    y='Average_Sales_Per_Order',\n",
        "    data=avg_sales_by_city_pd,\n",
        "    palette='magma',\n",
        "    hue='ship-city',\n",
        "    legend=False\n",
        ")\n",
        "plt.title('Top 10 Cities by Average Sales Per Order')\n",
        "plt.xlabel('City')\n",
        "plt.ylabel('Average Sales Per Order')\n",
        "plt.xticks(rotation=45, ha='right')\n",
        "plt.tight_layout()\n",
        "plt.show()"
      ],
      "metadata": {
        "colab": {
          "base_uri": "https://localhost:8080/",
          "height": 604
        },
        "id": "mOO4BYGzyeLM",
        "outputId": "34f0fd77-bb7f-4640-bfcd-f15a306c704f"
      },
      "execution_count": 42,
      "outputs": [
        {
          "output_type": "display_data",
          "data": {
            "text/plain": [
              "<Figure size 1200x700 with 1 Axes>"
            ],
            "image/png": "[encoded data removed]"
          },
          "metadata": {}
        }
      ]
    },
    {
      "cell_type": "markdown",
      "source": [
        "### 🏢 B2B vs. B2C Sales Comparison (Bar Chart)\n",
        "This chart provides insight into customer segmentation by illustrating the difference between B2B (Business-to-Business) and B2C (Business-to-Consumer) sales."
      ],
      "metadata": {
        "id": "3azPGOe8ygaz"
      }
    },
    {
      "cell_type": "code",
      "source": [
        "## 4. B2B vs. B2C Sales Comparison (Bar Chart)\n",
        "\n",
        "import warnings\n",
        "warnings.simplefilter(action='ignore', category=FutureWarning)\n",
        "\n",
        "# Prepare data: Aggregate total sales by B2B status\n",
        "b2b_sales_df = amazon_df \\\n",
        "    .groupBy(\"B2B\") \\\n",
        "    .agg(round(sum(\"Amount\"), 2).alias(\"Total_Sales_Amount\")) \\\n",
        "    .orderBy(\"B2B\")\n",
        "\n",
        "# Convert to Pandas for visualization\n",
        "b2b_sales_pd = b2b_sales_df.toPandas()\n",
        "\n",
        "# Create Bar Chart\n",
        "plt.figure(figsize=(8, 6))\n",
        "\n",
        "sns.barplot(\n",
        "    x='B2B',\n",
        "    y='Total_Sales_Amount',\n",
        "    data=b2b_sales_pd,\n",
        "    palette='coolwarm',\n",
        "    hue='B2B',\n",
        "    legend=False\n",
        ")\n",
        "plt.title('Total Sales: B2B vs. B2C')\n",
        "plt.xlabel('B2B (True = B2B, False = B2C)')\n",
        "plt.ylabel('Total Sales Amount')\n",
        "plt.xticks(ticks=[0, 1], labels=['B2C', 'B2B'])\n",
        "plt.tight_layout()\n",
        "plt.show()"
      ],
      "metadata": {
        "colab": {
          "base_uri": "https://localhost:8080/",
          "height": 607
        },
        "id": "4ibeWlcr1YRP",
        "outputId": "035995ee-60f5-4430-aa32-31e26900dc16"
      },
      "execution_count": 43,
      "outputs": [
        {
          "output_type": "display_data",
          "data": {
            "text/plain": [
              "<Figure size 800x600 with 1 Axes>"
            ],
            "image/png": "[encoded data removed]"
          },
          "metadata": {}
        }
      ]
    },
    {
      "cell_type": "markdown",
      "source": [
        "### Key Insights from Data Visualizations\n",
        "\n",
        "1.  **Sales Trends and Seasonality (Based on Daily Sales Trends Chart):**\n",
        "    * **Initial Analysis:** The sales data shows a rapid spike in early April 2022 and reached its highest peak in the beginning of May 2022.\n",
        "    * **Implication:** This significant spike suggests a high-impact promotional event or seasonal demand surge occurred around that time, crucial for campaign planning and inventory forecasting.\n",
        "\n",
        "2.  **Top Product Categories (Based on Top 10 Categories Chart):**\n",
        "    * **Initial Analysis:** The **'Set'** category is overwhelmingly dominant, generating sales that are nearly double those of the second-highest category, **'kurta'**.\n",
        "    * **Implication:** The business should critically analyze the 'Set' category's supply chain and profitability to ensure the continuous maximization of revenue from this primary cash cow.\n",
        "\n",
        "3.  **Customer Basket Value by City (Based on Top 10 Cities by Average Sales Per Order Chart):**\n",
        "    * **Initial Analysis:** **RAJGADH CHURU DISTRICT** stands out with a significantly higher average sales per order compared to other cities.\n",
        "    * **Implication:** This suggests that customers in RAJGADH CHURU DISTRICT either purchase higher-value items or buy more items in a single transaction, making it a **premium market segment** worth further investigation and targeted marketing.\n",
        "\n",
        "4.  **Customer Segmentation (Based on Total Sales: B2B vs. B2C Chart):**\n",
        "    * **Initial Analysis:** The chart clearly demonstrates an **overwhelming dominance of B2C sales**, with B2B sales contributing only a negligible portion to the total revenue.\n",
        "    * **Implication:** The company is fundamentally a **Consumer-focused business**. Management may decide to either dedicate minimal resources to the small B2B segment or launch an aggressive strategy to penetrate the B2B market, depending on strategic goals."
      ],
      "metadata": {
        "id": "9roVP4WyyobP"
      }
    },
    {
      "cell_type": "markdown",
      "source": [
        "## 🧠 Section 9 — Mini Analysis Report"
      ],
      "metadata": {
        "id": "CxeFwX8XBwMt"
      }
    },
    {
      "cell_type": "code",
      "source": [
        "from pyspark.sql.functions import col, avg, round\n",
        "\n",
        "# Calculate the 'Basket Value' for each order (Amount / Qty)\n",
        "basket_value_df = amazon_df.withColumn(\n",
        "    \"Basket_Value\",\n",
        "    col(\"Amount\") / col(\"Qty\")\n",
        ")\n",
        "\n",
        "# Calculate the final Average Basket Value across all orders\n",
        "average_basket_value = basket_value_df.agg(\n",
        "    round(avg(\"Basket_Value\"), 2).alias(\"Average_Basket_Value\")\n",
        ").collect()[0][\"Average_Basket_Value\"]\n",
        "\n",
        "print(f\"\\n--- Calculated Average Basket Value ---\")\n",
        "print(f\"The Average Basket Value (Amount/Qty) is: {average_basket_value}\")"
      ],
      "metadata": {
        "colab": {
          "base_uri": "https://localhost:8080/"
        },
        "id": "V5avSMy9LNE7",
        "outputId": "dff3ae6a-ee39-4a62-a2d9-af98eb179f8b"
      },
      "execution_count": 36,
      "outputs": [
        {
          "output_type": "stream",
          "name": "stdout",
          "text": [
            "\n",
            "--- Calculated Average Basket Value ---\n",
            "The Average Basket Value (Amount/Qty) is: 647.52\n"
          ]
        }
      ]
    },
    {
      "cell_type": "markdown",
      "source": [
        "1.   **Which category has the highest sales?**\n",
        "\n",
        "     The category with the highest total sales is Set. (This finding was consistent across Section 3's performance testing, Section 4's SQL analysis, and Section 8's visualizations.)\n",
        "\n",
        "2.   **Which state brings the most revenue?**\n",
        "\n",
        "     The state that consistently brings the most revenue is Maharashtra (or the top state identified in the geographical grouping analysis). This result was confirmed through the aggregation tasks in Section 4 (Spark SQL) and Section 6 (DataFrame Grouping).\n",
        "\n",
        "3.   **What is the average basket value (Amount / Qty)?**\n",
        "\n",
        "      The average basket value is $647.52$. This key metric, calculated by averaging the ratio of Amount to Qty, indicates the typical revenue generated per product item sold and is a critical profitability indicator.\n",
        "\n",
        "4.   **What is the cancellation rate?**\n",
        "\n",
        "      The cancellation rate (the ratio of 'Cancelled' orders to Total Orders, calculated in Section 4's SQL query) is $14.21\\%$ (18,332 cancelled orders out of 128,975 total orders). This rate is significantly high and suggests a critical bottleneck in the order fulfillment, inventory management, or customer service pipeline that requires immediate investigation to reduce lost revenue.\n",
        "\n",
        "5.    **What did you learn from the Streaming section?**\n",
        "\n",
        "      The Streaming section (Section 4) demonstrated the concept of Velocity. It proved that Spark Structured Streaming can continuously recalculate results (like total sales by category) immediately upon new data arrival, crucial for timely, near-real-time business intelligence.\n",
        "\n",
        "6.    **What are the advantages of using HDFS or S3?**\n",
        "\n",
        "      As demonstrated in Section 5 (Distributed Storage) and Section 7 (S3 Loading), HDFS or S3 are vital for Scalability, Fault Tolerance, and Decoupling Storage from Compute. This cloud-native approach allows the Spark cluster to access petabytes of data reliably and cost-effectively, regardless of the cluster's size."
      ],
      "metadata": {
        "id": "H5TUFZPmzyhS"
      }
    },
    {
      "cell_type": "markdown",
      "source": [],
      "metadata": {
        "id": "7I0JmmAnONZV"
      }
    },
    {
      "cell_type": "markdown",
      "source": [
        "## 🚀 Conclusion: PySpark Project Summary\n",
        "\n",
        "This project successfully implemented an end-to-end Big Data analysis pipeline using **Apache Spark (PySpark)**, validating its efficiency and scalability in handling an e-commerce sales dataset characterized by high Volume, Velocity, and Variety. The study transformed raw data into actionable intelligence across operational and strategic domains.\n",
        "\n",
        "\n",
        "#### Key Technical Achievements\n",
        "\n",
        "1.  **Performance & Optimization (Section 3):** The project confirmed the DataFrame API’s superior performance, executing tasks **~4.7 times faster** than RDDs. Effective use of **.cache()** further reduced execution time by approximately 40%, validating memory optimization as critical for repetitive analysis.\n",
        "2.  **Scalable Storage (Section 5 & 7):** Data was processed using the distributed file system concept (HDFS/S3 simulation) and stored in the **Parquet** format. This columnar storage ensures high-speed I/O and optimal space efficiency, a necessity for cloud-scale applications.\n",
        "3.  **Real-Time Readiness (Section 4):** The **Spark Structured Streaming** demonstration confirmed the platform's capability to process data with **high Velocity**, providing near-instantaneous updates on metrics like sales totals, essential for real-time dashboards and fraud detection.\n",
        "4.  **Versatile Analytics (Section 4, 6, 8):** The seamless integration of **Spark SQL** with the DataFrame API allowed for both declarative querying and complex distributed tasks like filtering, aggregation, and pivoting, which were then translated into clear business visualizations using Matplotlib/Seaborn.\n",
        "\n",
        "#### Core Business Insights\n",
        "\n",
        "| Focus | Metric | Action |\n",
        "| :--- | :--- | :--- |\n",
        "| **Revenue** | **'Set'** category dominates. | *Prioritize* inventory & marketing for this core product. |\n",
        "| **Region** | **MAHARASHTRA** is top state. | *Optimize* logistics and regional marketing efforts. |\n",
        "| **Risk** | **Cancellation Rate $14.21\\%$**. | *Immediate* operational review required to fix flaws. |\n",
        "| **Value** | Avg Basket Value **$647.52$**. | *Deploy* cross-selling strategy to increase value. |\n",
        "\n",
        "**In conclusion, the project validates Apache Spark as the robust, scalable solution for transforming large e-commerce transaction data into fast, reliable, and actionable business intelligence, highlighting both operational successes and critical failure points.**"
      ],
      "metadata": {
        "id": "8zoilqrlOSxA"
      }
    }
  ]
}