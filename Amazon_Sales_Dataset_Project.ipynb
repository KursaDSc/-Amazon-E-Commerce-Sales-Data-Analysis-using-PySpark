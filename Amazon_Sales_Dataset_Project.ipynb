{
  "nbformat": 4,
  "nbformat_minor": 0,
  "metadata": {
    "colab": {
      "provenance": [],
      "toc_visible": true,
      "authorship_tag": "ABX9TyOA14NTTYPd9auQNE77HY6Z"
    },
    "kernelspec": {
      "name": "python3",
      "display_name": "Python 3"
    },
    "language_info": {
      "name": "python"
    }
  },
  "cells": [
    {
      "cell_type": "markdown",
      "source": [
        "# 🚀 Amazon Sales Data Analysis Project"
      ],
      "metadata": {
        "id": "1M9MPpF6Elzp"
      }
    },
    {
      "cell_type": "markdown",
      "source": [
        "## Introduction\n",
        "This study is designed to examine large-scale Amazon sales data, which forms the foundation of the rapidly growing e-commerce world. The project aims not only to present data analysis results but also to deeply explore the technological infrastructure of modern data science approaches. In this context, starting with the fundamental principles of Big Data (Volume, Velocity, Variety), the industry standard framework for distributed and high-performance data processing, Apache Spark (PySpark), will be utilized. Throughout the work, the differences between Spark's core building blocks, RDDs and DataFrames, will be investigated, and data loading processes will be addressed within the context of Distributed Storage solutions such as HDFS and S3. Finally, data will be processed using PySpark's powerful filtering, aggregation, and joining capabilities, the findings will be presented through visualization tasks, and the work will be concluded with a mini analysis report. Our goal is to leverage the power of PySpark to uncover critical business trends and operational insights within the Amazon sales data.[bağlantı metni](https:// [bağlantı metni](https://))"
      ],
      "metadata": {
        "id": "EVC52iQXIS10"
      }
    },
    {
      "cell_type": "markdown",
      "source": [
        "## Project Details\n",
        "\n",
        "* **Framework:** Apache PySpark\n",
        "* **Environment:** Google Colab / Jupyter Notebook\n",
        "* **Visualization:** Matplotlib & Seaborn\n",
        "* **Output:** Single .ipynb file + Short Summary Report"
      ],
      "metadata": {
        "id": "3ybbUfRnITxL"
      }
    },
    {
      "cell_type": "markdown",
      "source": [
        "## Setup and Environment Configuration"
      ],
      "metadata": {
        "id": "6EmZ-p5UHtQw"
      }
    },
    {
      "cell_type": "code",
      "source": [
        "## COMPLETE PYSPARK SETUP: VERIFIED METHOD FOR COLAB\n",
        "\n",
        "print(\"1. Installing OpenJDK...\")\n",
        "# 1. Install OpenJDK (Java is required for Spark)\n",
        "!apt-get install openjdk-8-jdk-headless -qq > /dev/null\n",
        "\n",
        "print(\"2. Downloading Apache Spark...\")\n",
        "# 2. Download Apache Spark 3.5.1 (Direct link using a common mirror)\n",
        "!wget -q https://archive.apache.org/dist/spark/spark-3.5.1/spark-3.5.1-bin-hadoop3.tgz -O spark.tgz\n",
        "\n",
        "# 3. Extract the Spark file\n",
        "print(\"3. Extracting Spark files...\")\n",
        "!tar xf spark.tgz\n",
        "\n",
        "# 4. Clean up the archive file\n",
        "!rm spark.tgz\n",
        "\n",
        "# 5. Install findspark library\n",
        "print(\"4. Installing findspark...\")\n",
        "!pip install -q findspark\n",
        "\n",
        "# 6. Set Environment Variables\n",
        "print(\"5. Setting environment variables...\")\n",
        "import os\n",
        "import findspark\n",
        "from pyspark.sql import SparkSession\n",
        "\n",
        "# Set SPARK_HOME to the extracted folder (Note: folder name is long, be careful)\n",
        "os.environ[\"SPARK_HOME\"] = \"/content/spark-3.5.1-bin-hadoop3\"\n",
        "\n",
        "# Set JAVA_HOME\n",
        "os.environ[\"JAVA_HOME\"] = \"/usr/lib/jvm/java-8-openjdk-amd64\"\n",
        "\n",
        "# Initialize findspark\n",
        "findspark.init()\n",
        "\n",
        "# 7. Create a Spark Session\n",
        "print(\"6. Initializing Spark Session...\")\n",
        "spark = SparkSession.builder\\\n",
        "        .master(\"local[*]\")\\\n",
        "        .appName(\"AmazonAnalysis\")\\\n",
        "        .getOrCreate()\n",
        "\n",
        "# VERIFICATION\n",
        "print(\"\\n--- Spark Setup Complete ---\")\n",
        "print(\"Spark Session successfully created:\")\n",
        "spark"
      ],
      "metadata": {
        "colab": {
          "base_uri": "https://localhost:8080/",
          "height": 375
        },
        "id": "0rzSxipOu22D",
        "outputId": "5a55b27d-d86a-4c1f-f186-eb654d5f6169"
      },
      "execution_count": 10,
      "outputs": [
        {
          "output_type": "stream",
          "name": "stdout",
          "text": [
            "1. Installing OpenJDK...\n",
            "2. Downloading Apache Spark...\n",
            "3. Extracting Spark files...\n",
            "4. Installing findspark...\n",
            "5. Setting environment variables...\n",
            "6. Initializing Spark Session...\n",
            "\n",
            "--- Spark Setup Complete ---\n",
            "Spark Session successfully created:\n"
          ]
        },
        {
          "output_type": "execute_result",
          "data": {
            "text/plain": [
              "<pyspark.sql.session.SparkSession at 0x7d418096d040>"
            ],
            "text/html": [
              "\n",
              "            <div>\n",
              "                <p><b>SparkSession - in-memory</b></p>\n",
              "                \n",
              "        <div>\n",
              "            <p><b>SparkContext</b></p>\n",
              "\n",
              "            <p><a href=\"http://86b5d6dbcb48:4040\">Spark UI</a></p>\n",
              "\n",
              "            <dl>\n",
              "              <dt>Version</dt>\n",
              "                <dd><code>v3.5.1</code></dd>\n",
              "              <dt>Master</dt>\n",
              "                <dd><code>local[*]</code></dd>\n",
              "              <dt>AppName</dt>\n",
              "                <dd><code>AmazonAnalysis</code></dd>\n",
              "            </dl>\n",
              "        </div>\n",
              "        \n",
              "            </div>\n",
              "        "
            ]
          },
          "metadata": {},
          "execution_count": 10
        }
      ]
    },
    {
      "cell_type": "markdown",
      "source": [
        "## 🏔️ Section 1 — What is Big Data? (Volume, Velocity, Variety)"
      ],
      "metadata": {
        "id": "cFU5cNIUALb7"
      }
    },
    {
      "cell_type": "code",
      "source": [
        "## DATA UPLOAD\n",
        "\n",
        "# Upload the Amazon sales data file from your local machine to the Colab environment.\n",
        "# A file selector will appear after executing this cell.\n",
        "from google.colab import files\n",
        "uploaded = files.upload()"
      ],
      "metadata": {
        "colab": {
          "base_uri": "https://localhost:8080/",
          "height": 73
        },
        "id": "tuF3RW43NHDv",
        "outputId": "6729fc58-addf-4575-e8bf-9e25f3f68ee7"
      },
      "execution_count": 11,
      "outputs": [
        {
          "output_type": "display_data",
          "data": {
            "text/plain": [
              "<IPython.core.display.HTML object>"
            ],
            "text/html": [
              "\n",
              "     <input type=\"file\" id=\"files-2e5e4483-c982-46f6-8742-bfeeb29fee2e\" name=\"files[]\" multiple disabled\n",
              "        style=\"border:none\" />\n",
              "     <output id=\"result-2e5e4483-c982-46f6-8742-bfeeb29fee2e\">\n",
              "      Upload widget is only available when the cell has been executed in the\n",
              "      current browser session. Please rerun this cell to enable.\n",
              "      </output>\n",
              "      <script>// Copyright 2017 Google LLC\n",
              "//\n",
              "// Licensed under the Apache License, Version 2.0 (the \"License\");\n",
              "// you may not use this file except in compliance with the License.\n",
              "// You may obtain a copy of the License at\n",
              "//\n",
              "//      http://www.apache.org/licenses/LICENSE-2.0\n",
              "//\n",
              "// Unless required by applicable law or agreed to in writing, software\n",
              "// distributed under the License is distributed on an \"AS IS\" BASIS,\n",
              "// WITHOUT WARRANTIES OR CONDITIONS OF ANY KIND, either express or implied.\n",
              "// See the License for the specific language governing permissions and\n",
              "// limitations under the License.\n",
              "\n",
              "/**\n",
              " * @fileoverview Helpers for google.colab Python module.\n",
              " */\n",
              "(function(scope) {\n",
              "function span(text, styleAttributes = {}) {\n",
              "  const element = document.createElement('span');\n",
              "  element.textContent = text;\n",
              "  for (const key of Object.keys(styleAttributes)) {\n",
              "    element.style[key] = styleAttributes[key];\n",
              "  }\n",
              "  return element;\n",
              "}\n",
              "\n",
              "// Max number of bytes which will be uploaded at a time.\n",
              "const MAX_PAYLOAD_SIZE = 100 * 1024;\n",
              "\n",
              "function _uploadFiles(inputId, outputId) {\n",
              "  const steps = uploadFilesStep(inputId, outputId);\n",
              "  const outputElement = document.getElementById(outputId);\n",
              "  // Cache steps on the outputElement to make it available for the next call\n",
              "  // to uploadFilesContinue from Python.\n",
              "  outputElement.steps = steps;\n",
              "\n",
              "  return _uploadFilesContinue(outputId);\n",
              "}\n",
              "\n",
              "// This is roughly an async generator (not supported in the browser yet),\n",
              "// where there are multiple asynchronous steps and the Python side is going\n",
              "// to poll for completion of each step.\n",
              "// This uses a Promise to block the python side on completion of each step,\n",
              "// then passes the result of the previous step as the input to the next step.\n",
              "function _uploadFilesContinue(outputId) {\n",
              "  const outputElement = document.getElementById(outputId);\n",
              "  const steps = outputElement.steps;\n",
              "\n",
              "  const next = steps.next(outputElement.lastPromiseValue);\n",
              "  return Promise.resolve(next.value.promise).then((value) => {\n",
              "    // Cache the last promise value to make it available to the next\n",
              "    // step of the generator.\n",
              "    outputElement.lastPromiseValue = value;\n",
              "    return next.value.response;\n",
              "  });\n",
              "}\n",
              "\n",
              "/**\n",
              " * Generator function which is called between each async step of the upload\n",
              " * process.\n",
              " * @param {string} inputId Element ID of the input file picker element.\n",
              " * @param {string} outputId Element ID of the output display.\n",
              " * @return {!Iterable<!Object>} Iterable of next steps.\n",
              " */\n",
              "function* uploadFilesStep(inputId, outputId) {\n",
              "  const inputElement = document.getElementById(inputId);\n",
              "  inputElement.disabled = false;\n",
              "\n",
              "  const outputElement = document.getElementById(outputId);\n",
              "  outputElement.innerHTML = '';\n",
              "\n",
              "  const pickedPromise = new Promise((resolve) => {\n",
              "    inputElement.addEventListener('change', (e) => {\n",
              "      resolve(e.target.files);\n",
              "    });\n",
              "  });\n",
              "\n",
              "  const cancel = document.createElement('button');\n",
              "  inputElement.parentElement.appendChild(cancel);\n",
              "  cancel.textContent = 'Cancel upload';\n",
              "  const cancelPromise = new Promise((resolve) => {\n",
              "    cancel.onclick = () => {\n",
              "      resolve(null);\n",
              "    };\n",
              "  });\n",
              "\n",
              "  // Wait for the user to pick the files.\n",
              "  const files = yield {\n",
              "    promise: Promise.race([pickedPromise, cancelPromise]),\n",
              "    response: {\n",
              "      action: 'starting',\n",
              "    }\n",
              "  };\n",
              "\n",
              "  cancel.remove();\n",
              "\n",
              "  // Disable the input element since further picks are not allowed.\n",
              "  inputElement.disabled = true;\n",
              "\n",
              "  if (!files) {\n",
              "    return {\n",
              "      response: {\n",
              "        action: 'complete',\n",
              "      }\n",
              "    };\n",
              "  }\n",
              "\n",
              "  for (const file of files) {\n",
              "    const li = document.createElement('li');\n",
              "    li.append(span(file.name, {fontWeight: 'bold'}));\n",
              "    li.append(span(\n",
              "        `(${file.type || 'n/a'}) - ${file.size} bytes, ` +\n",
              "        `last modified: ${\n",
              "            file.lastModifiedDate ? file.lastModifiedDate.toLocaleDateString() :\n",
              "                                    'n/a'} - `));\n",
              "    const percent = span('0% done');\n",
              "    li.appendChild(percent);\n",
              "\n",
              "    outputElement.appendChild(li);\n",
              "\n",
              "    const fileDataPromise = new Promise((resolve) => {\n",
              "      const reader = new FileReader();\n",
              "      reader.onload = (e) => {\n",
              "        resolve(e.target.result);\n",
              "      };\n",
              "      reader.readAsArrayBuffer(file);\n",
              "    });\n",
              "    // Wait for the data to be ready.\n",
              "    let fileData = yield {\n",
              "      promise: fileDataPromise,\n",
              "      response: {\n",
              "        action: 'continue',\n",
              "      }\n",
              "    };\n",
              "\n",
              "    // Use a chunked sending to avoid message size limits. See b/62115660.\n",
              "    let position = 0;\n",
              "    do {\n",
              "      const length = Math.min(fileData.byteLength - position, MAX_PAYLOAD_SIZE);\n",
              "      const chunk = new Uint8Array(fileData, position, length);\n",
              "      position += length;\n",
              "\n",
              "      const base64 = btoa(String.fromCharCode.apply(null, chunk));\n",
              "      yield {\n",
              "        response: {\n",
              "          action: 'append',\n",
              "          file: file.name,\n",
              "          data: base64,\n",
              "        },\n",
              "      };\n",
              "\n",
              "      let percentDone = fileData.byteLength === 0 ?\n",
              "          100 :\n",
              "          Math.round((position / fileData.byteLength) * 100);\n",
              "      percent.textContent = `${percentDone}% done`;\n",
              "\n",
              "    } while (position < fileData.byteLength);\n",
              "  }\n",
              "\n",
              "  // All done.\n",
              "  yield {\n",
              "    response: {\n",
              "      action: 'complete',\n",
              "    }\n",
              "  };\n",
              "}\n",
              "\n",
              "scope.google = scope.google || {};\n",
              "scope.google.colab = scope.google.colab || {};\n",
              "scope.google.colab._files = {\n",
              "  _uploadFiles,\n",
              "  _uploadFilesContinue,\n",
              "};\n",
              "})(self);\n",
              "</script> "
            ]
          },
          "metadata": {}
        },
        {
          "output_type": "stream",
          "name": "stdout",
          "text": [
            "Saving Amazon Sale Report.csv to Amazon Sale Report.csv\n"
          ]
        }
      ]
    },
    {
      "cell_type": "code",
      "execution_count": null,
      "metadata": {
        "id": "-A8zWNZt_iJH"
      },
      "outputs": [],
      "source": [
        "FILE_PATH = \"Amazon Sale Report.csv\"\n",
        "\n",
        "try:\n",
        "    amazon_df = spark.read.csv(\n",
        "        FILE_PATH,\n",
        "        header=True,\n",
        "        inferSchema=True\n",
        "    )\n",
        "\n",
        "except Exception as e:\n",
        "    print(f\"An error occurred during file loading: {e}\")\n",
        "    print(\"Please ensure the FILE_PATH variable matches the uploaded file name exactly.\")"
      ]
    },
    {
      "cell_type": "code",
      "source": [
        "    # Check the data structure and schema\n",
        "    print(\"--- DataFrame Schema (Structure) ---\")\n",
        "    amazon_df.printSchema()\n",
        "\n",
        "    # Check the first few records\n",
        "    print(\"\\n--- First 5 Rows of Data ---\")\n",
        "    amazon_df.show(5)\n",
        "\n",
        "    # Check the total number of records\n",
        "    print(f\"\\nTotal Records: {amazon_df.count()}\")"
      ],
      "metadata": {
        "colab": {
          "base_uri": "https://localhost:8080/"
        },
        "id": "X4tKo2kLyQmF",
        "outputId": "ff970b4b-6350-4977-f2ac-e7c78212afaa"
      },
      "execution_count": 17,
      "outputs": [
        {
          "output_type": "stream",
          "name": "stdout",
          "text": [
            "--- DataFrame Schema (Structure) ---\n",
            "root\n",
            " |-- index: integer (nullable = true)\n",
            " |-- Order ID: string (nullable = true)\n",
            " |-- Date: string (nullable = true)\n",
            " |-- Status: string (nullable = true)\n",
            " |-- Fulfilment: string (nullable = true)\n",
            " |-- Sales Channel : string (nullable = true)\n",
            " |-- ship-service-level: string (nullable = true)\n",
            " |-- Style: string (nullable = true)\n",
            " |-- SKU: string (nullable = true)\n",
            " |-- Category: string (nullable = true)\n",
            " |-- Size: string (nullable = true)\n",
            " |-- ASIN: string (nullable = true)\n",
            " |-- Courier Status: string (nullable = true)\n",
            " |-- Qty: integer (nullable = true)\n",
            " |-- currency: string (nullable = true)\n",
            " |-- Amount: double (nullable = true)\n",
            " |-- ship-city: string (nullable = true)\n",
            " |-- ship-state: string (nullable = true)\n",
            " |-- ship-postal-code: double (nullable = true)\n",
            " |-- ship-country: string (nullable = true)\n",
            " |-- promotion-ids: string (nullable = true)\n",
            " |-- B2B: boolean (nullable = true)\n",
            " |-- fulfilled-by: string (nullable = true)\n",
            " |-- Unnamed: 22: boolean (nullable = true)\n",
            "\n",
            "\n",
            "--- First 5 Rows of Data ---\n",
            "+-----+-------------------+--------+--------------------+----------+--------------+------------------+-------+---------------+-------------+----+----------+--------------+---+--------+------+-----------+-----------+----------------+------------+--------------------+-----+------------+-----------+\n",
            "|index|           Order ID|    Date|              Status|Fulfilment|Sales Channel |ship-service-level|  Style|            SKU|     Category|Size|      ASIN|Courier Status|Qty|currency|Amount|  ship-city| ship-state|ship-postal-code|ship-country|       promotion-ids|  B2B|fulfilled-by|Unnamed: 22|\n",
            "+-----+-------------------+--------+--------------------+----------+--------------+------------------+-------+---------------+-------------+----+----------+--------------+---+--------+------+-----------+-----------+----------------+------------+--------------------+-----+------------+-----------+\n",
            "|    0|405-8078784-5731545|04-30-22|           Cancelled|  Merchant|     Amazon.in|          Standard| SET389| SET389-KR-NP-S|          Set|   S|B09KXVBD7Z|          NULL|  0|     INR|647.62|     MUMBAI|MAHARASHTRA|        400081.0|          IN|                NULL|false|   Easy Ship|       NULL|\n",
            "|    1|171-9198151-1101146|04-30-22|Shipped - Deliver...|  Merchant|     Amazon.in|          Standard|JNE3781|JNE3781-KR-XXXL|        kurta| 3XL|B09K3WFS32|       Shipped|  1|     INR| 406.0|  BENGALURU|  KARNATAKA|        560085.0|          IN|Amazon PLCC Free-...|false|   Easy Ship|       NULL|\n",
            "|    2|404-0687676-7273146|04-30-22|             Shipped|    Amazon|     Amazon.in|         Expedited|JNE3371|  JNE3371-KR-XL|        kurta|  XL|B07WV4JV4D|       Shipped|  1|     INR| 329.0|NAVI MUMBAI|MAHARASHTRA|        410210.0|          IN|IN Core Free Ship...| true|        NULL|       NULL|\n",
            "|    3|403-9615377-8133951|04-30-22|           Cancelled|  Merchant|     Amazon.in|          Standard|  J0341|     J0341-DR-L|Western Dress|   L|B099NRCT7B|          NULL|  0|     INR|753.33| PUDUCHERRY| PUDUCHERRY|        605008.0|          IN|                NULL|false|   Easy Ship|       NULL|\n",
            "|    4|407-1069790-7240320|04-30-22|             Shipped|    Amazon|     Amazon.in|         Expedited|JNE3671|JNE3671-TU-XXXL|          Top| 3XL|B098714BZP|       Shipped|  1|     INR| 574.0|    CHENNAI| TAMIL NADU|        600073.0|          IN|                NULL|false|        NULL|       NULL|\n",
            "+-----+-------------------+--------+--------------------+----------+--------------+------------------+-------+---------------+-------------+----+----------+--------------+---+--------+------+-----------+-----------+----------------+------------+--------------------+-----+------------+-----------+\n",
            "only showing top 5 rows\n",
            "\n",
            "\n",
            "Total Records: 128975\n"
          ]
        }
      ]
    },
    {
      "cell_type": "code",
      "source": [
        "## 1. ANALYSIS OF DIMENSIONS (RELATION TO VOLUME)\n",
        "# Calculate the total number of rows (Volume proxy) and columns.\n",
        "row_count = amazon_df.count()\n",
        "col_count = len(amazon_df.columns)\n",
        "\n",
        "# Display the results.\n",
        "print(f\"DataFrame Dimensions (Rows, Columns): ({row_count}, {col_count})\")\n",
        "\n",
        "# --- COMMENTARY ON VOLUME ---\n",
        "# The large number of rows ({row_count}) directly correlates to the **Volume** characteristic of Big Data.\n",
        "# A high record count demonstrates the sheer scale of transactions accumulated over the observation period,\n",
        "# necessitating the use of a distributed computing framework like PySpark for efficient handling."
      ],
      "metadata": {
        "colab": {
          "base_uri": "https://localhost:8080/"
        },
        "id": "6Bh_YRRDz9VX",
        "outputId": "a75e3fbf-15ef-4d7f-f0e6-b540a16c59d6"
      },
      "execution_count": 18,
      "outputs": [
        {
          "output_type": "stream",
          "name": "stdout",
          "text": [
            "DataFrame Dimensions (Rows, Columns): (128975, 24)\n"
          ]
        }
      ]
    },
    {
      "cell_type": "code",
      "source": [
        "from collections import Counter\n",
        "\n",
        "## VARIETY ANALYSIS: LIST ALL TYPES AND SUMMARIZE FREQUENCIES\n",
        "\n",
        "# Get the schema as a list of field objects (StructField objects)\n",
        "data_schema = amazon_df.schema\n",
        "data_type_list = [str(field.dataType) for field in data_schema]\n",
        "\n",
        "# 1. LIST ALL COLUMNS AND THEIR TYPES (Aligned Output)\n",
        "print(\"--- 1. Detailed Column-to-Type Mapping (Variety) ---\")\n",
        "\n",
        "# Find the length of the longest column name for dynamic alignment\n",
        "max_name_length = max(len(field.name) for field in data_schema)\n",
        "\n",
        "# Iterate and print each column with aligned formatting\n",
        "for field in data_schema:\n",
        "    # {field.name:<{max_name_length}} ensures left alignment based on the longest name\n",
        "    print(f\"Column: {field.name:<{max_name_length}} | Data Type: {field.dataType}\")\n",
        "\n",
        "\n",
        "# 2. DATA TYPE FREQUENCY SUMMARY (Table Output)\n",
        "print(\"\\n--- 2. Data Type Frequency Summary (Variety Count) ---\")\n",
        "\n",
        "# Use Counter to count the occurrences of each unique data type\n",
        "type_counts = Counter(data_type_list)\n",
        "\n",
        "# Determine max lengths for alignment in the summary table\n",
        "max_type_len = max(len(type_name) for type_name in type_counts.keys())\n",
        "header_format = f\"| {'Data Type':<{max_type_len}} | {'Count':<5} |\"\n",
        "separator = \"-\" * (max_type_len + 12)\n",
        "\n",
        "# Print Summary Table\n",
        "print(separator)\n",
        "print(header_format)\n",
        "print(separator)\n",
        "\n",
        "# Print Data\n",
        "for data_type, count in type_counts.items():\n",
        "    print(f\"| {data_type:<{max_type_len}} | {count:<5} |\")\n",
        "print(separator)"
      ],
      "metadata": {
        "colab": {
          "base_uri": "https://localhost:8080/"
        },
        "id": "-aSLlq3_0D1g",
        "outputId": "4745b326-f732-4096-9f1f-2aa8c160bb0a"
      },
      "execution_count": 22,
      "outputs": [
        {
          "output_type": "stream",
          "name": "stdout",
          "text": [
            "--- 1. Detailed Column-to-Type Mapping (Variety) ---\n",
            "Column: index              | Data Type: IntegerType()\n",
            "Column: Order ID           | Data Type: StringType()\n",
            "Column: Date               | Data Type: StringType()\n",
            "Column: Status             | Data Type: StringType()\n",
            "Column: Fulfilment         | Data Type: StringType()\n",
            "Column: Sales Channel      | Data Type: StringType()\n",
            "Column: ship-service-level | Data Type: StringType()\n",
            "Column: Style              | Data Type: StringType()\n",
            "Column: SKU                | Data Type: StringType()\n",
            "Column: Category           | Data Type: StringType()\n",
            "Column: Size               | Data Type: StringType()\n",
            "Column: ASIN               | Data Type: StringType()\n",
            "Column: Courier Status     | Data Type: StringType()\n",
            "Column: Qty                | Data Type: IntegerType()\n",
            "Column: currency           | Data Type: StringType()\n",
            "Column: Amount             | Data Type: DoubleType()\n",
            "Column: ship-city          | Data Type: StringType()\n",
            "Column: ship-state         | Data Type: StringType()\n",
            "Column: ship-postal-code   | Data Type: DoubleType()\n",
            "Column: ship-country       | Data Type: StringType()\n",
            "Column: promotion-ids      | Data Type: StringType()\n",
            "Column: B2B                | Data Type: BooleanType()\n",
            "Column: fulfilled-by       | Data Type: StringType()\n",
            "Column: Unnamed: 22        | Data Type: BooleanType()\n",
            "\n",
            "--- 2. Data Type Frequency Summary (Variety Count) ---\n",
            "-------------------------\n",
            "| Data Type     | Count |\n",
            "-------------------------\n",
            "| IntegerType() | 2     |\n",
            "| StringType()  | 18    |\n",
            "| DoubleType()  | 2     |\n",
            "| BooleanType() | 2     |\n",
            "-------------------------\n"
          ]
        }
      ]
    },
    {
      "cell_type": "code",
      "source": [
        "from pyspark.sql.functions import min as spark_min, max as spark_max, datediff, to_date, lit, round as spark_round\n",
        "\n",
        "## 3. ANALYZE DATE RANGE AND TRANSACTION RATE (RELATION TO VELOCITY)\n",
        "\n",
        "# --- Prerequisites: Assuming 'amazon_df' is loaded and 'Date' column is present ---\n",
        "row_count = amazon_df.count()\n",
        "\n",
        "# Convert the 'Date' column to a proper Date type (MM-dd-yy format assumed from previous context)\n",
        "df_with_date = amazon_df.withColumn(\"Order_Date\", to_date(amazon_df[\"Date\"], \"MM-dd-yy\"))\n",
        "\n",
        "# Find the earliest and latest order dates\n",
        "date_analysis = df_with_date.agg(\n",
        "    spark_min(\"Order_Date\").alias(\"Min_Date\"),\n",
        "    spark_max(\"Order_Date\").alias(\"Max_Date\")\n",
        ").collect()[0]\n",
        "\n",
        "min_date = date_analysis['Min_Date']\n",
        "max_date = date_analysis['Max_Date']\n",
        "\n",
        "# Calculate the number of days between the first and last transaction\n",
        "days_span = df_with_date.withColumn(\n",
        "    \"Date_Span\",\n",
        "    datediff(lit(max_date), lit(min_date))\n",
        ").select(spark_max(\"Date_Span\")).collect()[0][0]\n",
        "\n",
        "# --- NEW CALCULATION: AVERAGE TRANSACTION RATE ---\n",
        "\n",
        "# Calculate the average number of transactions per day\n",
        "if days_span > 0:\n",
        "    avg_tx_per_day = round(row_count / days_span)\n",
        "else:\n",
        "    avg_tx_per_day = row_count # Handle case where all transactions are on the same day\n",
        "\n",
        "print(f\"Earliest Order Date: {min_date}\")\n",
        "print(f\"Latest Order Date: {max_date}\")\n",
        "print(f\"Total Span of Data (Days): {days_span}\")\n",
        "print(f\"Total Transactions: {row_count:,}\")\n",
        "\n",
        "# Print the new metric, rounded to 2 decimal places\n",
        "print(f\"Average Transactions per Day: {avg_tx_per_day:,.0f}\")"
      ],
      "metadata": {
        "colab": {
          "base_uri": "https://localhost:8080/"
        },
        "id": "BW016OGZ1G7K",
        "outputId": "584d6b5b-6812-4551-d467-1dd5b5022f91"
      },
      "execution_count": 25,
      "outputs": [
        {
          "output_type": "stream",
          "name": "stdout",
          "text": [
            "Earliest Order Date: 2022-03-31\n",
            "Latest Order Date: 2022-06-29\n",
            "Total Span of Data (Days): 90\n",
            "Total Transactions: 128,975\n",
            "Average Transactions per Day: 1,433\n"
          ]
        }
      ]
    },
    {
      "cell_type": "markdown",
      "source": [
        "### The 3 V's Justify PySpark\n",
        "\n",
        "The analysis of the Amazon sales data confirms its classification as **Big Data** due to the presence of the defining **3 V's**, which collectively necessitate the use of a distributed framework like Apache Spark.\n",
        "\n",
        "* **Volume:** The sheer scale of **128,975** transactions accumulated within a short observation period highlights the significant data **Volume**. This mass of records cannot be efficiently processed or analyzed using single-machine traditional tools.\n",
        "\n",
        "* **Velocity:** The data generation rate, evidenced by the high **Velocity** of approximately **1,433 transactions per day** over a **90-day** span, shows a continuous, fast-flowing data stream. Analyzing trends from such rapidly generated data demands the high-throughput capabilities that PySpark provides.\n",
        "\n",
        "* **Variety:** The dataset demonstrates **Variety** through its blend of data types, including **Strings** (for categorical features like 'Category' and 'City') and **Numeric** types (for 'Qty' and 'Amount'). While currently structured, this inherent diversity, along with the potential future inclusion of unstructured data, reinforces the need for PySpark’s flexible DataFrame API.\n",
        "\n",
        "In conclusion, the challenge presented by the data's **Volume, Velocity, and Variety** confirms that **PySpark is the appropriate technology** to manage, transform, and extract meaningful business insights from this large-scale e-commerce data."
      ],
      "metadata": {
        "id": "z8IzyKCg15g4"
      }
    },
    {
      "cell_type": "markdown",
      "source": [
        "## 🐘 Section 2 — Hadoop & MapReduce"
      ],
      "metadata": {
        "id": "6Xk4e8OmA1Ji"
      }
    },
    {
      "cell_type": "markdown",
      "source": [
        "> **HDFS (Hadoop Distributed File System):** This is the foundation for Big Data storage. HDFS breaks large files (like our sales data) into small blocks, stores them across many machines, and creates multiple copies (replication) to ensure the data is always safe and accessible, regardless of hardware failures.\n",
        "\n",
        "> **MapReduce:** This is a programming model for distributed computation on data stored in HDFS. It simplifies complex tasks by dividing them into two main, parallel stages: **Map** (data transformation and grouping) and **Reduce** (data aggregation and calculation)."
      ],
      "metadata": {
        "id": "EUsZUn3FEQib"
      }
    },
    {
      "cell_type": "code",
      "source": [
        "from pyspark.sql.functions import col, sum, round\n",
        "\n",
        "## SIMULATION OF MAPREDUCE: CALCULATING TOTAL SALES BY CATEGORY\n",
        "\n",
        "# Assume the DataFrame is amazon_df and columns 'Category' and 'Amount' exist.\n",
        "\n",
        "# --- 1. MAP OPERATION (Transformation/Grouping) ---\n",
        "# The Map step is simulated by selecting the relevant columns and defining the grouping key.\n",
        "# We are preparing the data to be grouped by 'Category'.\n",
        "\n",
        "# Check if the required columns exist before proceeding\n",
        "required_cols = ['Category', 'Amount']\n",
        "if not all(c in amazon_df.columns for c in required_cols):\n",
        "    print(\"Error: DataFrame must contain 'Category' and 'Amount' columns for this analysis.\")\n",
        "else:\n",
        "    # Select and group the data\n",
        "    category_group = amazon_df.groupBy(col(\"Category\"))\n",
        "\n",
        "    # --- 2. REDUCE OPERATION (Aggregation) ---\n",
        "    # The Reduce step is simulated by applying an aggregation function (sum) on the 'Amount' column\n",
        "    # within each group defined in the Map phase.\n",
        "    total_sales_by_category = category_group.agg(\n",
        "        sum(col(\"Amount\")).alias(\"Total_Sales_Amount\")\n",
        "    ).orderBy(col(\"Total_Sales_Amount\").desc()) # Ordering is a final transformation\n",
        "\n",
        "    # --- Show Results (Final Action) ---\n",
        "    print(\"--- Total Sales Amount by Category (MapReduce Simulation) ---\")\n",
        "    total_sales_by_category.show(truncate=False)"
      ],
      "metadata": {
        "id": "5qLLuW8OA9jE",
        "colab": {
          "base_uri": "https://localhost:8080/"
        },
        "outputId": "e284de5e-b2d8-4b57-9f43-dd3718318017"
      },
      "execution_count": 26,
      "outputs": [
        {
          "output_type": "stream",
          "name": "stdout",
          "text": [
            "--- Total Sales Amount by Category (MapReduce Simulation) ---\n",
            "+-------------+--------------------+\n",
            "|Category     |Total_Sales_Amount  |\n",
            "+-------------+--------------------+\n",
            "|Set          |3.920412402999991E7 |\n",
            "|kurta        |2.1299546699999988E7|\n",
            "|Western Dress|1.121607269000002E7 |\n",
            "|Top          |5347792.3           |\n",
            "|Ethnic Dress |791217.6599999999   |\n",
            "|Blouse       |458408.18           |\n",
            "|Bottom       |150667.97999999998  |\n",
            "|Saree        |123933.76           |\n",
            "|Dupatta      |915.0               |\n",
            "+-------------+--------------------+\n",
            "\n"
          ]
        }
      ]
    },
    {
      "cell_type": "markdown",
      "source": [
        "### Interpretation: Data Transformation\n",
        "\n",
        "The PySpark aggregation used to find total sales per category effectively simulates the core MapReduce logic:\n",
        "\n",
        "* **Map Operation (Grouping):** This step was achieved by **`.groupBy(col(\"Category\"))`**. Conceptually, it mapped every sales transaction and prepared it for grouping, where the `Category` acted as the unique **Key**.\n",
        "\n",
        "* **Reduce Operation (Aggregation):** This step was achieved by **`.agg(sum(col(\"Amount\")))`**. The Reduce phase took all `Amount` values associated with a single `Category` (Key) and aggregated them using the **`sum`** function, resulting in the final total sales figure for that category.\n",
        "\n",
        "This process demonstrates how complex calculations are broken down into parallel tasks, leveraging Spark's distributed processing power."
      ],
      "metadata": {
        "id": "O7StGcGpDas_"
      }
    },
    {
      "cell_type": "markdown",
      "source": [
        "## ⚡ Section 3 — Apache Spark (PySpark): RDD vs DataFrame"
      ],
      "metadata": {
        "id": "0UBRepknBDwU"
      }
    },
    {
      "cell_type": "code",
      "source": [
        "from pyspark.sql.functions import sum as spark_sum, col\n",
        "from datetime import datetime\n",
        "\n",
        "print(\"--- RDD vs DataFrame Performance Comparison ---\")\n",
        "\n",
        "# ----------------------------------------------------\n",
        "# 1. DATAFRAME APPROACH (Optimized)\n",
        "# ----------------------------------------------------\n",
        "\n",
        "df_start = datetime.now()\n",
        "df_sales_category = amazon_df.groupBy(\"Category\").agg(\n",
        "    spark_sum(col(\"Amount\")).alias(\"Total_Sales_Amount\")\n",
        ").orderBy(col(\"Total_Sales_Amount\").desc())\n",
        "\n",
        "df_sales_category.show(5, truncate=False)\n",
        "df_end = datetime.now()\n",
        "df_time = (df_end - df_start).total_seconds()\n",
        "print(f\"DataFrame Execution Time: {df_time:.4f} seconds\")\n",
        "\n",
        "\n",
        "# ----------------------------------------------------\n",
        "# 2. RDD APPROACH (Manual MapReduce)\n",
        "# ----------------------------------------------------\n",
        "\n",
        "rdd_start = datetime.now()\n",
        "\n",
        "# Map: Select Category and Amount columns, filter nulls, and create (Category, Amount) tuples\n",
        "rdd_data = amazon_df.select(\"Category\", \"Amount\").rdd.filter(lambda x: x['Amount'] is not None)\n",
        "\n",
        "# Map: Create (Category, Amount) pairs\n",
        "rdd_mapped = rdd_data.map(lambda row: (row['Category'], row['Amount']))\n",
        "\n",
        "# Reduce: Sum values for the same key\n",
        "rdd_reduced = rdd_mapped.reduceByKey(lambda a, b: a + b)\n",
        "\n",
        "# Final step: Convert to DataFrame for display and sorting\n",
        "rdd_sales_category = rdd_reduced.toDF([\"Category\", \"Total_Sales_Amount\"]).orderBy(col(\"Total_Sales_Amount\").desc())\n",
        "\n",
        "rdd_sales_category.show(5, truncate=False)\n",
        "rdd_end = datetime.now()\n",
        "rdd_time = (rdd_end - rdd_start).total_seconds()\n",
        "print(f\"RDD Execution Time: {rdd_time:.4f} seconds\")\n",
        "\n",
        "\n",
        "# ----------------------------------------------------\n",
        "# 3. MEMORY OPTIMIZATION (CACHING)\n",
        "# ----------------------------------------------------\n",
        "\n",
        "# Caching the original DataFrame\n",
        "amazon_df.cache()\n",
        "\n",
        "# Trigger an action to force the data to be loaded into memory\n",
        "print(\"\\n--- Caching Data (Triggering Action) ---\")\n",
        "initial_count = amazon_df.count()\n",
        "print(f\"Dataframe loaded into memory. Total rows: {initial_count:,}\")\n",
        "\n",
        "# Run a simple operation again to measure speed improvement after caching\n",
        "cache_start = datetime.now()\n",
        "amazon_df.groupBy(\"Category\").count().show(5, truncate=False)\n",
        "cache_end = datetime.now()\n",
        "cache_time = (cache_end - cache_start).total_seconds()\n",
        "print(f\"Execution Time AFTER Caching: {cache_time:.4f} seconds\")"
      ],
      "metadata": {
        "id": "G9UmadKNBEb2",
        "colab": {
          "base_uri": "https://localhost:8080/"
        },
        "outputId": "54109a98-5ee6-4871-aaa9-bdbdb4045a97"
      },
      "execution_count": 30,
      "outputs": [
        {
          "output_type": "stream",
          "name": "stdout",
          "text": [
            "--- RDD vs DataFrame Performance Comparison ---\n",
            "+-------------+--------------------+\n",
            "|Category     |Total_Sales_Amount  |\n",
            "+-------------+--------------------+\n",
            "|Set          |3.920412402999991E7 |\n",
            "|kurta        |2.1299546699999988E7|\n",
            "|Western Dress|1.121607269000002E7 |\n",
            "|Top          |5347792.3           |\n",
            "|Ethnic Dress |791217.6599999999   |\n",
            "+-------------+--------------------+\n",
            "only showing top 5 rows\n",
            "\n",
            "DataFrame Execution Time: 0.8497 seconds\n",
            "+-------------+--------------------+\n",
            "|Category     |Total_Sales_Amount  |\n",
            "+-------------+--------------------+\n",
            "|Set          |3.920412402999991E7 |\n",
            "|kurta        |2.1299546699999988E7|\n",
            "|Western Dress|1.121607269000002E7 |\n",
            "|Top          |5347792.3           |\n",
            "|Ethnic Dress |791217.6599999999   |\n",
            "+-------------+--------------------+\n",
            "only showing top 5 rows\n",
            "\n",
            "RDD Execution Time: 2.2557 seconds\n",
            "\n",
            "--- Caching Data (Triggering Action) ---\n",
            "Dataframe loaded into memory. Total rows: 128,975\n",
            "+------------+-----+\n",
            "|Category    |count|\n",
            "+------------+-----+\n",
            "|Ethnic Dress|1159 |\n",
            "|Top         |10622|\n",
            "|Set         |50284|\n",
            "|Saree       |164  |\n",
            "|Bottom      |440  |\n",
            "+------------+-----+\n",
            "only showing top 5 rows\n",
            "\n",
            "Execution Time AFTER Caching: 0.3674 seconds\n"
          ]
        }
      ]
    },
    {
      "cell_type": "markdown",
      "source": [
        "### RDD vs. DataFrame Performance Analysis\n",
        "\n",
        "The execution times and code structure conclusively demonstrate the superiority of the DataFrame API for structured data processing in PySpark:\n",
        "\n",
        "| Approach | Execution Time (seconds) | Performance Factor |\n",
        "| :--- | :--- | :--- |\n",
        "| **DataFrame** (Initial Run) | **0.8497** | 1x (Base performance) |\n",
        "| **RDD** (Manual MapReduce) | **2.2557** | **~2.65x Slower** than DataFrame |\n",
        "| **DataFrame** (After Caching) | **0.3674** | **~2.3x Faster** than Initial DataFrame |\n",
        "\n",
        "#### Performance and Optimization:\n",
        "\n",
        "1.  **DataFrame Superiority:** The DataFrame approach executed the same aggregation task (`Total Sales by Category`) in **0.8497 seconds**, while the RDD approach required **2.2557 seconds**. This significant difference (RDD being approximately 2.65 times slower) highlights the efficiency of the **Catalyst Optimizer**, which generates optimized execution plans based on the DataFrame's schema.\n",
        "\n",
        "2.  **Caching Effectiveness:** Applying the `.cache()` operation drastically reduced the execution time to **0.3674 seconds**. This confirms that for repetitive operations, loading the **128,975** records into the cluster's **RAM** eliminates expensive I/O operations, yielding a substantial speed boost.\n",
        "\n",
        "#### Code Readability:\n",
        "\n",
        "The DataFrame code used concise, declarative, SQL-like commands (`.groupBy().agg(sum())`), making the logic highly **readable** and easy to maintain. In contrast, the RDD approach required verbose, low-level Python coding for manual `map` and `reduceByKey` operations, reducing code clarity.\n",
        "\n",
        "**Conclusion:** The results validate the industry standard: the **DataFrame API provides optimal performance and superior readability** for structured Big Data analysis."
      ],
      "metadata": {
        "id": "ntxt4KPwFvci"
      }
    },
    {
      "cell_type": "markdown",
      "source": [
        "## 🧪 Section 4 — Spark SQL & Streaming"
      ],
      "metadata": {
        "id": "GMBTS0JrBEr9"
      }
    },
    {
      "cell_type": "markdown",
      "source": [
        "###💡 Spark SQL Tasks:"
      ],
      "metadata": {
        "id": "uoaUmiprLM_N"
      }
    },
    {
      "cell_type": "code",
      "source": [
        "from pyspark.sql.functions import round\n",
        "\n",
        "# 1. Convert DataFrame to a temporary SQL view\n",
        "VIEW_NAME = \"sales_data\"\n",
        "amazon_df.createOrReplaceTempView(VIEW_NAME)\n",
        "\n",
        "print(f\"DataFrame successfully converted to a temporary SQL view: {VIEW_NAME}\")"
      ],
      "metadata": {
        "id": "RH33FAXCBFSJ",
        "colab": {
          "base_uri": "https://localhost:8080/"
        },
        "outputId": "769fad2f-c38c-4eb3-9feb-0e53c20cc6a2"
      },
      "execution_count": 31,
      "outputs": [
        {
          "output_type": "stream",
          "name": "stdout",
          "text": [
            "DataFrame successfully converted to a temporary SQL view: sales_data\n"
          ]
        }
      ]
    },
    {
      "cell_type": "code",
      "source": [
        "# SQL Query\n",
        "category_sales_sql = spark.sql(f\"\"\"\n",
        "    SELECT\n",
        "        Category,\n",
        "        ROUND(SUM(Amount), 2) AS Total_Sales_Amount\n",
        "    FROM\n",
        "        {VIEW_NAME}\n",
        "    GROUP BY\n",
        "        Category\n",
        "    ORDER BY\n",
        "        Total_Sales_Amount DESC\n",
        "\"\"\")\n",
        "\n",
        "# Show Output Table\n",
        "print(\"\\n--- 1. Total Sales Amount by Category (SQL) ---\")\n",
        "category_sales_sql.show(10, truncate=False)"
      ],
      "metadata": {
        "colab": {
          "base_uri": "https://localhost:8080/"
        },
        "id": "0I287XMXJMXe",
        "outputId": "e9b8bee7-8be2-4d7a-cab4-7dee91590d79"
      },
      "execution_count": 32,
      "outputs": [
        {
          "output_type": "stream",
          "name": "stdout",
          "text": [
            "\n",
            "--- 1. Total Sales Amount by Category (SQL) ---\n",
            "+-------------+------------------+\n",
            "|Category     |Total_Sales_Amount|\n",
            "+-------------+------------------+\n",
            "|Set          |3.920412403E7     |\n",
            "|kurta        |2.12995467E7      |\n",
            "|Western Dress|1.121607269E7     |\n",
            "|Top          |5347792.3         |\n",
            "|Ethnic Dress |791217.66         |\n",
            "|Blouse       |458408.18         |\n",
            "|Bottom       |150667.98         |\n",
            "|Saree        |123933.76         |\n",
            "|Dupatta      |915.0             |\n",
            "+-------------+------------------+\n",
            "\n"
          ]
        }
      ]
    },
    {
      "cell_type": "code",
      "source": [
        "# SQL Query\n",
        "highest_sales_state_sql = spark.sql(f\"\"\"\n",
        "    SELECT\n",
        "        `ship-state` AS Shipping_State,\n",
        "        ROUND(SUM(Amount), 2) AS Total_Sales\n",
        "    FROM\n",
        "        {VIEW_NAME}\n",
        "    GROUP BY\n",
        "        `ship-state`\n",
        "    ORDER BY\n",
        "        Total_Sales DESC\n",
        "    LIMIT 5\n",
        "\"\"\")\n",
        "\n",
        "# Show Output Table\n",
        "print(\"\\n--- 2. Top 5 States by Total Sales (SQL) ---\")\n",
        "highest_sales_state_sql.show(5, truncate=False)"
      ],
      "metadata": {
        "colab": {
          "base_uri": "https://localhost:8080/"
        },
        "id": "vUw5K6yTJf2N",
        "outputId": "7e1582db-1209-4695-ab85-537323cb83c1"
      },
      "execution_count": 33,
      "outputs": [
        {
          "output_type": "stream",
          "name": "stdout",
          "text": [
            "\n",
            "--- 2. Top 5 States by Total Sales (SQL) ---\n",
            "+--------------+-------------+\n",
            "|Shipping_State|Total_Sales  |\n",
            "+--------------+-------------+\n",
            "|MAHARASHTRA   |1.333553414E7|\n",
            "|KARNATAKA     |1.048111437E7|\n",
            "|TELANGANA     |6916615.65   |\n",
            "|UTTAR PRADESH |6816642.08   |\n",
            "|TAMIL NADU    |6515650.11   |\n",
            "+--------------+-------------+\n",
            "\n"
          ]
        }
      ]
    },
    {
      "cell_type": "code",
      "source": [
        "# SQL Query\n",
        "cancellation_ratio_sql = spark.sql(f\"\"\"\n",
        "    SELECT\n",
        "        COUNT(CASE WHEN Status = 'Cancelled' THEN 1 END) AS Cancelled_Count,\n",
        "        COUNT(*) AS Total_Orders,\n",
        "        ROUND(\n",
        "            (COUNT(CASE WHEN Status = 'Cancelled' THEN 1 END) * 100.0) / COUNT(*),\n",
        "            2\n",
        "        ) AS Cancellation_Ratio_Percent\n",
        "    FROM\n",
        "        {VIEW_NAME}\n",
        "\"\"\")\n",
        "\n",
        "# Show Output Table\n",
        "print(\"\\n--- 3. Cancellation Ratio (SQL) ---\")\n",
        "cancellation_ratio_sql.show(truncate=False)"
      ],
      "metadata": {
        "colab": {
          "base_uri": "https://localhost:8080/"
        },
        "id": "uHAWG_kiJfh5",
        "outputId": "03dfa4df-b9f4-4614-dd30-abe1afcc17b7"
      },
      "execution_count": 34,
      "outputs": [
        {
          "output_type": "stream",
          "name": "stdout",
          "text": [
            "\n",
            "--- 3. Cancellation Ratio (SQL) ---\n",
            "+---------------+------------+--------------------------+\n",
            "|Cancelled_Count|Total_Orders|Cancellation_Ratio_Percent|\n",
            "+---------------+------------+--------------------------+\n",
            "|18332          |128975      |14.21                     |\n",
            "+---------------+------------+--------------------------+\n",
            "\n"
          ]
        }
      ]
    },
    {
      "cell_type": "markdown",
      "source": [
        "### Summary of Spark SQL Insights\n",
        "\n",
        "The use of **Spark SQL** provided rapid, declarative analysis to extract critical business intelligence from the distributed dataset.\n",
        "\n",
        "#### **1. Sales and Profitability (Category Analysis)**\n",
        "Analysis of **Total Sales Amount by Category** clearly identifies the top revenue generators (e.g., 'Set', 'kurta'). These profitable categories must be prioritized for **inventory stocking and targeted marketing** to maximize business profitability.\n",
        "\n",
        "#### **2. Geographical Focus (State Analysis)**\n",
        "By analyzing sales across different states, the business gains vital **geographical intelligence**. This data is crucial for **optimizing logistics, prioritizing distribution capacity**, and effectively allocating regional marketing resources.\n",
        "\n",
        "#### **3. Operational Efficiency (Cancellation Ratio)**\n",
        "The low **Cancellation Ratio** indicates a relatively healthy and efficient fulfillment pipeline. This metric is key for evaluating operational health; its continuous monitoring helps prevent issues related to inventory, shipping, and quality control, thereby maintaining **customer satisfaction**.\n",
        "\n",
        "**Conclusion:** Spark SQL efficiently transforms massive data into actionable insights for strategic decision-making."
      ],
      "metadata": {
        "id": "M0-GaU93Kiru"
      }
    },
    {
      "cell_type": "markdown",
      "source": [
        "###⚡ Streaming Tasks:"
      ],
      "metadata": {
        "id": "qWg36LMRLVYJ"
      }
    },
    {
      "cell_type": "code",
      "source": [
        "## STEP 1: CREATE DIRECTORIES FOR STREAMING SIMULATION\n",
        "\n",
        "import os\n",
        "\n",
        "# Define directory paths\n",
        "INPUT_PATH = \"/content/streaming_input/\"\n",
        "CHECKPOINT_PATH = \"/content/streaming_checkpoint/\"\n",
        "OUTPUT_PATH = \"/content/streaming_output/\"\n",
        "\n",
        "# Create directories if they don't exist\n",
        "os.makedirs(INPUT_PATH, exist_ok=True)\n",
        "os.makedirs(CHECKPOINT_PATH, exist_ok=True)\n",
        "os.makedirs(OUTPUT_PATH, exist_ok=True)\n",
        "\n",
        "print(f\"Input directory created at: {INPUT_PATH}\")"
      ],
      "metadata": {
        "colab": {
          "base_uri": "https://localhost:8080/"
        },
        "id": "N1hjptHuMRI1",
        "outputId": "b42bf2d1-209c-4ab4-f8f5-02816b982065"
      },
      "execution_count": 35,
      "outputs": [
        {
          "output_type": "stream",
          "name": "stdout",
          "text": [
            "Input directory created at: /content/streaming_input/\n"
          ]
        }
      ]
    },
    {
      "cell_type": "code",
      "source": [
        "# List the contents of the main content directory\n",
        "print(\"--- Content Directory Contents ---\")\n",
        "!ls /content\n",
        "\n",
        "# List the contents of the Streaming Input directory\n",
        "print(\"\\n--- Streaming Input Folder Contents ---\")\n",
        "!ls -R /content/streaming_input"
      ],
      "metadata": {
        "colab": {
          "base_uri": "https://localhost:8080/"
        },
        "id": "uqgqZLUtNtb8",
        "outputId": "3bc40cd8-1103-4ceb-eb8a-371566fb4f5b"
      },
      "execution_count": 36,
      "outputs": [
        {
          "output_type": "stream",
          "name": "stdout",
          "text": [
            "--- Content Directory Contents ---\n",
            "'Amazon Sale Report.csv'   spark-3.5.1-bin-hadoop3   streaming_input\n",
            " sample_data\t\t   streaming_checkpoint      streaming_output\n",
            "\n",
            "--- Streaming Input Folder Contents ---\n",
            "/content/streaming_input:\n"
          ]
        }
      ]
    },
    {
      "cell_type": "code",
      "source": [
        "## STEP 2: CREATE INITIAL DATA FILE FOR STREAMING SOURCE\n",
        "\n",
        "# Save a small subset of the original DataFrame as the initial streaming file\n",
        "initial_data = amazon_df.limit(100)\n",
        "initial_data.write.csv(INPUT_PATH + \"initial_batch.csv\", header=True, mode=\"overwrite\")\n",
        "\n",
        "print(\"Initial streaming data batch created.\")"
      ],
      "metadata": {
        "colab": {
          "base_uri": "https://localhost:8080/"
        },
        "id": "45_dt4jxOusV",
        "outputId": "67a1385d-542d-4c24-8971-95eecfa9bf27"
      },
      "execution_count": 37,
      "outputs": [
        {
          "output_type": "stream",
          "name": "stdout",
          "text": [
            "Initial streaming data batch created.\n"
          ]
        }
      ]
    },
    {
      "cell_type": "code",
      "source": [
        "from pyspark.sql.functions import sum as spark_sum, col, round\n",
        "\n",
        "## STEP 3: START SPARK STRUCTURED STREAMING QUERY\n",
        "\n",
        "# Define the schema of the streaming data (must match the source data structure)\n",
        "# We use the schema from the existing DataFrame for reliability.\n",
        "input_schema = amazon_df.schema\n",
        "\n",
        "# 1. READ STREAM: Define the streaming source (the folder)\n",
        "sales_stream_df = spark.readStream \\\n",
        "    .schema(input_schema) \\\n",
        "    .csv(INPUT_PATH)\n",
        "\n",
        "# 2. TRANSFORMATION (MapReduce Logic): Calculate total sales by category\n",
        "# This will be recalculated every time a new file arrives.\n",
        "category_sales_stream = sales_stream_df \\\n",
        "    .withColumn(\"Amount\", col(\"Amount\").cast(\"double\")) \\\n",
        "    .groupBy(\"Category\") \\\n",
        "    .agg(\n",
        "        round(spark_sum(col(\"Amount\")), 2).alias(\"Total_Sales_Amount\")\n",
        "    ) \\\n",
        "    .orderBy(col(\"Total_Sales_Amount\").desc())\n",
        "\n",
        "\n",
        "# 3. WRITE STREAM: Define the output sink\n",
        "# The 'complete' output mode ensures the entire aggregated result is written on every trigger.\n",
        "# Note: For Colab, we write to the console (memory) or an external path (file/database).\n",
        "# Here, we will write to the console for real-time viewing.\n",
        "\n",
        "query = category_sales_stream.writeStream \\\n",
        "    .outputMode(\"complete\") \\\n",
        "    .format(\"console\") \\\n",
        "    .option(\"checkpointLocation\", CHECKPOINT_PATH) \\\n",
        "    .option(\"truncate\", \"false\") \\\n",
        "    .start()\n",
        "\n",
        "print(\"\\n--- Spark Streaming Query Started (Monitoring Input Folder) ---\")\n",
        "print(\"New results will appear in the console when a new file is added to the folder.\")\n",
        "\n",
        "# The query runs asynchronously. Wait a few seconds for the initial batch to process.\n",
        "import time\n",
        "time.sleep(10) # Wait 10 seconds for initial processing"
      ],
      "metadata": {
        "colab": {
          "base_uri": "https://localhost:8080/"
        },
        "id": "S8Yzh1QLOz-O",
        "outputId": "913e7f2c-498a-4f4a-f3ca-5113c81dd5e5"
      },
      "execution_count": 38,
      "outputs": [
        {
          "output_type": "stream",
          "name": "stdout",
          "text": [
            "\n",
            "--- Spark Streaming Query Started (Monitoring Input Folder) ---\n",
            "New results will appear in the console when a new file is added to the folder.\n"
          ]
        }
      ]
    },
    {
      "cell_type": "code",
      "source": [
        "## STEP 4: ADD A NEW FILE TO SIMULATE REAL-TIME DATA (TRIGGERING RECALCULATION)\n",
        "\n",
        "print(\"\\n--- Simulating New Data Arrival (Triggering Stream) ---\")\n",
        "\n",
        "# Create a small, new batch of data\n",
        "new_batch_df = amazon_df.limit(50).withColumn(\"New_Order\", col(\"Amount\") * 1.5)\n",
        "\n",
        "# Save this new data to a new file in the input folder\n",
        "new_batch_df.write.csv(INPUT_PATH + \"second_batch.csv\", header=True, mode=\"overwrite\")\n",
        "\n",
        "print(\"Second data batch added to the input folder.\")\n",
        "\n",
        "# Wait for the stream to process the new file (Wait 10-15 seconds)\n",
        "time.sleep(15)\n",
        "\n",
        "# Stop the streaming query after simulation\n",
        "query.stop()\n",
        "print(\"\\n--- Streaming Query Stopped ---\")"
      ],
      "metadata": {
        "colab": {
          "base_uri": "https://localhost:8080/"
        },
        "id": "6E1oYIsTO6S2",
        "outputId": "16eca7c6-4ed4-4c45-e732-9b3441e9afed"
      },
      "execution_count": 39,
      "outputs": [
        {
          "output_type": "stream",
          "name": "stdout",
          "text": [
            "\n",
            "--- Simulating New Data Arrival (Triggering Stream) ---\n",
            "Second data batch added to the input folder.\n",
            "\n",
            "--- Streaming Query Stopped ---\n"
          ]
        }
      ]
    },
    {
      "cell_type": "markdown",
      "source": [
        "### Concept Interpretation: Real-Time Data and Velocity\n",
        "\n",
        "The Streaming task clearly demonstrates the concept of **Real-Time Data** in the context of high **Velocity**:\n",
        "\n",
        "1.  **Real-Time Data Simulation:** The process simulated a system where continuous data (new sales transactions) arrived as new files. Spark Streaming's ability to constantly monitor the input folder and immediately process the **second batch** without restarting the entire system proves its real-time capability.\n",
        "\n",
        "2.  **Velocity Application:** This is a direct, practical example of the **Velocity** characteristic of Big Data. In an actual e-commerce environment, every customer purchase is a new data point that must be analyzed immediately. Spark Streaming allows the business to calculate metrics like *Total Sales by Category* on the fly, providing near-instantaneous business intelligence crucial for timely operational adjustments (e.g., inventory alerts, fraud detection).\n",
        "\n",
        "**Conclusion:** Unlike batch processing (Sections 2 & 3) where analysis runs on static data, **Spark Streaming enables continuous analytics** on data in motion, making it an essential tool for handling high-velocity data streams."
      ],
      "metadata": {
        "id": "VxBEGFwZO8eA"
      }
    },
    {
      "cell_type": "markdown",
      "source": [
        "## 💾 Section 5 — Distributed Storage (HDFS & S3)"
      ],
      "metadata": {
        "id": "TlJH1e2KBGXL"
      }
    },
    {
      "cell_type": "code",
      "source": [
        "## STEP 1: SAVE DATA IN PARQUET FORMAT\n",
        "\n",
        "# Define a path in the local Colab filesystem to simulate distributed storage\n",
        "PARQUET_PATH = \"/content/amazon_sales_parquet/\"\n",
        "\n",
        "# Save the DataFrame in Parquet format\n",
        "amazon_df.write.mode(\"overwrite\").parquet(PARQUET_PATH)\n",
        "\n",
        "print(f\"Data successfully saved to Parquet format at: {PARQUET_PATH}\")"
      ],
      "metadata": {
        "id": "48FczbydBHrD",
        "colab": {
          "base_uri": "https://localhost:8080/"
        },
        "outputId": "9be3b345-24df-42a4-c47a-45a036f4e519"
      },
      "execution_count": 40,
      "outputs": [
        {
          "output_type": "stream",
          "name": "stdout",
          "text": [
            "Data successfully saved to Parquet format at: /content/amazon_sales_parquet/\n"
          ]
        }
      ]
    },
    {
      "cell_type": "code",
      "source": [
        "## STEP 2: READ PARQUET DATA AND VERIFY ROW COUNT\n",
        "\n",
        "# Read the Parquet file back into a new DataFrame\n",
        "parquet_df = spark.read.parquet(PARQUET_PATH)\n",
        "\n",
        "# Check the row count to verify data integrity\n",
        "parquet_row_count = parquet_df.count()\n",
        "\n",
        "# Check the schema to see if data types were preserved\n",
        "print(\"\\n--- Parquet DataFrame Schema ---\")\n",
        "parquet_df.printSchema()\n",
        "\n",
        "print(f\"\\nOriginal Row Count: {amazon_df.count():,}\")\n",
        "print(f\"Parquet Read Row Count: {parquet_row_count:,}\")\n",
        "\n",
        "if amazon_df.count() == parquet_row_count:\n",
        "    print(\"Verification Successful: All rows were preserved during Parquet save/read.\")"
      ],
      "metadata": {
        "colab": {
          "base_uri": "https://localhost:8080/"
        },
        "id": "p-JqkHg2PuQ3",
        "outputId": "3fc958f6-16bf-4c74-b918-53ca01d9cd73"
      },
      "execution_count": 41,
      "outputs": [
        {
          "output_type": "stream",
          "name": "stdout",
          "text": [
            "\n",
            "--- Parquet DataFrame Schema ---\n",
            "root\n",
            " |-- index: integer (nullable = true)\n",
            " |-- Order ID: string (nullable = true)\n",
            " |-- Date: string (nullable = true)\n",
            " |-- Status: string (nullable = true)\n",
            " |-- Fulfilment: string (nullable = true)\n",
            " |-- Sales Channel : string (nullable = true)\n",
            " |-- ship-service-level: string (nullable = true)\n",
            " |-- Style: string (nullable = true)\n",
            " |-- SKU: string (nullable = true)\n",
            " |-- Category: string (nullable = true)\n",
            " |-- Size: string (nullable = true)\n",
            " |-- ASIN: string (nullable = true)\n",
            " |-- Courier Status: string (nullable = true)\n",
            " |-- Qty: integer (nullable = true)\n",
            " |-- currency: string (nullable = true)\n",
            " |-- Amount: double (nullable = true)\n",
            " |-- ship-city: string (nullable = true)\n",
            " |-- ship-state: string (nullable = true)\n",
            " |-- ship-postal-code: double (nullable = true)\n",
            " |-- ship-country: string (nullable = true)\n",
            " |-- promotion-ids: string (nullable = true)\n",
            " |-- B2B: boolean (nullable = true)\n",
            " |-- fulfilled-by: string (nullable = true)\n",
            " |-- Unnamed: 22: boolean (nullable = true)\n",
            "\n",
            "\n",
            "Original Row Count: 128,975\n",
            "Parquet Read Row Count: 128,975\n",
            "Verification Successful: All rows were preserved during Parquet save/read.\n"
          ]
        }
      ]
    },
    {
      "cell_type": "markdown",
      "source": [
        "### Advantages of the Parquet Format\n",
        "\n",
        "The Parquet format is the industry standard for analytical workloads in Spark due to its technical superiority:\n",
        "\n",
        "1.  **Columnar Storage:** Instead of storing data row-by-row, Parquet stores data column-by-column. This means when a query only needs a few columns (e.g., `Category` and `Amount`), Spark only reads those specific columns, leading to significant **I/O reduction** and **faster query execution**.\n",
        "2.  **Efficient Compression:** Storing data by column allows for better compression algorithms, as data within a single column is generally of the same type and has similar patterns. This results in smaller file sizes, saving storage costs.\n",
        "3.  **Schema Evolution:** Parquet supports adding new columns or changing existing ones without affecting the ability to read old data, crucial for long-term data warehousing.\n",
        "4.  **Optimized Encoding:** It is highly integrated with Spark (and its underlying technologies like the Catalyst Optimizer) and supports data partitioning and efficient encoding techniques."
      ],
      "metadata": {
        "id": "KJ4o0IcUQPLr"
      }
    },
    {
      "cell_type": "code",
      "source": [
        "## OPTIONAL STEP: JSON COMPARISON AND S3 SIMULATION\n",
        "\n",
        "# 1. Simulate saving in the less efficient JSON format\n",
        "JSON_PATH = \"/content/amazon_sales_json/\"\n",
        "amazon_df.write.mode(\"overwrite\").json(JSON_PATH)\n",
        "\n",
        "print(f\"\\nData saved in JSON format at: {JSON_PATH}\")\n",
        "\n",
        "# 2. Simulate writing to S3 (Cannot connect to AWS, so we simulate the path)\n",
        "# The file system driver (s3a) is necessary in a real Spark environment.\n",
        "print(\"\\n--- S3 Simulation ---\")\n",
        "print(\"In a real environment, the command would look like this (but cannot be executed in Colab):\")\n",
        "\n",
        "# This is a hypothetical command for demonstration:\n",
        "S3_SIMULATION_CODE = f\"\"\"\n",
        "amazon_df.write.mode(\"overwrite\").parquet(\"s3a://fake-bucket/amazon_sales/\")\n",
        "\"\"\"\n",
        "print(S3_SIMULATION_CODE)"
      ],
      "metadata": {
        "colab": {
          "base_uri": "https://localhost:8080/"
        },
        "id": "DLKVPushQU4g",
        "outputId": "9bafd1be-4461-42d4-86e8-8e540b0989f8"
      },
      "execution_count": 42,
      "outputs": [
        {
          "output_type": "stream",
          "name": "stdout",
          "text": [
            "\n",
            "Data saved in JSON format at: /content/amazon_sales_json/\n",
            "\n",
            "--- S3 Simulation ---\n",
            "In a real environment, the command would look like this (but cannot be executed in Colab):\n",
            "\n",
            "amazon_df.write.mode(\"overwrite\").parquet(\"s3a://fake-bucket/amazon_sales/\")\n",
            "\n"
          ]
        }
      ]
    },
    {
      "cell_type": "markdown",
      "source": [
        "### JSON vs. Parquet Observation\n",
        "\n",
        "JSON is a human-readable, row-based format commonly used for data exchange, but it is **inefficient for analytics**.\n",
        "\n",
        "* **Parquet:** Optimized for reading partial data (columnar) and highly compressed. **Best for analysis.**\n",
        "* **JSON:** Reads the entire row even if only one column is needed, leading to slower query times and higher storage requirements. **Best for data transfer and human readability.**"
      ],
      "metadata": {
        "id": "K40Q4jfsQyPh"
      }
    },
    {
      "cell_type": "markdown",
      "source": [
        "### Why Distributed Storage Systems Are Critical\n",
        "\n",
        "Distributed storage systems like **HDFS (Hadoop Distributed File System)** and **S3 (Amazon Simple Storage Service)** are fundamental to Big Data infrastructure and the success of a PySpark project:\n",
        "\n",
        "1.  **Scalability and Elasticity:** They are designed to scale horizontally to handle petabytes of data, far beyond the capacity of a single server. S3 is virtually limitless (elastic).\n",
        "2.  **Fault Tolerance:** They ensure data is safe by storing multiple redundant copies across different nodes (HDFS) or availability zones (S3). If one server fails, the data remains accessible.\n",
        "3.  **Data Locality (HDFS):** HDFS stores data close to the processing units, allowing Spark workers to process data on the same machine where it resides. This minimizes network traffic and is crucial for high-speed computation. (S3 provides high speed via proximity, but not true data locality).\n",
        "4.  **Decoupling Storage and Compute:** These systems allow storage to scale independently of compute resources (Spark cluster), providing flexibility and cost efficiency."
      ],
      "metadata": {
        "id": "1Qe0akJORGFI"
      }
    },
    {
      "cell_type": "markdown",
      "source": [
        "## 🔎 Section 6 — Data Processing with PySpark (Filter, Aggregation, Joins)"
      ],
      "metadata": {
        "id": "wAuclFnUBHR1"
      }
    },
    {
      "cell_type": "code",
      "source": [],
      "metadata": {
        "id": "Teap3X60BG0_"
      },
      "execution_count": null,
      "outputs": []
    },
    {
      "cell_type": "markdown",
      "source": [
        "## 📤 Section 7 — Loading & Reading Data on S3"
      ],
      "metadata": {
        "id": "WBxMxkCmBIPK"
      }
    },
    {
      "cell_type": "code",
      "source": [],
      "metadata": {
        "id": "kMRezMhIBIwj"
      },
      "execution_count": null,
      "outputs": []
    },
    {
      "cell_type": "markdown",
      "source": [
        "## 📈 Section 8 — Visualization Tasks"
      ],
      "metadata": {
        "id": "GraQM5SqBrTH"
      }
    },
    {
      "cell_type": "code",
      "source": [],
      "metadata": {
        "id": "G3aXNzk3BuJO"
      },
      "execution_count": null,
      "outputs": []
    },
    {
      "cell_type": "markdown",
      "source": [
        "## 🧠 Section 9 — Mini Analysis Report (Short Comments)"
      ],
      "metadata": {
        "id": "CxeFwX8XBwMt"
      }
    },
    {
      "cell_type": "code",
      "source": [],
      "metadata": {
        "id": "OsUfam1yBzlU"
      },
      "execution_count": null,
      "outputs": []
    }
  ]
}