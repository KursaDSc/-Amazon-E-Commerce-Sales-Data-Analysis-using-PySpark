{
  "nbformat": 4,
  "nbformat_minor": 0,
  "metadata": {
    "colab": {
      "provenance": [],
      "toc_visible": true,
      "authorship_tag": "ABX9TyMzGUbpZ7TWXtJpxHv5yeTe",
      "include_colab_link": true
    },
    "kernelspec": {
      "name": "python3",
      "display_name": "Python 3"
    },
    "language_info": {
      "name": "python"
    }
  },
  "cells": [
    {
      "cell_type": "markdown",
      "metadata": {
        "id": "view-in-github",
        "colab_type": "text"
      },
      "source": [
        "<a href=\"https://colab.research.google.com/github/KursaDSc/-Amazon-E-Commerce-Sales-Data-Analysis-using-PySpark/blob/main/Amazon_Sales_Dataset_Project.ipynb\" target=\"_parent\"><img src=\"https://colab.research.google.com/assets/colab-badge.svg\" alt=\"Open In Colab\"/></a>"
      ]
    },
    {
      "cell_type": "markdown",
      "source": [
        "# Amazon Sales Data Analysis Project"
      ],
      "metadata": {
        "id": "1M9MPpF6Elzp"
      }
    },
    {
      "cell_type": "markdown",
      "source": [
        "## Introduction\n",
        "This study is designed to examine large-scale Amazon sales data, which forms the foundation of the rapidly growing e-commerce world. The project aims not only to present data analysis results but also to deeply explore the technological infrastructure of modern data science approaches. In this context, starting with the fundamental principles of Big Data (Volume, Velocity, Variety), the industry standard framework for distributed and high-performance data processing, Apache Spark (PySpark), will be utilized. Throughout the work, the differences between Spark's core building blocks, RDDs and DataFrames, will be investigated, and data loading processes will be addressed within the context of Distributed Storage solutions such as HDFS and S3. Finally, data will be processed using PySpark's powerful filtering, aggregation, and joining capabilities, the findings will be presented through visualization tasks, and the work will be concluded with a mini analysis report. Our goal is to leverage the power of PySpark to uncover critical business trends and operational insights within the Amazon sales data.[bağlantı metni](https:// [bağlantı metni](https://))"
      ],
      "metadata": {
        "id": "EVC52iQXIS10"
      }
    },
    {
      "cell_type": "markdown",
      "source": [
        "## Project Details\n",
        "\n",
        "* **Framework:** Apache PySpark\n",
        "* **Environment:** Google Colab / Jupyter Notebook\n",
        "* **Visualization:** Matplotlib & Seaborn\n",
        "* **Output:** Single .ipynb file + Short Summary Report"
      ],
      "metadata": {
        "id": "3ybbUfRnITxL"
      }
    },
    {
      "cell_type": "markdown",
      "source": [
        "## Setup and Environment Configuration"
      ],
      "metadata": {
        "id": "6EmZ-p5UHtQw"
      }
    },
    {
      "cell_type": "code",
      "source": [
        "## COMPLETE PYSPARK SETUP: VERIFIED METHOD FOR COLAB\n",
        "\n",
        "print(\"1. Installing OpenJDK...\")\n",
        "# 1. Install OpenJDK (Java is required for Spark)\n",
        "!apt-get install openjdk-8-jdk-headless -qq > /dev/null\n",
        "\n",
        "print(\"2. Downloading Apache Spark...\")\n",
        "# 2. Download Apache Spark 3.5.1 (Direct link using a common mirror)\n",
        "!wget -q https://archive.apache.org/dist/spark/spark-3.5.1/spark-3.5.1-bin-hadoop3.tgz -O spark.tgz\n",
        "\n",
        "# 3. Extract the Spark file\n",
        "print(\"3. Extracting Spark files...\")\n",
        "!tar xf spark.tgz\n",
        "\n",
        "# 4. Clean up the archive file\n",
        "!rm spark.tgz\n",
        "\n",
        "# 5. Install findspark library\n",
        "print(\"4. Installing findspark...\")\n",
        "!pip install -q findspark\n",
        "\n",
        "# 6. Set Environment Variables\n",
        "print(\"5. Setting environment variables...\")\n",
        "import os\n",
        "import findspark\n",
        "from pyspark.sql import SparkSession\n",
        "\n",
        "# Set SPARK_HOME to the extracted folder (Note: folder name is long, be careful)\n",
        "os.environ[\"SPARK_HOME\"] = \"/content/spark-3.5.1-bin-hadoop3\"\n",
        "\n",
        "# Set JAVA_HOME\n",
        "os.environ[\"JAVA_HOME\"] = \"/usr/lib/jvm/java-8-openjdk-amd64\"\n",
        "\n",
        "# Initialize findspark\n",
        "findspark.init()\n",
        "\n",
        "# 7. Create a Spark Session\n",
        "print(\"6. Initializing Spark Session...\")\n",
        "spark = SparkSession.builder\\\n",
        "        .master(\"local[*]\")\\\n",
        "        .appName(\"AmazonAnalysis\")\\\n",
        "        .getOrCreate()\n",
        "\n",
        "# VERIFICATION\n",
        "print(\"\\n--- Spark Setup Complete ---\")\n",
        "print(\"Spark Session successfully created:\")\n",
        "spark"
      ],
      "metadata": {
        "colab": {
          "base_uri": "https://localhost:8080/",
          "height": 375
        },
        "id": "0rzSxipOu22D",
        "outputId": "5a55b27d-d86a-4c1f-f186-eb654d5f6169"
      },
      "execution_count": 10,
      "outputs": [
        {
          "output_type": "stream",
          "name": "stdout",
          "text": [
            "1. Installing OpenJDK...\n",
            "2. Downloading Apache Spark...\n",
            "3. Extracting Spark files...\n",
            "4. Installing findspark...\n",
            "5. Setting environment variables...\n",
            "6. Initializing Spark Session...\n",
            "\n",
            "--- Spark Setup Complete ---\n",
            "Spark Session successfully created:\n"
          ]
        },
        {
          "output_type": "execute_result",
          "data": {
            "text/plain": [
              "<pyspark.sql.session.SparkSession at 0x7d418096d040>"
            ],
            "text/html": [
              "\n",
              "            <div>\n",
              "                <p><b>SparkSession - in-memory</b></p>\n",
              "                \n",
              "        <div>\n",
              "            <p><b>SparkContext</b></p>\n",
              "\n",
              "            <p><a href=\"http://86b5d6dbcb48:4040\">Spark UI</a></p>\n",
              "\n",
              "            <dl>\n",
              "              <dt>Version</dt>\n",
              "                <dd><code>v3.5.1</code></dd>\n",
              "              <dt>Master</dt>\n",
              "                <dd><code>local[*]</code></dd>\n",
              "              <dt>AppName</dt>\n",
              "                <dd><code>AmazonAnalysis</code></dd>\n",
              "            </dl>\n",
              "        </div>\n",
              "        \n",
              "            </div>\n",
              "        "
            ]
          },
          "metadata": {},
          "execution_count": 10
        }
      ]
    },
    {
      "cell_type": "markdown",
      "source": [
        "## Section 1 — What is Big Data? (Volume, Velocity, Variety)"
      ],
      "metadata": {
        "id": "cFU5cNIUALb7"
      }
    },
    {
      "cell_type": "code",
      "source": [
        "## DATA UPLOAD\n",
        "\n",
        "# Upload the Amazon sales data file from your local machine to the Colab environment.\n",
        "# A file selector will appear after executing this cell.\n",
        "from google.colab import files\n",
        "uploaded = files.upload()"
      ],
      "metadata": {
        "colab": {
          "base_uri": "https://localhost:8080/",
          "height": 73
        },
        "id": "tuF3RW43NHDv",
        "outputId": "6729fc58-addf-4575-e8bf-9e25f3f68ee7"
      },
      "execution_count": 11,
      "outputs": [
        {
          "output_type": "display_data",
          "data": {
            "text/plain": [
              "<IPython.core.display.HTML object>"
            ],
            "text/html": [
              "\n",
              "     <input type=\"file\" id=\"files-2e5e4483-c982-46f6-8742-bfeeb29fee2e\" name=\"files[]\" multiple disabled\n",
              "        style=\"border:none\" />\n",
              "     <output id=\"result-2e5e4483-c982-46f6-8742-bfeeb29fee2e\">\n",
              "      Upload widget is only available when the cell has been executed in the\n",
              "      current browser session. Please rerun this cell to enable.\n",
              "      </output>\n",
              "      <script>// Copyright 2017 Google LLC\n",
              "//\n",
              "// Licensed under the Apache License, Version 2.0 (the \"License\");\n",
              "// you may not use this file except in compliance with the License.\n",
              "// You may obtain a copy of the License at\n",
              "//\n",
              "//      http://www.apache.org/licenses/LICENSE-2.0\n",
              "//\n",
              "// Unless required by applicable law or agreed to in writing, software\n",
              "// distributed under the License is distributed on an \"AS IS\" BASIS,\n",
              "// WITHOUT WARRANTIES OR CONDITIONS OF ANY KIND, either express or implied.\n",
              "// See the License for the specific language governing permissions and\n",
              "// limitations under the License.\n",
              "\n",
              "/**\n",
              " * @fileoverview Helpers for google.colab Python module.\n",
              " */\n",
              "(function(scope) {\n",
              "function span(text, styleAttributes = {}) {\n",
              "  const element = document.createElement('span');\n",
              "  element.textContent = text;\n",
              "  for (const key of Object.keys(styleAttributes)) {\n",
              "    element.style[key] = styleAttributes[key];\n",
              "  }\n",
              "  return element;\n",
              "}\n",
              "\n",
              "// Max number of bytes which will be uploaded at a time.\n",
              "const MAX_PAYLOAD_SIZE = 100 * 1024;\n",
              "\n",
              "function _uploadFiles(inputId, outputId) {\n",
              "  const steps = uploadFilesStep(inputId, outputId);\n",
              "  const outputElement = document.getElementById(outputId);\n",
              "  // Cache steps on the outputElement to make it available for the next call\n",
              "  // to uploadFilesContinue from Python.\n",
              "  outputElement.steps = steps;\n",
              "\n",
              "  return _uploadFilesContinue(outputId);\n",
              "}\n",
              "\n",
              "// This is roughly an async generator (not supported in the browser yet),\n",
              "// where there are multiple asynchronous steps and the Python side is going\n",
              "// to poll for completion of each step.\n",
              "// This uses a Promise to block the python side on completion of each step,\n",
              "// then passes the result of the previous step as the input to the next step.\n",
              "function _uploadFilesContinue(outputId) {\n",
              "  const outputElement = document.getElementById(outputId);\n",
              "  const steps = outputElement.steps;\n",
              "\n",
              "  const next = steps.next(outputElement.lastPromiseValue);\n",
              "  return Promise.resolve(next.value.promise).then((value) => {\n",
              "    // Cache the last promise value to make it available to the next\n",
              "    // step of the generator.\n",
              "    outputElement.lastPromiseValue = value;\n",
              "    return next.value.response;\n",
              "  });\n",
              "}\n",
              "\n",
              "/**\n",
              " * Generator function which is called between each async step of the upload\n",
              " * process.\n",
              " * @param {string} inputId Element ID of the input file picker element.\n",
              " * @param {string} outputId Element ID of the output display.\n",
              " * @return {!Iterable<!Object>} Iterable of next steps.\n",
              " */\n",
              "function* uploadFilesStep(inputId, outputId) {\n",
              "  const inputElement = document.getElementById(inputId);\n",
              "  inputElement.disabled = false;\n",
              "\n",
              "  const outputElement = document.getElementById(outputId);\n",
              "  outputElement.innerHTML = '';\n",
              "\n",
              "  const pickedPromise = new Promise((resolve) => {\n",
              "    inputElement.addEventListener('change', (e) => {\n",
              "      resolve(e.target.files);\n",
              "    });\n",
              "  });\n",
              "\n",
              "  const cancel = document.createElement('button');\n",
              "  inputElement.parentElement.appendChild(cancel);\n",
              "  cancel.textContent = 'Cancel upload';\n",
              "  const cancelPromise = new Promise((resolve) => {\n",
              "    cancel.onclick = () => {\n",
              "      resolve(null);\n",
              "    };\n",
              "  });\n",
              "\n",
              "  // Wait for the user to pick the files.\n",
              "  const files = yield {\n",
              "    promise: Promise.race([pickedPromise, cancelPromise]),\n",
              "    response: {\n",
              "      action: 'starting',\n",
              "    }\n",
              "  };\n",
              "\n",
              "  cancel.remove();\n",
              "\n",
              "  // Disable the input element since further picks are not allowed.\n",
              "  inputElement.disabled = true;\n",
              "\n",
              "  if (!files) {\n",
              "    return {\n",
              "      response: {\n",
              "        action: 'complete',\n",
              "      }\n",
              "    };\n",
              "  }\n",
              "\n",
              "  for (const file of files) {\n",
              "    const li = document.createElement('li');\n",
              "    li.append(span(file.name, {fontWeight: 'bold'}));\n",
              "    li.append(span(\n",
              "        `(${file.type || 'n/a'}) - ${file.size} bytes, ` +\n",
              "        `last modified: ${\n",
              "            file.lastModifiedDate ? file.lastModifiedDate.toLocaleDateString() :\n",
              "                                    'n/a'} - `));\n",
              "    const percent = span('0% done');\n",
              "    li.appendChild(percent);\n",
              "\n",
              "    outputElement.appendChild(li);\n",
              "\n",
              "    const fileDataPromise = new Promise((resolve) => {\n",
              "      const reader = new FileReader();\n",
              "      reader.onload = (e) => {\n",
              "        resolve(e.target.result);\n",
              "      };\n",
              "      reader.readAsArrayBuffer(file);\n",
              "    });\n",
              "    // Wait for the data to be ready.\n",
              "    let fileData = yield {\n",
              "      promise: fileDataPromise,\n",
              "      response: {\n",
              "        action: 'continue',\n",
              "      }\n",
              "    };\n",
              "\n",
              "    // Use a chunked sending to avoid message size limits. See b/62115660.\n",
              "    let position = 0;\n",
              "    do {\n",
              "      const length = Math.min(fileData.byteLength - position, MAX_PAYLOAD_SIZE);\n",
              "      const chunk = new Uint8Array(fileData, position, length);\n",
              "      position += length;\n",
              "\n",
              "      const base64 = btoa(String.fromCharCode.apply(null, chunk));\n",
              "      yield {\n",
              "        response: {\n",
              "          action: 'append',\n",
              "          file: file.name,\n",
              "          data: base64,\n",
              "        },\n",
              "      };\n",
              "\n",
              "      let percentDone = fileData.byteLength === 0 ?\n",
              "          100 :\n",
              "          Math.round((position / fileData.byteLength) * 100);\n",
              "      percent.textContent = `${percentDone}% done`;\n",
              "\n",
              "    } while (position < fileData.byteLength);\n",
              "  }\n",
              "\n",
              "  // All done.\n",
              "  yield {\n",
              "    response: {\n",
              "      action: 'complete',\n",
              "    }\n",
              "  };\n",
              "}\n",
              "\n",
              "scope.google = scope.google || {};\n",
              "scope.google.colab = scope.google.colab || {};\n",
              "scope.google.colab._files = {\n",
              "  _uploadFiles,\n",
              "  _uploadFilesContinue,\n",
              "};\n",
              "})(self);\n",
              "</script> "
            ]
          },
          "metadata": {}
        },
        {
          "output_type": "stream",
          "name": "stdout",
          "text": [
            "Saving Amazon Sale Report.csv to Amazon Sale Report.csv\n"
          ]
        }
      ]
    },
    {
      "cell_type": "code",
      "execution_count": 12,
      "metadata": {
        "id": "-A8zWNZt_iJH",
        "colab": {
          "base_uri": "https://localhost:8080/"
        },
        "collapsed": true,
        "outputId": "371c0ddb-b7de-44bd-99cb-3c08751f6f3b"
      },
      "outputs": [
        {
          "output_type": "stream",
          "name": "stdout",
          "text": [
            "--- DataFrame Schema (Structure) ---\n",
            "root\n",
            " |-- index: integer (nullable = true)\n",
            " |-- Order ID: string (nullable = true)\n",
            " |-- Date: string (nullable = true)\n",
            " |-- Status: string (nullable = true)\n",
            " |-- Fulfilment: string (nullable = true)\n",
            " |-- Sales Channel : string (nullable = true)\n",
            " |-- ship-service-level: string (nullable = true)\n",
            " |-- Style: string (nullable = true)\n",
            " |-- SKU: string (nullable = true)\n",
            " |-- Category: string (nullable = true)\n",
            " |-- Size: string (nullable = true)\n",
            " |-- ASIN: string (nullable = true)\n",
            " |-- Courier Status: string (nullable = true)\n",
            " |-- Qty: integer (nullable = true)\n",
            " |-- currency: string (nullable = true)\n",
            " |-- Amount: double (nullable = true)\n",
            " |-- ship-city: string (nullable = true)\n",
            " |-- ship-state: string (nullable = true)\n",
            " |-- ship-postal-code: double (nullable = true)\n",
            " |-- ship-country: string (nullable = true)\n",
            " |-- promotion-ids: string (nullable = true)\n",
            " |-- B2B: boolean (nullable = true)\n",
            " |-- fulfilled-by: string (nullable = true)\n",
            " |-- Unnamed: 22: boolean (nullable = true)\n",
            "\n",
            "\n",
            "--- First 5 Rows of Data ---\n",
            "+-----+-------------------+--------+--------------------+----------+--------------+------------------+-------+---------------+-------------+----+----------+--------------+---+--------+------+-----------+-----------+----------------+------------+--------------------+-----+------------+-----------+\n",
            "|index|           Order ID|    Date|              Status|Fulfilment|Sales Channel |ship-service-level|  Style|            SKU|     Category|Size|      ASIN|Courier Status|Qty|currency|Amount|  ship-city| ship-state|ship-postal-code|ship-country|       promotion-ids|  B2B|fulfilled-by|Unnamed: 22|\n",
            "+-----+-------------------+--------+--------------------+----------+--------------+------------------+-------+---------------+-------------+----+----------+--------------+---+--------+------+-----------+-----------+----------------+------------+--------------------+-----+------------+-----------+\n",
            "|    0|405-8078784-5731545|04-30-22|           Cancelled|  Merchant|     Amazon.in|          Standard| SET389| SET389-KR-NP-S|          Set|   S|B09KXVBD7Z|          NULL|  0|     INR|647.62|     MUMBAI|MAHARASHTRA|        400081.0|          IN|                NULL|false|   Easy Ship|       NULL|\n",
            "|    1|171-9198151-1101146|04-30-22|Shipped - Deliver...|  Merchant|     Amazon.in|          Standard|JNE3781|JNE3781-KR-XXXL|        kurta| 3XL|B09K3WFS32|       Shipped|  1|     INR| 406.0|  BENGALURU|  KARNATAKA|        560085.0|          IN|Amazon PLCC Free-...|false|   Easy Ship|       NULL|\n",
            "|    2|404-0687676-7273146|04-30-22|             Shipped|    Amazon|     Amazon.in|         Expedited|JNE3371|  JNE3371-KR-XL|        kurta|  XL|B07WV4JV4D|       Shipped|  1|     INR| 329.0|NAVI MUMBAI|MAHARASHTRA|        410210.0|          IN|IN Core Free Ship...| true|        NULL|       NULL|\n",
            "|    3|403-9615377-8133951|04-30-22|           Cancelled|  Merchant|     Amazon.in|          Standard|  J0341|     J0341-DR-L|Western Dress|   L|B099NRCT7B|          NULL|  0|     INR|753.33| PUDUCHERRY| PUDUCHERRY|        605008.0|          IN|                NULL|false|   Easy Ship|       NULL|\n",
            "|    4|407-1069790-7240320|04-30-22|             Shipped|    Amazon|     Amazon.in|         Expedited|JNE3671|JNE3671-TU-XXXL|          Top| 3XL|B098714BZP|       Shipped|  1|     INR| 574.0|    CHENNAI| TAMIL NADU|        600073.0|          IN|                NULL|false|        NULL|       NULL|\n",
            "+-----+-------------------+--------+--------------------+----------+--------------+------------------+-------+---------------+-------------+----+----------+--------------+---+--------+------+-----------+-----------+----------------+------------+--------------------+-----+------------+-----------+\n",
            "only showing top 5 rows\n",
            "\n",
            "\n",
            "Total Records: 128975\n"
          ]
        }
      ],
      "source": [
        "FILE_PATH = \"Amazon Sale Report.csv\"\n",
        "\n",
        "try:\n",
        "    amazon_df = spark.read.csv(\n",
        "        FILE_PATH,\n",
        "        header=True,\n",
        "        inferSchema=True\n",
        "    )\n",
        "\n",
        "except Exception as e:\n",
        "    print(f\"An error occurred during file loading: {e}\")\n",
        "    print(\"Please ensure the FILE_PATH variable matches the uploaded file name exactly.\")"
      ]
    },
    {
      "cell_type": "code",
      "source": [
        "    # Check the data structure and schema\n",
        "    print(\"--- DataFrame Schema (Structure) ---\")\n",
        "    amazon_df.printSchema()\n",
        "\n",
        "    # Check the first few records\n",
        "    print(\"\\n--- First 5 Rows of Data ---\")\n",
        "    amazon_df.show(5)\n",
        "\n",
        "    # Check the total number of records\n",
        "    print(f\"\\nTotal Records: {amazon_df.count()}\")"
      ],
      "metadata": {
        "colab": {
          "base_uri": "https://localhost:8080/"
        },
        "id": "X4tKo2kLyQmF",
        "outputId": "ff970b4b-6350-4977-f2ac-e7c78212afaa"
      },
      "execution_count": 17,
      "outputs": [
        {
          "output_type": "stream",
          "name": "stdout",
          "text": [
            "--- DataFrame Schema (Structure) ---\n",
            "root\n",
            " |-- index: integer (nullable = true)\n",
            " |-- Order ID: string (nullable = true)\n",
            " |-- Date: string (nullable = true)\n",
            " |-- Status: string (nullable = true)\n",
            " |-- Fulfilment: string (nullable = true)\n",
            " |-- Sales Channel : string (nullable = true)\n",
            " |-- ship-service-level: string (nullable = true)\n",
            " |-- Style: string (nullable = true)\n",
            " |-- SKU: string (nullable = true)\n",
            " |-- Category: string (nullable = true)\n",
            " |-- Size: string (nullable = true)\n",
            " |-- ASIN: string (nullable = true)\n",
            " |-- Courier Status: string (nullable = true)\n",
            " |-- Qty: integer (nullable = true)\n",
            " |-- currency: string (nullable = true)\n",
            " |-- Amount: double (nullable = true)\n",
            " |-- ship-city: string (nullable = true)\n",
            " |-- ship-state: string (nullable = true)\n",
            " |-- ship-postal-code: double (nullable = true)\n",
            " |-- ship-country: string (nullable = true)\n",
            " |-- promotion-ids: string (nullable = true)\n",
            " |-- B2B: boolean (nullable = true)\n",
            " |-- fulfilled-by: string (nullable = true)\n",
            " |-- Unnamed: 22: boolean (nullable = true)\n",
            "\n",
            "\n",
            "--- First 5 Rows of Data ---\n",
            "+-----+-------------------+--------+--------------------+----------+--------------+------------------+-------+---------------+-------------+----+----------+--------------+---+--------+------+-----------+-----------+----------------+------------+--------------------+-----+------------+-----------+\n",
            "|index|           Order ID|    Date|              Status|Fulfilment|Sales Channel |ship-service-level|  Style|            SKU|     Category|Size|      ASIN|Courier Status|Qty|currency|Amount|  ship-city| ship-state|ship-postal-code|ship-country|       promotion-ids|  B2B|fulfilled-by|Unnamed: 22|\n",
            "+-----+-------------------+--------+--------------------+----------+--------------+------------------+-------+---------------+-------------+----+----------+--------------+---+--------+------+-----------+-----------+----------------+------------+--------------------+-----+------------+-----------+\n",
            "|    0|405-8078784-5731545|04-30-22|           Cancelled|  Merchant|     Amazon.in|          Standard| SET389| SET389-KR-NP-S|          Set|   S|B09KXVBD7Z|          NULL|  0|     INR|647.62|     MUMBAI|MAHARASHTRA|        400081.0|          IN|                NULL|false|   Easy Ship|       NULL|\n",
            "|    1|171-9198151-1101146|04-30-22|Shipped - Deliver...|  Merchant|     Amazon.in|          Standard|JNE3781|JNE3781-KR-XXXL|        kurta| 3XL|B09K3WFS32|       Shipped|  1|     INR| 406.0|  BENGALURU|  KARNATAKA|        560085.0|          IN|Amazon PLCC Free-...|false|   Easy Ship|       NULL|\n",
            "|    2|404-0687676-7273146|04-30-22|             Shipped|    Amazon|     Amazon.in|         Expedited|JNE3371|  JNE3371-KR-XL|        kurta|  XL|B07WV4JV4D|       Shipped|  1|     INR| 329.0|NAVI MUMBAI|MAHARASHTRA|        410210.0|          IN|IN Core Free Ship...| true|        NULL|       NULL|\n",
            "|    3|403-9615377-8133951|04-30-22|           Cancelled|  Merchant|     Amazon.in|          Standard|  J0341|     J0341-DR-L|Western Dress|   L|B099NRCT7B|          NULL|  0|     INR|753.33| PUDUCHERRY| PUDUCHERRY|        605008.0|          IN|                NULL|false|   Easy Ship|       NULL|\n",
            "|    4|407-1069790-7240320|04-30-22|             Shipped|    Amazon|     Amazon.in|         Expedited|JNE3671|JNE3671-TU-XXXL|          Top| 3XL|B098714BZP|       Shipped|  1|     INR| 574.0|    CHENNAI| TAMIL NADU|        600073.0|          IN|                NULL|false|        NULL|       NULL|\n",
            "+-----+-------------------+--------+--------------------+----------+--------------+------------------+-------+---------------+-------------+----+----------+--------------+---+--------+------+-----------+-----------+----------------+------------+--------------------+-----+------------+-----------+\n",
            "only showing top 5 rows\n",
            "\n",
            "\n",
            "Total Records: 128975\n"
          ]
        }
      ]
    },
    {
      "cell_type": "code",
      "source": [
        "## 1. ANALYSIS OF DIMENSIONS (RELATION TO VOLUME)\n",
        "# Calculate the total number of rows (Volume proxy) and columns.\n",
        "row_count = amazon_df.count()\n",
        "col_count = len(amazon_df.columns)\n",
        "\n",
        "# Display the results.\n",
        "print(f\"DataFrame Dimensions (Rows, Columns): ({row_count}, {col_count})\")\n",
        "\n",
        "# --- COMMENTARY ON VOLUME ---\n",
        "# The large number of rows ({row_count}) directly correlates to the **Volume** characteristic of Big Data.\n",
        "# A high record count demonstrates the sheer scale of transactions accumulated over the observation period,\n",
        "# necessitating the use of a distributed computing framework like PySpark for efficient handling."
      ],
      "metadata": {
        "colab": {
          "base_uri": "https://localhost:8080/"
        },
        "id": "6Bh_YRRDz9VX",
        "outputId": "a75e3fbf-15ef-4d7f-f0e6-b540a16c59d6"
      },
      "execution_count": 18,
      "outputs": [
        {
          "output_type": "stream",
          "name": "stdout",
          "text": [
            "DataFrame Dimensions (Rows, Columns): (128975, 24)\n"
          ]
        }
      ]
    },
    {
      "cell_type": "code",
      "source": [
        "from collections import Counter\n",
        "\n",
        "## VARIETY ANALYSIS: LIST ALL TYPES AND SUMMARIZE FREQUENCIES\n",
        "\n",
        "# Get the schema as a list of field objects (StructField objects)\n",
        "data_schema = amazon_df.schema\n",
        "data_type_list = [str(field.dataType) for field in data_schema]\n",
        "\n",
        "# 1. LIST ALL COLUMNS AND THEIR TYPES (Aligned Output)\n",
        "print(\"--- 1. Detailed Column-to-Type Mapping (Variety) ---\")\n",
        "\n",
        "# Find the length of the longest column name for dynamic alignment\n",
        "max_name_length = max(len(field.name) for field in data_schema)\n",
        "\n",
        "# Iterate and print each column with aligned formatting\n",
        "for field in data_schema:\n",
        "    # {field.name:<{max_name_length}} ensures left alignment based on the longest name\n",
        "    print(f\"Column: {field.name:<{max_name_length}} | Data Type: {field.dataType}\")\n",
        "\n",
        "\n",
        "# 2. DATA TYPE FREQUENCY SUMMARY (Table Output)\n",
        "print(\"\\n--- 2. Data Type Frequency Summary (Variety Count) ---\")\n",
        "\n",
        "# Use Counter to count the occurrences of each unique data type\n",
        "type_counts = Counter(data_type_list)\n",
        "\n",
        "# Determine max lengths for alignment in the summary table\n",
        "max_type_len = max(len(type_name) for type_name in type_counts.keys())\n",
        "header_format = f\"| {'Data Type':<{max_type_len}} | {'Count':<5} |\"\n",
        "separator = \"-\" * (max_type_len + 12)\n",
        "\n",
        "# Print Summary Table\n",
        "print(separator)\n",
        "print(header_format)\n",
        "print(separator)\n",
        "\n",
        "# Print Data\n",
        "for data_type, count in type_counts.items():\n",
        "    print(f\"| {data_type:<{max_type_len}} | {count:<5} |\")\n",
        "print(separator)"
      ],
      "metadata": {
        "colab": {
          "base_uri": "https://localhost:8080/"
        },
        "id": "-aSLlq3_0D1g",
        "outputId": "4745b326-f732-4096-9f1f-2aa8c160bb0a"
      },
      "execution_count": 22,
      "outputs": [
        {
          "output_type": "stream",
          "name": "stdout",
          "text": [
            "--- 1. Detailed Column-to-Type Mapping (Variety) ---\n",
            "Column: index              | Data Type: IntegerType()\n",
            "Column: Order ID           | Data Type: StringType()\n",
            "Column: Date               | Data Type: StringType()\n",
            "Column: Status             | Data Type: StringType()\n",
            "Column: Fulfilment         | Data Type: StringType()\n",
            "Column: Sales Channel      | Data Type: StringType()\n",
            "Column: ship-service-level | Data Type: StringType()\n",
            "Column: Style              | Data Type: StringType()\n",
            "Column: SKU                | Data Type: StringType()\n",
            "Column: Category           | Data Type: StringType()\n",
            "Column: Size               | Data Type: StringType()\n",
            "Column: ASIN               | Data Type: StringType()\n",
            "Column: Courier Status     | Data Type: StringType()\n",
            "Column: Qty                | Data Type: IntegerType()\n",
            "Column: currency           | Data Type: StringType()\n",
            "Column: Amount             | Data Type: DoubleType()\n",
            "Column: ship-city          | Data Type: StringType()\n",
            "Column: ship-state         | Data Type: StringType()\n",
            "Column: ship-postal-code   | Data Type: DoubleType()\n",
            "Column: ship-country       | Data Type: StringType()\n",
            "Column: promotion-ids      | Data Type: StringType()\n",
            "Column: B2B                | Data Type: BooleanType()\n",
            "Column: fulfilled-by       | Data Type: StringType()\n",
            "Column: Unnamed: 22        | Data Type: BooleanType()\n",
            "\n",
            "--- 2. Data Type Frequency Summary (Variety Count) ---\n",
            "-------------------------\n",
            "| Data Type     | Count |\n",
            "-------------------------\n",
            "| IntegerType() | 2     |\n",
            "| StringType()  | 18    |\n",
            "| DoubleType()  | 2     |\n",
            "| BooleanType() | 2     |\n",
            "-------------------------\n"
          ]
        }
      ]
    },
    {
      "cell_type": "code",
      "source": [
        "from pyspark.sql.functions import min as spark_min, max as spark_max, datediff, to_date, lit, round as spark_round\n",
        "\n",
        "## 3. ANALYZE DATE RANGE AND TRANSACTION RATE (RELATION TO VELOCITY)\n",
        "\n",
        "# --- Prerequisites: Assuming 'amazon_df' is loaded and 'Date' column is present ---\n",
        "row_count = amazon_df.count()\n",
        "\n",
        "# Convert the 'Date' column to a proper Date type (MM-dd-yy format assumed from previous context)\n",
        "df_with_date = amazon_df.withColumn(\"Order_Date\", to_date(amazon_df[\"Date\"], \"MM-dd-yy\"))\n",
        "\n",
        "# Find the earliest and latest order dates\n",
        "date_analysis = df_with_date.agg(\n",
        "    spark_min(\"Order_Date\").alias(\"Min_Date\"),\n",
        "    spark_max(\"Order_Date\").alias(\"Max_Date\")\n",
        ").collect()[0]\n",
        "\n",
        "min_date = date_analysis['Min_Date']\n",
        "max_date = date_analysis['Max_Date']\n",
        "\n",
        "# Calculate the number of days between the first and last transaction\n",
        "days_span = df_with_date.withColumn(\n",
        "    \"Date_Span\",\n",
        "    datediff(lit(max_date), lit(min_date))\n",
        ").select(spark_max(\"Date_Span\")).collect()[0][0]\n",
        "\n",
        "# --- NEW CALCULATION: AVERAGE TRANSACTION RATE ---\n",
        "\n",
        "# Calculate the average number of transactions per day\n",
        "if days_span > 0:\n",
        "    avg_tx_per_day = round(row_count / days_span)\n",
        "else:\n",
        "    avg_tx_per_day = row_count # Handle case where all transactions are on the same day\n",
        "\n",
        "print(f\"Earliest Order Date: {min_date}\")\n",
        "print(f\"Latest Order Date: {max_date}\")\n",
        "print(f\"Total Span of Data (Days): {days_span}\")\n",
        "print(f\"Total Transactions: {row_count:,}\")\n",
        "\n",
        "# Print the new metric, rounded to 2 decimal places\n",
        "print(f\"Average Transactions per Day: {avg_tx_per_day:,.0f}\")"
      ],
      "metadata": {
        "colab": {
          "base_uri": "https://localhost:8080/"
        },
        "id": "BW016OGZ1G7K",
        "outputId": "584d6b5b-6812-4551-d467-1dd5b5022f91"
      },
      "execution_count": 25,
      "outputs": [
        {
          "output_type": "stream",
          "name": "stdout",
          "text": [
            "Earliest Order Date: 2022-03-31\n",
            "Latest Order Date: 2022-06-29\n",
            "Total Span of Data (Days): 90\n",
            "Total Transactions: 128,975\n",
            "Average Transactions per Day: 1,433\n"
          ]
        }
      ]
    },
    {
      "cell_type": "markdown",
      "source": [
        "# The 3 V's Justify PySpark\n",
        "\n",
        "The analysis of the Amazon sales data confirms its classification as **Big Data** due to the presence of the defining **3 V's**, which collectively necessitate the use of a distributed framework like Apache Spark.\n",
        "\n",
        "* **Volume:** The sheer scale of **128,975** transactions accumulated within a short observation period highlights the significant data **Volume**. This mass of records cannot be efficiently processed or analyzed using single-machine traditional tools.\n",
        "\n",
        "* **Velocity:** The data generation rate, evidenced by the high **Velocity** of approximately **1,433 transactions per day** over a **90-day** span, shows a continuous, fast-flowing data stream. Analyzing trends from such rapidly generated data demands the high-throughput capabilities that PySpark provides.\n",
        "\n",
        "* **Variety:** The dataset demonstrates **Variety** through its blend of data types, including **Strings** (for categorical features like 'Category' and 'City') and **Numeric** types (for 'Qty' and 'Amount'). While currently structured, this inherent diversity, along with the potential future inclusion of unstructured data, reinforces the need for PySpark’s flexible DataFrame API.\n",
        "\n",
        "In conclusion, the challenge presented by the data's **Volume, Velocity, and Variety** confirms that **PySpark is the appropriate technology** to manage, transform, and extract meaningful business insights from this large-scale e-commerce data."
      ],
      "metadata": {
        "id": "z8IzyKCg15g4"
      }
    },
    {
      "cell_type": "markdown",
      "source": [
        "## Section 2 — Hadoop & MapReduce"
      ],
      "metadata": {
        "id": "6Xk4e8OmA1Ji"
      }
    },
    {
      "cell_type": "code",
      "source": [],
      "metadata": {
        "id": "5qLLuW8OA9jE"
      },
      "execution_count": null,
      "outputs": []
    },
    {
      "cell_type": "markdown",
      "source": [
        "## Section 3 — Apache Spark (PySpark): RDD vs DataFrame"
      ],
      "metadata": {
        "id": "0UBRepknBDwU"
      }
    },
    {
      "cell_type": "code",
      "source": [],
      "metadata": {
        "id": "G9UmadKNBEb2"
      },
      "execution_count": null,
      "outputs": []
    },
    {
      "cell_type": "markdown",
      "source": [
        "## Section 4 — Spark SQL & Streaming"
      ],
      "metadata": {
        "id": "GMBTS0JrBEr9"
      }
    },
    {
      "cell_type": "code",
      "source": [],
      "metadata": {
        "id": "RH33FAXCBFSJ"
      },
      "execution_count": null,
      "outputs": []
    },
    {
      "cell_type": "markdown",
      "source": [
        "## Section 5 — Distributed Storage (HDFS & S3)"
      ],
      "metadata": {
        "id": "TlJH1e2KBGXL"
      }
    },
    {
      "cell_type": "code",
      "source": [],
      "metadata": {
        "id": "Teap3X60BG0_"
      },
      "execution_count": null,
      "outputs": []
    },
    {
      "cell_type": "markdown",
      "source": [
        "## Section 6 — Data Processing with PySpark (Filter, Aggregation, Joins)"
      ],
      "metadata": {
        "id": "wAuclFnUBHR1"
      }
    },
    {
      "cell_type": "code",
      "source": [],
      "metadata": {
        "id": "48FczbydBHrD"
      },
      "execution_count": null,
      "outputs": []
    },
    {
      "cell_type": "markdown",
      "source": [
        "## Section 7 — Loading & Reading Data on S3"
      ],
      "metadata": {
        "id": "WBxMxkCmBIPK"
      }
    },
    {
      "cell_type": "code",
      "source": [],
      "metadata": {
        "id": "kMRezMhIBIwj"
      },
      "execution_count": null,
      "outputs": []
    },
    {
      "cell_type": "markdown",
      "source": [
        "## Section 8 — Visualization Tasks"
      ],
      "metadata": {
        "id": "GraQM5SqBrTH"
      }
    },
    {
      "cell_type": "code",
      "source": [],
      "metadata": {
        "id": "G3aXNzk3BuJO"
      },
      "execution_count": null,
      "outputs": []
    },
    {
      "cell_type": "markdown",
      "source": [
        "## Section 9 — Mini Analysis Report (Short Comments)"
      ],
      "metadata": {
        "id": "CxeFwX8XBwMt"
      }
    },
    {
      "cell_type": "code",
      "source": [],
      "metadata": {
        "id": "OsUfam1yBzlU"
      },
      "execution_count": null,
      "outputs": []
    }
  ]
}